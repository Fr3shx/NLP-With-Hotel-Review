{
 "cells": [
  {
   "cell_type": "markdown",
   "metadata": {},
   "source": [
    "***\n",
    "\n",
    "<div style=\"position:relative; float:right\"><img style=\"height:65px\" src =\"https://drive.google.com/uc?export=view&id=1EnB0x-fdqMp6I5iMoEBBEuxB_s7AmE2k\" />\n",
    "</div>\n",
    "</div>"
   ]
  },
  {
   "cell_type": "markdown",
   "metadata": {},
   "source": [
    "***\n",
    "\n",
    "# **NLP With Hotel Review Part 2**\n",
    "\n",
    "By: Robby Khoutsaysana\n",
    "\n",
    "***"
   ]
  },
  {
   "cell_type": "markdown",
   "metadata": {},
   "source": [
    "### **Introduction**\n",
    "\n",
    "In this deliverable, we will develop several machine learning models to correctly label the sentiment behind hotel reviews.\n",
    "\n",
    "Our target column is the `\"rating\"` column, which is a binary column denoting good ratings as 1 and bad ones as 0."
   ]
  },
  {
   "cell_type": "markdown",
   "metadata": {},
   "source": [
    "### **About the Data**\n",
    "\n",
    "We have been provided with a cleaned and preprocessed dataset, which differs from `NLP With Hotel Review Part 1`. \n",
    "\n",
    "[Download the data here](https://api.brainstation.io/content/link/16DkHhup_0nI5LgZzYsdfsfwN60DKaiAN).\n",
    "\n",
    "This dataset is a subset of the Hotel Reviews dataset from Kaggle. More information on the original dataset can be found [here](https://www.kaggle.com/jiashenliu/515k-hotel-reviews-data-in-europe).\n",
    "\n",
    "***"
   ]
  },
  {
   "cell_type": "markdown",
   "metadata": {},
   "source": [
    "To begin, we will import the necessary libraries and load the data."
   ]
  },
  {
   "cell_type": "code",
   "execution_count": 1,
   "metadata": {},
   "outputs": [],
   "source": [
    "# importing libraries\n",
    "import pandas as pd\n",
    "import numpy as np\n",
    "import matplotlib.pyplot as plt\n",
    "import seaborn as sns"
   ]
  },
  {
   "cell_type": "markdown",
   "metadata": {},
   "source": [
    "Next, we will read in the cleaned and preprocessed dataset we will be using for this project. "
   ]
  },
  {
   "cell_type": "code",
   "execution_count": 2,
   "metadata": {},
   "outputs": [
    {
     "name": "stdout",
     "output_type": "stream",
     "text": [
      "Shape of the trainset:  (12798, 2744)\n",
      "Shape of the testset:  (4267, 2744)\n"
     ]
    }
   ],
   "source": [
    "# importing dataset\n",
    "test_set = pd.read_csv('clean_test_dataframe.csv')\n",
    "train_set = pd.read_csv('clean_train_dataframe.csv')\n",
    "\n",
    "# printing the shape of the dataset\n",
    "print('Shape of the trainset: ', train_set.shape)\n",
    "print('Shape of the testset: ', test_set.shape)"
   ]
  },
  {
   "cell_type": "markdown",
   "metadata": {},
   "source": [
    "It looks like our data is already split for us. In this case, we can just assign the train and test data to their respective variables."
   ]
  },
  {
   "cell_type": "code",
   "execution_count": 3,
   "metadata": {},
   "outputs": [
    {
     "name": "stdout",
     "output_type": "stream",
     "text": [
      "Shape of the independent variables in the trainset:  (12798, 2743)\n",
      "Shape of the dependent variables in the trainset:  (12798,)\n",
      "Shape of the independent variables in the testset:  (4267, 2743)\n",
      "Shape of the dependent variables in the testset:  (4267,)\n"
     ]
    }
   ],
   "source": [
    "# splitting the dataset into independent and dependent variables using the rating column as the dependent variable\n",
    "X_train = train_set.drop(columns=['rating'])\n",
    "y_train = train_set['rating']\n",
    "X_test = test_set.drop(columns=['rating'])\n",
    "y_test = test_set['rating']\n",
    "\n",
    "# printing the shape of the independent and dependent variables\n",
    "print('Shape of the independent variables in the trainset: ', X_train.shape)\n",
    "print('Shape of the dependent variables in the trainset: ', y_train.shape)\n",
    "print('Shape of the independent variables in the testset: ', X_test.shape)\n",
    "print('Shape of the dependent variables in the testset: ', y_test.shape)"
   ]
  },
  {
   "cell_type": "markdown",
   "metadata": {},
   "source": [
    "Let's check if the proportions of the target column are split close to 50/50. This is important because if the proportions are not split close to 50/50, this could cause our model to be biased towards the majority class."
   ]
  },
  {
   "cell_type": "code",
   "execution_count": 4,
   "metadata": {},
   "outputs": [
    {
     "name": "stdout",
     "output_type": "stream",
     "text": [
      "Train set class proportions:\n",
      "1    0.576106\n",
      "0    0.423894\n",
      "Name: rating, dtype: float64 \n",
      "\n",
      "Test set class proportions:\n",
      "1    0.576049\n",
      "0    0.423951\n",
      "Name: rating, dtype: float64\n"
     ]
    }
   ],
   "source": [
    "# Check the class proportions again\n",
    "print('Train set class proportions:')\n",
    "print(y_train.value_counts(normalize=True), '\\n')\n",
    "print('Test set class proportions:')\n",
    "print(y_test.value_counts(normalize=True))"
   ]
  },
  {
   "cell_type": "markdown",
   "metadata": {},
   "source": [
    "Great! We now have our X and y for both the train and test data. \n",
    "\n",
    "Since we have been provided with a cleaned and preprocessed dataset, we can jump right into the modeling process.\n",
    "\n",
    "---"
   ]
  },
  {
   "cell_type": "markdown",
   "metadata": {},
   "source": [
    "## **Modeling**"
   ]
  },
  {
   "cell_type": "markdown",
   "metadata": {},
   "source": [
    "### **Logistic Regression**\n",
    "\n",
    "For this model, we will use the `lbfgs` solver and score it. We will also use the `multinomial` option for the `multi_class` parameter, and set the `max_iter` parameter to 1000. This will attempt to converge the model to a solution."
   ]
  },
  {
   "cell_type": "code",
   "execution_count": 5,
   "metadata": {},
   "outputs": [
    {
     "name": "stderr",
     "output_type": "stream",
     "text": [
      "c:\\Python310\\lib\\site-packages\\sklearn\\linear_model\\_logistic.py:444: ConvergenceWarning: lbfgs failed to converge (status=1):\n",
      "STOP: TOTAL NO. of ITERATIONS REACHED LIMIT.\n",
      "\n",
      "Increase the number of iterations (max_iter) or scale the data as shown in:\n",
      "    https://scikit-learn.org/stable/modules/preprocessing.html\n",
      "Please also refer to the documentation for alternative solver options:\n",
      "    https://scikit-learn.org/stable/modules/linear_model.html#logistic-regression\n",
      "  n_iter_i = _check_optimize_result(\n"
     ]
    },
    {
     "name": "stdout",
     "output_type": "stream",
     "text": [
      "Accuracy of the test set:  0.7827004219409283\n",
      "Accuracy of the train set:  0.76728380595266\n"
     ]
    }
   ],
   "source": [
    "# importing the libraries for the model\n",
    "from sklearn.linear_model import LogisticRegression\n",
    "\n",
    "# instantiating the logistic regression model\n",
    "log_reg = LogisticRegression(solver='lbfgs', multi_class='multinomial', max_iter=1000)\n",
    "\n",
    "# fitting the model\n",
    "log_reg.fit(X_train, y_train)\n",
    " \n",
    "# predicting the test set results\n",
    "y_pred = log_reg.predict(X_test)\n",
    " \n",
    "# scoring the train and test set\n",
    "print('Accuracy of the test set: ', log_reg.score(X_train, y_train))\n",
    "print('Accuracy of the train set: ', log_reg.score(X_test, y_test))\n"
   ]
  },
  {
   "cell_type": "markdown",
   "metadata": {},
   "source": [
    "It looks like we have a ConvergenceWarning, which means that the model did not converge. This is because the data is not linearly separable which is why we are getting this warning. To fix this, we will scale the data and try again."
   ]
  },
  {
   "cell_type": "code",
   "execution_count": 6,
   "metadata": {},
   "outputs": [
    {
     "name": "stdout",
     "output_type": "stream",
     "text": [
      "Accuracy of the scaled train set:  0.8856071261134553\n",
      "Accuracy of the scaled test set:  0.7328333723927818\n"
     ]
    }
   ],
   "source": [
    "# importing the libraries for Scaler\n",
    "from sklearn.preprocessing import StandardScaler\n",
    " \n",
    "# instantiating the scaler\n",
    "scaler = StandardScaler()\n",
    "\n",
    "# fitting the scaler\n",
    "scaler.fit(X_train)\n",
    " \n",
    "# transforming the train and test set\n",
    "X_train_scaled = scaler.transform(X_train)\n",
    "X_test_scaled = scaler.transform(X_test)\n",
    " \n",
    "# instantiating the logistic regression model\n",
    "log_reg_scaled = LogisticRegression(solver='lbfgs', multi_class='multinomial', max_iter=1000)\n",
    " \n",
    "# fitting the model\n",
    "log_reg_scaled.fit(X_train_scaled, y_train)\n",
    "\n",
    "# predicting the test set results\n",
    "y_pred_scaled = log_reg_scaled.predict(X_test_scaled)\n",
    " \n",
    "# scoring the train and test set\n",
    "print('Accuracy of the scaled train set: ', log_reg_scaled.score(X_train_scaled, y_train))\n",
    "print('Accuracy of the scaled test set: ', log_reg_scaled.score(X_test_scaled, y_test))"
   ]
  },
  {
   "cell_type": "markdown",
   "metadata": {},
   "source": [
    "Great! We now have a model that has converged with a test score of 0.73.\n",
    "\n",
    "---"
   ]
  },
  {
   "cell_type": "markdown",
   "metadata": {},
   "source": [
    "#### **20 words most predictive of a good review & 20 words most predictive with a bad review**"
   ]
  },
  {
   "cell_type": "markdown",
   "metadata": {},
   "source": [
    "The positive and negative review columns are already in the form of a bag of words, so we need to make sure we are capturing the words from the correct columns. Then we can use the `coef_` attribute of our logistic regression model to get the coefficients for each word. Then use the `sort_values()` method to sort the coefficients in descending order and get the top 20 words and bottom 20 words.\n",
    "\n",
    "**NOTE: We will use both the scaled and unscaled data to show the difference in words.**"
   ]
  },
  {
   "cell_type": "markdown",
   "metadata": {},
   "source": [
    "## **Un-Scaled Data**"
   ]
  },
  {
   "cell_type": "code",
   "execution_count": 7,
   "metadata": {},
   "outputs": [
    {
     "data": {
      "image/png": "[encoded data removed]",
      "text/plain": [
       "<Figure size 720x576 with 1 Axes>"
      ]
     },
     "metadata": {
      "needs_background": "light"
     },
     "output_type": "display_data"
    },
    {
     "data": {
      "image/png": "[encoded data removed]",
      "text/plain": [
       "<Figure size 720x576 with 1 Axes>"
      ]
     },
     "metadata": {
      "needs_background": "light"
     },
     "output_type": "display_data"
    }
   ],
   "source": [
    "# using the coefficients of the logistic regression model\n",
    "feature_importance = pd.DataFrame({'feature': X_train.columns, 'importance': log_reg.coef_[0]})\n",
    "\n",
    "# sorting the values in descending order\n",
    "feature_importance.sort_values(by='importance', ascending=False, inplace=True)\n",
    "\n",
    "# splitting the features to positive and negative based on the first letter of the word\n",
    "# positive features start with 'p' and negative features start with 'n'\n",
    "positive_features = feature_importance[feature_importance['feature'].str.startswith('p')]\n",
    "negative_features = feature_importance[feature_importance['feature'].str.startswith('n')]\n",
    "\n",
    "# getting the top 20 positive features\n",
    "top_20_positive_features = positive_features.head(20)\n",
    "\n",
    "# getting the bottem 20 negative features\n",
    "bottom_20_negative_features = negative_features.tail(20)\n",
    "\n",
    "# plotting the top 20 positive words most predictive of a good review\n",
    "plt.figure(figsize=(10, 8))\n",
    "sns.barplot(x='importance', y='feature', data=top_20_positive_features, palette='Greens_d')\n",
    "plt.title('Top 20 Positive Words of the Un-Scaled Logistic Regression Model')\n",
    "plt.show()\n",
    "\n",
    "# plotting the bottom 20 negative words most predictive of a bad review\n",
    "plt.figure(figsize=(10, 8))\n",
    "sns.barplot(x='importance', y='feature', data=bottom_20_negative_features, palette='Reds_d')\n",
    "plt.title('Bottom 20 Negative Words of the Un-Scaled Logistic Regression Model')\n",
    "plt.show()\n"
   ]
  },
  {
   "cell_type": "markdown",
   "metadata": {},
   "source": [
    "## **Scaled Data**"
   ]
  },
  {
   "cell_type": "code",
   "execution_count": 8,
   "metadata": {},
   "outputs": [
    {
     "data": {
      "image/png": "[encoded data removed]",
      "text/plain": [
       "<Figure size 720x576 with 1 Axes>"
      ]
     },
     "metadata": {
      "needs_background": "light"
     },
     "output_type": "display_data"
    },
    {
     "data": {
      "image/png": "[encoded data removed]",
      "text/plain": [
       "<Figure size 720x576 with 1 Axes>"
      ]
     },
     "metadata": {
      "needs_background": "light"
     },
     "output_type": "display_data"
    }
   ],
   "source": [
    "# using the coefficients of the logistic regression model\n",
    "feature_importance = pd.DataFrame({'feature': X_train.columns, 'importance': log_reg_scaled.coef_[0]})\n",
    "\n",
    "# sorting the values in descending order\n",
    "feature_importance.sort_values(by='importance', ascending=False, inplace=True)\n",
    "\n",
    "# splitting the features to positive and negative based on the first letter of the word\n",
    "# positive features start with 'p' and negative features start with 'n'\n",
    "positive_features = feature_importance[feature_importance['feature'].str.startswith('p')]\n",
    "negative_features = feature_importance[feature_importance['feature'].str.startswith('n')]\n",
    "\n",
    "# getting the top 20 positive features\n",
    "top_20_positive_features = positive_features.head(20)\n",
    "\n",
    "# getting the bottem 20 negative features\n",
    "bottom_20_negative_features = negative_features.tail(20)\n",
    "\n",
    "# plotting the top 20 positive words most predictive of a good review\n",
    "plt.figure(figsize=(10, 8))\n",
    "sns.barplot(x='importance', y='feature', data=top_20_positive_features, palette='Greens_d')\n",
    "plt.title('Top 20 Positive Words of the Scaled Logistic Regression Model')\n",
    "plt.show()\n",
    "\n",
    "# plotting the bottom 20 negative words most predictive of a bad review\n",
    "plt.figure(figsize=(10, 8))\n",
    "sns.barplot(x='importance', y='feature', data=bottom_20_negative_features, palette='Reds_d')\n",
    "plt.title('Bottom 20 Negative Words of the Scaled Logistic Regression Model')\n",
    "plt.show()"
   ]
  },
  {
   "cell_type": "markdown",
   "metadata": {},
   "source": [
    "Notice that when getting the top 20 words for positive and negative reviews, the words are different. This is because scaling the data changes the coefficients. This is important to note when using logistic regression models with scaled data because the words that are most predictive of a good or bad review will be different, and it would be hard to interpret the model if we only use the scaled data.\n",
    "\n",
    "---"
   ]
  },
  {
   "cell_type": "markdown",
   "metadata": {},
   "source": [
    "## **PCA**"
   ]
  },
  {
   "cell_type": "markdown",
   "metadata": {},
   "source": [
    "Lets use the `PCA` class from `sklearn.decomposition` to reduce the dimensionality of our data. We will use the `n_components` parameter to set the number of components to 90% of the variance in our data."
   ]
  },
  {
   "cell_type": "code",
   "execution_count": 9,
   "metadata": {},
   "outputs": [
    {
     "name": "stdout",
     "output_type": "stream",
     "text": [
      "Shape of the original train set:  (12798, 2743)\n",
      "Shape of the PCA transformed train set:  (12798, 1891)\n"
     ]
    }
   ],
   "source": [
    "# importing the libraries for the PCA\n",
    "from sklearn.decomposition import PCA\n",
    "\n",
    "# Lets say we want to keep 90% of the variance\n",
    "my_PCA = PCA(n_components = 0.9)\n",
    "my_PCA.fit(X_train_scaled)\n",
    "\n",
    "# Transform train and test\n",
    "X_train_PCA = my_PCA.transform(X_train_scaled)\n",
    "X_test_PCA = my_PCA.transform(X_test_scaled)\n",
    "\n",
    "# comparing the shape of the train of the original, to the train of the PCA\n",
    "print('Shape of the original train set: ', X_train_scaled.shape)\n",
    "print('Shape of the PCA transformed train set: ', X_train_PCA.shape)"
   ]
  },
  {
   "cell_type": "markdown",
   "metadata": {},
   "source": [
    "We have successfully reduced the dimensionality of our data to 90% of the variance. \n",
    "\n",
    "Now lets use the `timeit` function to time how long it takes to fit a logistic regression model to our data."
   ]
  },
  {
   "cell_type": "code",
   "execution_count": 10,
   "metadata": {},
   "outputs": [
    {
     "name": "stdout",
     "output_type": "stream",
     "text": [
      "The runtime of the original model is:  15.627157000009902\n",
      "The runtime of the PCA model is:  9.814911299967207\n"
     ]
    }
   ],
   "source": [
    "# importing time to check the time it takes to run the model\n",
    "import timeit\n",
    "\n",
    "# comparing the runtime of the original model to the PCA model\n",
    "start = timeit.default_timer()\n",
    "log_reg.fit(X_train_scaled, y_train)\n",
    "stop = timeit.default_timer()\n",
    "print('The runtime of the original model is: ', stop - start)\n",
    " \n",
    "start = timeit.default_timer()\n",
    "log_reg.fit(X_train_PCA, y_train)\n",
    "stop = timeit.default_timer()\n",
    "print('The runtime of the PCA model is: ', stop - start)\n"
   ]
  },
  {
   "cell_type": "markdown",
   "metadata": {},
   "source": [
    "Looking at the results, we can see that the run-time significantly decreases after reducing the dimensionality of our data. This means that the relationship between the number of dimensions and the time it takes to fit a logistic regression model is linear.\n",
    "\n",
    "---"
   ]
  },
  {
   "cell_type": "markdown",
   "metadata": {},
   "source": [
    "#### **Advantage vs Disadvantage of Dimensionality Reduction**"
   ]
  },
  {
   "cell_type": "markdown",
   "metadata": {},
   "source": [
    "The `advantage` of dimensionality reduction is that it can reduce the computational time of our model. This is because we are reducing the number of features in our data, while still maintaining a high accuracy score. We can also reduce the amount of memory needed to store our data.\n",
    "\n",
    "The `disadvantage` of dimensionality reduction is that we are losing information about our data. This can be a problem if we are trying to explain the variance in our data, or if we are trying to use our model to make predictions on new data.\n",
    "\n",
    "---"
   ]
  },
  {
   "cell_type": "markdown",
   "metadata": {},
   "source": [
    "#### **K-Nearest Neighbour classifier**"
   ]
  },
  {
   "cell_type": "markdown",
   "metadata": {},
   "source": [
    "In this section, we will scale our data and fit it to a KNN model. Scaling the data is important because KNN is a distance based model, and the features in our data are on different scales. This means that the distance between the observations will be different for each feature. Scaling will also ensure that the distance between the observations is the same for each feature."
   ]
  },
  {
   "cell_type": "code",
   "execution_count": 11,
   "metadata": {},
   "outputs": [],
   "source": [
    "# scaling the data\n",
    "scaler = StandardScaler()\n",
    " \n",
    "# fitting the scaler to the train set\n",
    "scaler.fit(X_train)\n",
    " \n",
    "# transforming the train and test set\n",
    "X_train_scaled = scaler.transform(X_train)\n",
    "X_test_scaled = scaler.transform(X_test)"
   ]
  },
  {
   "cell_type": "code",
   "execution_count": 12,
   "metadata": {},
   "outputs": [
    {
     "name": "stdout",
     "output_type": "stream",
     "text": [
      "KNN Training score:  0.751211126738553\n",
      "KNN Test score:  0.6367471291305367\n"
     ]
    }
   ],
   "source": [
    "# importing the libraries for KNN\n",
    "from sklearn.neighbors import KNeighborsClassifier\n",
    "\n",
    "# let run a KNN model with the scaled data\n",
    "# instantiating the KNN model\n",
    "knn_scaled = KNeighborsClassifier()\n",
    " \n",
    "# fitting the model to the scaled train set\n",
    "knn_scaled.fit(X_train_scaled, y_train)\n",
    " \n",
    "# predicting the target variable for the scaled test set\n",
    "y_pred_knn_scaled = knn_scaled.predict(X_test_scaled)\n",
    " \n",
    "# training and test score\n",
    "print('KNN Training score: ', knn_scaled.score(X_train_scaled, y_train))\n",
    "print('KNN Test score: ', knn_scaled.score(X_test_scaled, y_test))"
   ]
  },
  {
   "cell_type": "markdown",
   "metadata": {},
   "source": [
    "We now have our baseline KNN model.\n",
    "\n",
    "---"
   ]
  },
  {
   "cell_type": "markdown",
   "metadata": {},
   "source": [
    "#### **KNN is a computationally expensive model.**"
   ]
  },
  {
   "cell_type": "markdown",
   "metadata": {},
   "source": [
    "Lets get a visual representation of the relationship between the number of observations and run-time for KNN. We will do this by using the `timeit` module to time our KNN model with different numbers of observations. We will then plot the results to see the relationship between the number of observations and run-time for KNN."
   ]
  },
  {
   "cell_type": "code",
   "execution_count": 13,
   "metadata": {},
   "outputs": [
    {
     "data": {
      "image/png": "[encoded data removed]",
      "text/plain": [
       "<Figure size 720x576 with 1 Axes>"
      ]
     },
     "metadata": {
      "needs_background": "light"
     },
     "output_type": "display_data"
    }
   ],
   "source": [
    "# importing timeit\n",
    "import timeit\n",
    "\n",
    "# getting a visual of the % reduced observations vs the time it takes to fit the KNN model\n",
    "time = []\n",
    "percent = []\n",
    "\n",
    "for i in range(1, 100, 5):\n",
    "    # getting the number of observations to keep\n",
    "    n = int(len(X_train_scaled) * (i/100))\n",
    "    \n",
    "    # getting the time it takes to fit the model\n",
    "    t = timeit.timeit(lambda: KNeighborsClassifier().fit(X_train_scaled[:n], y_train[:n]), number=1)\n",
    "    \n",
    "    # appending the time and the percent to the list\n",
    "    time.append(t)\n",
    "    percent.append(i)\n",
    "     \n",
    "# plotting the % of the observations vs the time it takes to fit the KNN model\n",
    "plt.figure(figsize=(10, 8))\n",
    "plt.plot(percent, time)\n",
    "plt.title('Time it Takes to Fit the KNN Model vs % of Observations Kept')\n",
    "plt.ylabel('Time')\n",
    "plt.xlabel('% of Observations Kept')\n",
    "plt.show()"
   ]
  },
  {
   "cell_type": "markdown",
   "metadata": {},
   "source": [
    "The relationship between the number of observations and run-time for KNN is linear. This is because the run-time for KNN is directly proportional to the number of observations in our data. KNN is a distance based model, and the more observations we have, the more distance calculations we will have to make.\n",
    "\n",
    "---"
   ]
  },
  {
   "cell_type": "markdown",
   "metadata": {},
   "source": [
    "#### **Advantage vs Disadvantage of reducing the number of observations.**"
   ]
  },
  {
   "cell_type": "markdown",
   "metadata": {},
   "source": [
    "One `advantage` of reducing the number of observations is that it can reduce the computational time of our model. This is because we are reducing the number of observations in our dataset, which means that our model will take less time to train and test. \n",
    "\n",
    "The `disadvantage` of reducing the number of observations is that we are losing information about our data. This can be a problem if we are trying to explain the variance in our data, or if we are trying to use our model to make predictions on new data.\n",
    "\n",
    "---"
   ]
  },
  {
   "cell_type": "markdown",
   "metadata": {},
   "source": [
    "#### **Optimal Value for K**"
   ]
  },
  {
   "cell_type": "markdown",
   "metadata": {},
   "source": [
    "In this section, we will use the dataset to find an optimal value for K in the KNN algorithm. We will do this by splitting our data into train and validation sets and scale the data. Then we will fit our KNN model with different values of K. The value of K that gives us the highest accuracy score on our validation set will be our optimal value for K."
   ]
  },
  {
   "cell_type": "code",
   "execution_count": 14,
   "metadata": {},
   "outputs": [],
   "source": [
    "# import train_test_split\n",
    "from sklearn.model_selection import train_test_split\n",
    "\n",
    "# splitting the data into train and validation set\n",
    "X_train, X_val, y_train, y_val = train_test_split(X_train, y_train, test_size=0.25, random_state=1, stratify=y_train)\n",
    "\n",
    "# scaling the data\n",
    "scaler = StandardScaler()\n",
    " \n",
    "# fitting the scaler to the train set\n",
    "scaler.fit(X_train)\n",
    " \n",
    "# transforming the train and validation set\n",
    "X_train_scaled = scaler.transform(X_train)\n",
    "X_val_scaled = scaler.transform(X_val)"
   ]
  },
  {
   "cell_type": "code",
   "execution_count": 15,
   "metadata": {},
   "outputs": [
    {
     "data": {
      "image/png": "[encoded data removed]",
      "text/plain": [
       "<Figure size 720x576 with 1 Axes>"
      ]
     },
     "metadata": {
      "needs_background": "light"
     },
     "output_type": "display_data"
    }
   ],
   "source": [
    "# using the split set to find the optimal value for K in the KNN algorithm\n",
    "training_accuracy = []\n",
    "validation_accuracy = []\n",
    "\n",
    "# list of K values to try\n",
    "neighbors_settings = range(1, 41, 2)\n",
    "\n",
    "# looping through the K values on scaled data\n",
    "for n_neighbors in neighbors_settings:\n",
    "    # building the model\n",
    "    knn = KNeighborsClassifier(n_neighbors=n_neighbors)\n",
    "    knn.fit(X_train_scaled, y_train)\n",
    "    \n",
    "    # recording the training set accuracy\n",
    "    training_accuracy.append(knn.score(X_train_scaled, y_train))\n",
    "    \n",
    "    # recording the generalization accuracy\n",
    "    validation_accuracy.append(knn.score(X_val_scaled, y_val))\n",
    " \n",
    "# plotting the training and validation accuracy\n",
    "plt.figure(figsize=(10, 8))\n",
    "plt.plot(neighbors_settings, training_accuracy, label='training accuracy')\n",
    "plt.plot(neighbors_settings, validation_accuracy, label='validation accuracy')\n",
    "plt.title('Accuracy vs K Value')\n",
    "plt.ylabel('Accuracy')\n",
    "plt.xlabel('n_neighbors')\n",
    "plt.xticks(neighbors_settings)\n",
    "plt.legend()\n",
    "plt.show()"
   ]
  },
  {
   "cell_type": "markdown",
   "metadata": {},
   "source": [
    "Looking at the results, we can see that the higher the value of K, the more prone our model is to overfitting. Lets look for the value of K that gives us the best accuracy score on our validation set."
   ]
  },
  {
   "cell_type": "code",
   "execution_count": 16,
   "metadata": {},
   "outputs": [
    {
     "name": "stdout",
     "output_type": "stream",
     "text": [
      "The optimal value for K is:  21\n"
     ]
    }
   ],
   "source": [
    "# the optimal value for K\n",
    "optimal_k = neighbors_settings[validation_accuracy.index(max(validation_accuracy))]\n",
    "print('The optimal value for K is: ', optimal_k)"
   ]
  },
  {
   "cell_type": "markdown",
   "metadata": {},
   "source": [
    "Now that we have our optimal value for K, we can fit our KNN model to our data and see how it performs on our test set."
   ]
  },
  {
   "cell_type": "code",
   "execution_count": 17,
   "metadata": {},
   "outputs": [
    {
     "name": "stdout",
     "output_type": "stream",
     "text": [
      "KNN Training score with the optimal value is:  0.6687851635757449\n",
      "KNN Test score with the optimal value is:  0.6449496133114601\n"
     ]
    }
   ],
   "source": [
    "# instantiating the KNN model with the optimal value for K\n",
    "knn = KNeighborsClassifier(n_neighbors=optimal_k)\n",
    " \n",
    "# fitting the model to the train set\n",
    "knn.fit(X_train, y_train)\n",
    " \n",
    "# predicting the target variable for the scaled test set\n",
    "y_pred_knn = knn.predict(X_test)\n",
    " \n",
    "# training and test score\n",
    "print('KNN Training score with the optimal value is: ', knn.score(X_train, y_train))\n",
    "print('KNN Test score with the optimal value is: ', knn.score(X_test, y_test))"
   ]
  },
  {
   "cell_type": "markdown",
   "metadata": {},
   "source": [
    "Great! We now have our optimal KNN model.\n",
    "\n",
    "---"
   ]
  },
  {
   "cell_type": "markdown",
   "metadata": {},
   "source": [
    "The issue with splitting the data into train and validation sets after performing vectorization is that we are introducing bias into our model. This is because we are using information from the validation set to vectorize our data. This means that our model will have an unfair advantage when we test it on the validation set. This is why we should always split our data into train and validation sets before performing vectorization. \n",
    "\n",
    "---"
   ]
  },
  {
   "cell_type": "markdown",
   "metadata": {},
   "source": [
    "### **Decision Tree classifier**"
   ]
  },
  {
   "cell_type": "markdown",
   "metadata": {},
   "source": [
    "Lets fit a Decision Tree model to our data. We will use the `DecisionTreeClassifier` class from `sklearn.tree` to fit our model."
   ]
  },
  {
   "cell_type": "code",
   "execution_count": 18,
   "metadata": {},
   "outputs": [
    {
     "name": "stdout",
     "output_type": "stream",
     "text": [
      "Training score of the Decision Tree model:  1.0\n",
      "Test score of the Decision Tree model:  0.6960393719240684\n"
     ]
    }
   ],
   "source": [
    "# importing the libraries for the Decision Tree model\n",
    "from sklearn.tree import DecisionTreeClassifier\n",
    "\n",
    "# instantiating the Decision Tree model\n",
    "tree = DecisionTreeClassifier()\n",
    "\n",
    "# fitting the model to the scaled train set\n",
    "tree.fit(X_train, y_train)\n",
    " \n",
    "# predicting the target variable for the scaled test set\n",
    "y_pred = tree.predict(X_test)\n",
    " \n",
    "# training and test score\n",
    "print('Training score of the Decision Tree model: ', tree.score(X_train, y_train))\n",
    "print('Test score of the Decision Tree model: ', tree.score(X_test, y_test))"
   ]
  },
  {
   "cell_type": "markdown",
   "metadata": {},
   "source": [
    "We now have our baseline Decision Tree model. Notice that the accuracy score on our test set is lower than the accuracy score on our train set. This is because our model is overfitting to our train set. This is because the Decision Tree model is prone to overfitting.\n",
    "\n",
    "---"
   ]
  },
  {
   "cell_type": "markdown",
   "metadata": {},
   "source": [
    "#### **Finding an optimal value for the maximum depth of the decision tree.**"
   ]
  },
  {
   "cell_type": "markdown",
   "metadata": {},
   "source": [
    "In this section, we will use the dataset to find an optimal value for the maximum depth of the decision tree. We will do this by splitting our data into train and validation sets, and then using a for loop to fit our Decision Tree model with different values of the maximum depth. We will then plot the results to see which value of the maximum depth gives us the best accuracy score."
   ]
  },
  {
   "cell_type": "code",
   "execution_count": 19,
   "metadata": {},
   "outputs": [],
   "source": [
    "# importing train_test_split\n",
    "from sklearn.model_selection import train_test_split\n",
    "\n",
    "# splitting the data into train and validation set\n",
    "X_train, X_val, y_train, y_val = train_test_split(X_train, y_train, test_size=0.25, random_state=1, stratify=y_train)"
   ]
  },
  {
   "cell_type": "code",
   "execution_count": 20,
   "metadata": {},
   "outputs": [
    {
     "data": {
      "image/png": "[encoded data removed]",
      "text/plain": [
       "<Figure size 720x576 with 1 Axes>"
      ]
     },
     "metadata": {
      "needs_background": "light"
     },
     "output_type": "display_data"
    }
   ],
   "source": [
    "# using the split set to find the optimal value for max_depth in the Decision Tree algorithm\n",
    "training_accuracy = []\n",
    "validation_accuracy = []\n",
    " \n",
    "# list of max_depth values to try\n",
    "max_depth_settings = range(1, 21)\n",
    " \n",
    "# looping through the max_depth values on scaled data\n",
    "for max_depth in max_depth_settings:\n",
    "    # building the model\n",
    "    tree = DecisionTreeClassifier(max_depth=max_depth)\n",
    "    tree.fit(X_train, y_train)\n",
    "    \n",
    "    # recording the training set accuracy\n",
    "    training_accuracy.append(tree.score(X_train, y_train))\n",
    "    validation_accuracy.append(tree.score(X_val, y_val))\n",
    "    \n",
    "# plotting the training and validation accuracy\n",
    "plt.figure(figsize=(10, 8))\n",
    "plt.plot(max_depth_settings, training_accuracy, label='training accuracy')\n",
    "plt.plot(max_depth_settings, validation_accuracy, label='validation accuracy')\n",
    "plt.ylabel('Accuracy')\n",
    "plt.xlabel('max_depth')\n",
    "plt.xticks(max_depth_settings)\n",
    "plt.legend()\n",
    "plt.show()"
   ]
  },
  {
   "cell_type": "markdown",
   "metadata": {},
   "source": [
    "We can see a similar pattern to the KNN model. The higher the value of the maximum depth, the more prone our model is to overfitting. Lets look for the value of the maximum depth that gives us the best accuracy score on our validation set."
   ]
  },
  {
   "cell_type": "code",
   "execution_count": 21,
   "metadata": {},
   "outputs": [
    {
     "name": "stdout",
     "output_type": "stream",
     "text": [
      "The optimal value for max_depth is:  6\n"
     ]
    }
   ],
   "source": [
    "# the optimal value for max_depth\n",
    "optimal_depth = max_depth_settings[validation_accuracy.index(max(validation_accuracy))]\n",
    "print('The optimal value for max_depth is: ', optimal_depth)"
   ]
  },
  {
   "cell_type": "markdown",
   "metadata": {},
   "source": [
    "Next, we will fit our Decision Tree model to our data and see how it performs on our test set."
   ]
  },
  {
   "cell_type": "code",
   "execution_count": 22,
   "metadata": {},
   "outputs": [
    {
     "name": "stdout",
     "output_type": "stream",
     "text": [
      "DT Training score with optimal value is:  0.7604890247290914\n",
      "DT Test score with optimal value is:  0.7372861495195688\n"
     ]
    }
   ],
   "source": [
    "# instantiating the Decision Tree model with the optimal value for max_depth\n",
    "tree = DecisionTreeClassifier(max_depth=optimal_depth)\n",
    " \n",
    "# fitting the model to the train set\n",
    "tree.fit(X_train, y_train)\n",
    " \n",
    "# predicting the target variable for the scaled test set\n",
    "y_pred_tree = tree.predict(X_test)\n",
    "\n",
    "# training and test score\n",
    "print('DT Training score with optimal value is: ', tree.score(X_train, y_train))\n",
    "print('DT Test score with optimal value is: ', tree.score(X_test, y_test))"
   ]
  },
  {
   "cell_type": "markdown",
   "metadata": {},
   "source": [
    "Great! We now have our optimal Decision Tree model. It looks like our optimal Decision Tree model is performing better than our optimal KNN model.\n",
    "\n",
    "---"
   ]
  },
  {
   "cell_type": "markdown",
   "metadata": {},
   "source": [
    "#### **Advantages of Decision Trees over KNN.**"
   ]
  },
  {
   "cell_type": "markdown",
   "metadata": {},
   "source": [
    "The `advantages` of decision trees over KNN are that they are more accurate than KNN, and they are easier to interpret. This is because decision trees are a non-parametric model, which means that they do not make any assumptions about the data. They can fit the data better than KNN, which is a distance based model. Decision trees are also easier to interpret because they are a visual model. This means that we can see the rules that our model is using to make predictions.\n",
    "\n",
    "The `weaknesses` of decision trees are that they are prone to overfitting, and they are not as accurate as KNN. This means that they are not as good at making predictions on new data.\n",
    "\n",
    "---"
   ]
  },
  {
   "cell_type": "markdown",
   "metadata": {},
   "source": [
    "#### **What is the purpose of the validation set?**"
   ]
  },
  {
   "cell_type": "markdown",
   "metadata": {},
   "source": [
    "The purpose of the validation set is to test our model on data that it has not seen before. This is different than the test set because the test set is used to test our model on data that it has seen before. This means that the test set is not a good representation of how our model will perform on new data. This is why we should always use a validation set to test our model on data that it has not seen before.\n",
    "\n",
    "---"
   ]
  },
  {
   "cell_type": "markdown",
   "metadata": {},
   "source": [
    "#### **Performing a 5-fold cross validation to optimize the hyperparameters of your model.**"
   ]
  },
  {
   "cell_type": "markdown",
   "metadata": {},
   "source": [
    "In this section, we will perform a 5-fold cross validation to optimize the hyperparameters of our Decision Tree model. We will do this by plotting the results of our cross validation to see which value of the maximum depth gives us the best accuracy score."
   ]
  },
  {
   "cell_type": "code",
   "execution_count": 23,
   "metadata": {},
   "outputs": [
    {
     "data": {
      "image/png": "[encoded data removed]",
      "text/plain": [
       "<Figure size 720x576 with 1 Axes>"
      ]
     },
     "metadata": {
      "needs_background": "light"
     },
     "output_type": "display_data"
    },
    {
     "name": "stdout",
     "output_type": "stream",
     "text": [
      "The optimal value for max_depth is:  6\n"
     ]
    }
   ],
   "source": [
    "# importing libraries for cross validation\n",
    "from sklearn.model_selection import cross_val_score\n",
    "\n",
    "# plotting the 5-fold cross validation scores for the Decision Tree model\n",
    "max_depth_settings = range(1, 21)\n",
    "mean_scores = []\n",
    " \n",
    "# looping through the max_depth values on scaled data\n",
    "for max_depth in max_depth_settings:\n",
    "    # instantiating the Decision Tree model\n",
    "    tree = DecisionTreeClassifier(max_depth=max_depth)\n",
    "    \n",
    "    # fitting the model to 5 folds of the train set\n",
    "    scores = cross_val_score(tree, X_train, y_train, cv=5)\n",
    "    \n",
    "    # appending the mean score to the list\n",
    "    mean_scores.append(scores.mean())\n",
    "     \n",
    "# plotting the mean scores\n",
    "plt.figure(figsize=(10, 8))\n",
    "plt.plot(max_depth_settings, mean_scores, label='mean scores')\n",
    "plt.ylabel('Mean Scores')\n",
    "plt.xlabel('max_depth')\n",
    "plt.xticks(max_depth_settings)\n",
    "plt.legend()\n",
    "plt.show()\n",
    "\n",
    "# printing the optimal value for max_depth\n",
    "cv_optimal_depth = max_depth_settings[mean_scores.index(max(mean_scores))]\n",
    "print('The optimal value for max_depth is: ', cv_optimal_depth)"
   ]
  },
  {
   "cell_type": "markdown",
   "metadata": {},
   "source": [
    "Great! Now that we have our optimal value for the maximum depth, we can fit our Decision Tree model to our data and see how it performs on our test set."
   ]
  },
  {
   "cell_type": "code",
   "execution_count": 24,
   "metadata": {},
   "outputs": [
    {
     "name": "stdout",
     "output_type": "stream",
     "text": [
      "Training score:  0.7604890247290914\n",
      "Test score:  0.7368174361378017\n"
     ]
    }
   ],
   "source": [
    "# instantiating the Decision Tree model with the optimal value for max_depth\n",
    "tree = DecisionTreeClassifier(max_depth=cv_optimal_depth)\n",
    "\n",
    "# fitting the model to the train set\n",
    "tree.fit(X_train, y_train)\n",
    "\n",
    "# predicting the target variable for the scaled test set\n",
    "y_pred_tree = tree.predict(X_test)\n",
    " \n",
    "# training and test score\n",
    "print('Training score: ', tree.score(X_train, y_train))\n",
    "print('Test score: ', tree.score(X_test, y_test))"
   ]
  },
  {
   "cell_type": "markdown",
   "metadata": {},
   "source": [
    "We've now optimized our Decision Tree model using a 5-fold cross validation. It looks like our 5-fold Decision Tree model is performing better than our optimal Decision Tree model. This is because we are using more data to train our model, which means that our model is more likely to generalize well to new data.\n",
    "\n",
    "---"
   ]
  },
  {
   "cell_type": "markdown",
   "metadata": {},
   "source": [
    "#### **Confusion Matrix**"
   ]
  },
  {
   "cell_type": "markdown",
   "metadata": {},
   "source": [
    "Lets begin by reviewing our test scores on our optimized models to see which model performed the best."
   ]
  },
  {
   "cell_type": "code",
   "execution_count": 25,
   "metadata": {},
   "outputs": [
    {
     "name": "stdout",
     "output_type": "stream",
     "text": [
      "KNN Test score with the optimal value is:  0.6449496133114601\n",
      "DT Test score with optimal value is:  0.7368174361378017\n"
     ]
    }
   ],
   "source": [
    "# printing the test scores for all our optimized models\n",
    "print('KNN Test score with the optimal value is: ', knn.score(X_test, y_test))\n",
    "print('DT Test score with optimal value is: ', tree.score(X_test, y_test))"
   ]
  },
  {
   "cell_type": "markdown",
   "metadata": {},
   "source": [
    "It looks like our optimized Decision Tree model is performing the best on our test set. Lets look at the confusion matrix for our optimized Decision Tree model."
   ]
  },
  {
   "cell_type": "code",
   "execution_count": 26,
   "metadata": {},
   "outputs": [
    {
     "data": {
      "image/png": "[encoded data removed]",
      "text/plain": [
       "<Figure size 720x576 with 2 Axes>"
      ]
     },
     "metadata": {
      "needs_background": "light"
     },
     "output_type": "display_data"
    },
    {
     "name": "stdout",
     "output_type": "stream",
     "text": [
      "              precision    recall  f1-score   support\n",
      "\n",
      "           0       0.68      0.72      0.70      1809\n",
      "           1       0.78      0.75      0.77      2458\n",
      "\n",
      "    accuracy                           0.74      4267\n",
      "   macro avg       0.73      0.73      0.73      4267\n",
      "weighted avg       0.74      0.74      0.74      4267\n",
      "\n"
     ]
    }
   ],
   "source": [
    "# importing the confusion matrix\n",
    "from sklearn.metrics import confusion_matrix\n",
    "# importing the classification report\n",
    "from sklearn.metrics import classification_report\n",
    " \n",
    "# confusion matrix for the optimized Decision Tree model\n",
    "cf_matrix = confusion_matrix(y_test, y_pred_tree)\n",
    "\n",
    "# plotting the confusion matrix for the optimized Decision Tree model\n",
    "plt.figure(figsize=(10, 8))\n",
    "sns.heatmap(cf_matrix, annot=True, cmap='Blues', fmt='g')\n",
    "plt.xlabel('Predicted')\n",
    "plt.ylabel('Actual')\n",
    "plt.title('Confusion Matrix for the Decision Tree Model')\n",
    "plt.show()\n",
    "\n",
    "# classification report for the optimized Decision Tree model\n",
    "print(classification_report(y_test, y_pred_tree))"
   ]
  },
  {
   "cell_type": "markdown",
   "metadata": {},
   "source": [
    "Let's use this table as a reference to interpret our confusion matrix.\n",
    "\n",
    "|     |  Predicted Class 0  |   Predicted Class 1  | \n",
    "| --------- |:---:|:---:|\n",
    "|True Class 0|**TN** | **FP** | \n",
    "|True Class 1|**FN** |**TP** | "
   ]
  },
  {
   "cell_type": "markdown",
   "metadata": {},
   "source": [
    "Looking at the results, we can see that our model has an accuracy score of 0.74. This means that our model is correctly classifying 74% of the observations in our test set. But wait a minute! Our precision score and recall score are imbalanced. This means that our model is not performing equally well on both classes, which is causing bias in our model.\n",
    "\n",
    "---"
   ]
  },
  {
   "cell_type": "markdown",
   "metadata": {},
   "source": [
    "#### **Creating a New Feature**\n",
    "\n",
    "When it comes to improving our accuracy score, we need to think about what information our model is missing. For hotel reviews, one thing that is missing is the season that the review was written in. This is important because the season that the review was written in could have an impact on the sentiment of the review. Generally speaking, people are reviewing hotels based on their experience during their stay. This means that the season that the review was written in could have an impact on the sentiment of the review. This is why I think that the season that the review was written in will improve our accuracy score."
   ]
  },
  {
   "cell_type": "markdown",
   "metadata": {},
   "source": [
    "Lets begin by combining our original dataset. This will give us a dataset that contains enough data to create our new feature."
   ]
  },
  {
   "cell_type": "code",
   "execution_count": 27,
   "metadata": {},
   "outputs": [
    {
     "data": {
      "text/plain": [
       "(17065, 2744)"
      ]
     },
     "execution_count": 27,
     "metadata": {},
     "output_type": "execute_result"
    }
   ],
   "source": [
    "# combining our train and test data into one dataframe\n",
    "df = pd.concat([train_set, test_set], axis=0)\n",
    "\n",
    "# checking results\n",
    "df.shape"
   ]
  },
  {
   "cell_type": "markdown",
   "metadata": {},
   "source": [
    "Next, lets create our new feature called `season` using the `month_of_review` column."
   ]
  },
  {
   "cell_type": "code",
   "execution_count": 28,
   "metadata": {},
   "outputs": [
    {
     "data": {
      "text/plain": [
       "season\n",
       "winter    4625\n",
       "spring    4440\n",
       "summer    4181\n",
       "fall      3819\n",
       "dtype: int64"
      ]
     },
     "execution_count": 28,
     "metadata": {},
     "output_type": "execute_result"
    }
   ],
   "source": [
    "# creating a new feature called 'season' based on the 'month_of_review' feature\n",
    "df['season'] = df['month_of_review'].apply(lambda x: 'winter' if x in [12, 1, 2] \n",
    "                                           else ('spring' if x in [3, 4, 5] \n",
    "                                                 else ('summer' if x in [6, 7, 8] \n",
    "                                                       else 'fall')))\n",
    "\n",
    "# checking results\n",
    "df.value_counts('season')"
   ]
  },
  {
   "cell_type": "markdown",
   "metadata": {},
   "source": [
    "Next, lets convert our new feature into binary variables using the `get_dummies` function from `pandas`. Doing this will allow us to use our new feature in our model."
   ]
  },
  {
   "cell_type": "code",
   "execution_count": 29,
   "metadata": {},
   "outputs": [
    {
     "data": {
      "text/html": [
       "<div>\n",
       "<style scoped>\n",
       "    .dataframe tbody tr th:only-of-type {\n",
       "        vertical-align: middle;\n",
       "    }\n",
       "\n",
       "    .dataframe tbody tr th {\n",
       "        vertical-align: top;\n",
       "    }\n",
       "\n",
       "    .dataframe thead th {\n",
       "        text-align: right;\n",
       "    }\n",
       "</style>\n",
       "<table border=\"1\" class=\"dataframe\">\n",
       "  <thead>\n",
       "    <tr style=\"text-align: right;\">\n",
       "      <th></th>\n",
       "      <th>Additional_Number_of_Scoring</th>\n",
       "      <th>Average_Score</th>\n",
       "      <th>Review_Total_Negative_Word_Counts</th>\n",
       "      <th>Total_Number_of_Reviews</th>\n",
       "      <th>Review_Total_Positive_Word_Counts</th>\n",
       "      <th>Total_Number_of_Reviews_Reviewer_Has_Given</th>\n",
       "      <th>days_since_review</th>\n",
       "      <th>lat</th>\n",
       "      <th>lng</th>\n",
       "      <th>weekday_of_review</th>\n",
       "      <th>...</th>\n",
       "      <th>n_write</th>\n",
       "      <th>n_wrong</th>\n",
       "      <th>n_year</th>\n",
       "      <th>n_yes</th>\n",
       "      <th>n_yet</th>\n",
       "      <th>n_young</th>\n",
       "      <th>rating</th>\n",
       "      <th>season_spring</th>\n",
       "      <th>season_summer</th>\n",
       "      <th>season_winter</th>\n",
       "    </tr>\n",
       "  </thead>\n",
       "  <tbody>\n",
       "    <tr>\n",
       "      <th>0</th>\n",
       "      <td>620</td>\n",
       "      <td>9.0</td>\n",
       "      <td>0</td>\n",
       "      <td>1974</td>\n",
       "      <td>164</td>\n",
       "      <td>1</td>\n",
       "      <td>562</td>\n",
       "      <td>51.506558</td>\n",
       "      <td>-0.004514</td>\n",
       "      <td>1</td>\n",
       "      <td>...</td>\n",
       "      <td>0</td>\n",
       "      <td>0</td>\n",
       "      <td>0</td>\n",
       "      <td>0</td>\n",
       "      <td>0</td>\n",
       "      <td>0</td>\n",
       "      <td>1</td>\n",
       "      <td>0</td>\n",
       "      <td>0</td>\n",
       "      <td>1</td>\n",
       "    </tr>\n",
       "    <tr>\n",
       "      <th>1</th>\n",
       "      <td>1258</td>\n",
       "      <td>9.4</td>\n",
       "      <td>6</td>\n",
       "      <td>4204</td>\n",
       "      <td>4</td>\n",
       "      <td>5</td>\n",
       "      <td>276</td>\n",
       "      <td>51.502435</td>\n",
       "      <td>-0.000250</td>\n",
       "      <td>0</td>\n",
       "      <td>...</td>\n",
       "      <td>0</td>\n",
       "      <td>0</td>\n",
       "      <td>0</td>\n",
       "      <td>0</td>\n",
       "      <td>0</td>\n",
       "      <td>0</td>\n",
       "      <td>1</td>\n",
       "      <td>0</td>\n",
       "      <td>0</td>\n",
       "      <td>0</td>\n",
       "    </tr>\n",
       "    <tr>\n",
       "      <th>2</th>\n",
       "      <td>995</td>\n",
       "      <td>8.1</td>\n",
       "      <td>2</td>\n",
       "      <td>3826</td>\n",
       "      <td>38</td>\n",
       "      <td>1</td>\n",
       "      <td>129</td>\n",
       "      <td>51.504348</td>\n",
       "      <td>-0.033444</td>\n",
       "      <td>0</td>\n",
       "      <td>...</td>\n",
       "      <td>0</td>\n",
       "      <td>0</td>\n",
       "      <td>0</td>\n",
       "      <td>0</td>\n",
       "      <td>0</td>\n",
       "      <td>0</td>\n",
       "      <td>1</td>\n",
       "      <td>1</td>\n",
       "      <td>0</td>\n",
       "      <td>0</td>\n",
       "    </tr>\n",
       "    <tr>\n",
       "      <th>3</th>\n",
       "      <td>853</td>\n",
       "      <td>8.4</td>\n",
       "      <td>7</td>\n",
       "      <td>2726</td>\n",
       "      <td>10</td>\n",
       "      <td>10</td>\n",
       "      <td>164</td>\n",
       "      <td>51.507377</td>\n",
       "      <td>0.038657</td>\n",
       "      <td>0</td>\n",
       "      <td>...</td>\n",
       "      <td>0</td>\n",
       "      <td>0</td>\n",
       "      <td>0</td>\n",
       "      <td>0</td>\n",
       "      <td>0</td>\n",
       "      <td>0</td>\n",
       "      <td>0</td>\n",
       "      <td>0</td>\n",
       "      <td>0</td>\n",
       "      <td>1</td>\n",
       "    </tr>\n",
       "    <tr>\n",
       "      <th>4</th>\n",
       "      <td>1243</td>\n",
       "      <td>8.1</td>\n",
       "      <td>11</td>\n",
       "      <td>6608</td>\n",
       "      <td>8</td>\n",
       "      <td>69</td>\n",
       "      <td>639</td>\n",
       "      <td>51.513556</td>\n",
       "      <td>-0.180002</td>\n",
       "      <td>1</td>\n",
       "      <td>...</td>\n",
       "      <td>0</td>\n",
       "      <td>0</td>\n",
       "      <td>0</td>\n",
       "      <td>0</td>\n",
       "      <td>0</td>\n",
       "      <td>0</td>\n",
       "      <td>0</td>\n",
       "      <td>0</td>\n",
       "      <td>0</td>\n",
       "      <td>0</td>\n",
       "    </tr>\n",
       "  </tbody>\n",
       "</table>\n",
       "<p>5 rows × 2747 columns</p>\n",
       "</div>"
      ],
      "text/plain": [
       "   Additional_Number_of_Scoring  Average_Score  \\\n",
       "0                           620            9.0   \n",
       "1                          1258            9.4   \n",
       "2                           995            8.1   \n",
       "3                           853            8.4   \n",
       "4                          1243            8.1   \n",
       "\n",
       "   Review_Total_Negative_Word_Counts  Total_Number_of_Reviews  \\\n",
       "0                                  0                     1974   \n",
       "1                                  6                     4204   \n",
       "2                                  2                     3826   \n",
       "3                                  7                     2726   \n",
       "4                                 11                     6608   \n",
       "\n",
       "   Review_Total_Positive_Word_Counts  \\\n",
       "0                                164   \n",
       "1                                  4   \n",
       "2                                 38   \n",
       "3                                 10   \n",
       "4                                  8   \n",
       "\n",
       "   Total_Number_of_Reviews_Reviewer_Has_Given  days_since_review        lat  \\\n",
       "0                                           1                562  51.506558   \n",
       "1                                           5                276  51.502435   \n",
       "2                                           1                129  51.504348   \n",
       "3                                          10                164  51.507377   \n",
       "4                                          69                639  51.513556   \n",
       "\n",
       "        lng  weekday_of_review  ...  n_write  n_wrong  n_year  n_yes  n_yet  \\\n",
       "0 -0.004514                  1  ...        0        0       0      0      0   \n",
       "1 -0.000250                  0  ...        0        0       0      0      0   \n",
       "2 -0.033444                  0  ...        0        0       0      0      0   \n",
       "3  0.038657                  0  ...        0        0       0      0      0   \n",
       "4 -0.180002                  1  ...        0        0       0      0      0   \n",
       "\n",
       "   n_young  rating  season_spring  season_summer  season_winter  \n",
       "0        0       1              0              0              1  \n",
       "1        0       1              0              0              0  \n",
       "2        0       1              1              0              0  \n",
       "3        0       0              0              0              1  \n",
       "4        0       0              0              0              0  \n",
       "\n",
       "[5 rows x 2747 columns]"
      ]
     },
     "execution_count": 29,
     "metadata": {},
     "output_type": "execute_result"
    }
   ],
   "source": [
    "# using get_dummies to create dummy variables for the 'hotel_quality' feature\n",
    "df = pd.get_dummies(df, columns=['season'], drop_first=True)\n",
    " \n",
    "# checking results\n",
    "df.head()"
   ]
  },
  {
   "cell_type": "markdown",
   "metadata": {},
   "source": [
    "Great! Our new feature has been transformed into a binary feature. \n",
    "\n",
    "Now we can begin to split our data into train and test sets. We will split our data the same portion as we were given in the original dataset, which is 75% train and 25% test. We will also use the `random_state` parameter to ensure that we get the same results every time we run our code, and the `stratify` parameter to ensure that our train and test sets have the same proportion of positive and negative reviews."
   ]
  },
  {
   "cell_type": "code",
   "execution_count": 30,
   "metadata": {},
   "outputs": [
    {
     "name": "stdout",
     "output_type": "stream",
     "text": [
      "X_train shape:  (12798, 2746)\n",
      "X_test shape:  (4267, 2746)\n",
      "y_train shape:  (12798,)\n",
      "y_test shape:  (4267,)\n"
     ]
    }
   ],
   "source": [
    "# splitting the data with 'rating' as the target variable\n",
    "X = df.drop('rating', axis=1)\n",
    "y = df['rating']\n",
    "\n",
    "# importing train_test_split\n",
    "from sklearn.model_selection import train_test_split\n",
    " \n",
    "# splitting the data into train and test set\n",
    "X_train, X_test, y_train, y_test = train_test_split(X, y, test_size=0.25, random_state=1, stratify=y)\n",
    " \n",
    "# checking the shape of the train and test set\n",
    "print('X_train shape: ', X_train.shape)\n",
    "print('X_test shape: ', X_test.shape)\n",
    "print('y_train shape: ', y_train.shape)\n",
    "print('y_test shape: ', y_test.shape)"
   ]
  },
  {
   "cell_type": "markdown",
   "metadata": {},
   "source": [
    "As we can see, the shape of our new dataframe is slightly larger than the shape of our original. This is because we have added 3 new columns to our dataframe.\n",
    "\n",
    "---"
   ]
  },
  {
   "cell_type": "markdown",
   "metadata": {},
   "source": [
    "Next, we will run our model again. We will have to re-optimize our hyperparameters, then see if the accuracy score of our best model has improved on the test set after adding the new feature we created."
   ]
  },
  {
   "cell_type": "code",
   "execution_count": 31,
   "metadata": {},
   "outputs": [
    {
     "data": {
      "image/png": "[encoded data removed]",
      "text/plain": [
       "<Figure size 720x576 with 1 Axes>"
      ]
     },
     "metadata": {
      "needs_background": "light"
     },
     "output_type": "display_data"
    },
    {
     "name": "stdout",
     "output_type": "stream",
     "text": [
      "The optimal value for max_depth is:  7\n"
     ]
    }
   ],
   "source": [
    "# importing libraries\n",
    "from sklearn.model_selection import cross_val_score\n",
    "from sklearn.tree import DecisionTreeClassifier\n",
    "\n",
    "# plotting the 5-fold cross validation scores for the Decision Tree model\n",
    "max_depth_settings = range(1, 11)\n",
    "mean_scores = []\n",
    " \n",
    "# looping through the max_depth values on scaled data\n",
    "for max_depth in max_depth_settings:\n",
    "    # instantiating the Decision Tree model\n",
    "    tree = DecisionTreeClassifier(max_depth=max_depth)\n",
    "    \n",
    "    # fitting the model to 5 folds of the train set\n",
    "    scores = cross_val_score(tree, X_train, y_train, cv=5)\n",
    "    \n",
    "    # appending the mean score to the list\n",
    "    mean_scores.append(scores.mean())\n",
    "     \n",
    "# plotting the mean scores\n",
    "plt.figure(figsize=(10, 8))\n",
    "plt.plot(max_depth_settings, mean_scores, label='mean scores')\n",
    "plt.ylabel('Mean Scores')\n",
    "plt.xlabel('max_depth')\n",
    "plt.xticks(max_depth_settings)\n",
    "plt.legend()\n",
    "plt.show()\n",
    "\n",
    "# printing the optimal value for max_depth\n",
    "cv_optimal_depth = max_depth_settings[mean_scores.index(max(mean_scores))]\n",
    "print('The optimal value for max_depth is: ', cv_optimal_depth)"
   ]
  },
  {
   "cell_type": "markdown",
   "metadata": {},
   "source": [
    "Next, we will fit our optimal value for the maximum depth to our Decision Tree model and see how it performs on our test set."
   ]
  },
  {
   "cell_type": "code",
   "execution_count": 32,
   "metadata": {},
   "outputs": [
    {
     "name": "stdout",
     "output_type": "stream",
     "text": [
      "Training score:  0.7757462103453665\n",
      "Test score:  0.7550972580267167\n"
     ]
    }
   ],
   "source": [
    "# instantiating the Decision Tree model with the optimal value for max_depth\n",
    "tree = DecisionTreeClassifier(max_depth=cv_optimal_depth)\n",
    " \n",
    "# fitting the model to the train set\n",
    "tree.fit(X_train, y_train)\n",
    " \n",
    "# predicting the target variable for the scaled test set\n",
    "y_pred_tree_2 = tree.predict(X_test)\n",
    " \n",
    "# training and test score\n",
    "print('Training score: ', tree.score(X_train, y_train))\n",
    "print('Test score: ', tree.score(X_test, y_test))"
   ]
  },
  {
   "cell_type": "markdown",
   "metadata": {},
   "source": [
    "Fantastic! Our accuracy score has improved from 0.74 to 0.75. This means that our new feature has improved our accuracy score.\n",
    "\n",
    "Next, lets look at the confusion matrix for our optimized Decision Tree model and see how our new feature has improved our precision and recall scores."
   ]
  },
  {
   "cell_type": "code",
   "execution_count": 33,
   "metadata": {},
   "outputs": [
    {
     "data": {
      "image/png": "[encoded data removed]",
      "text/plain": [
       "<Figure size 720x576 with 2 Axes>"
      ]
     },
     "metadata": {
      "needs_background": "light"
     },
     "output_type": "display_data"
    },
    {
     "name": "stdout",
     "output_type": "stream",
     "text": [
      "              precision    recall  f1-score   support\n",
      "\n",
      "           0       0.73      0.67      0.70      1809\n",
      "           1       0.77      0.82      0.79      2458\n",
      "\n",
      "    accuracy                           0.76      4267\n",
      "   macro avg       0.75      0.74      0.75      4267\n",
      "weighted avg       0.75      0.76      0.75      4267\n",
      "\n"
     ]
    }
   ],
   "source": [
    "# importing the classification report\n",
    "from sklearn.metrics import classification_report\n",
    "# importing the confusion matrix\n",
    "from sklearn.metrics import confusion_matrix\n",
    "\n",
    "# confusion matrix for the optimized Decision Tree model\n",
    "cf_matrix = confusion_matrix(y_test, y_pred_tree_2)\n",
    " \n",
    "# plotting the confusion matrix for the optimized Decision Tree model\n",
    "plt.figure(figsize=(10, 8))\n",
    "sns.heatmap(cf_matrix, annot=True, cmap='Blues', fmt='g')\n",
    "plt.xlabel('Predicted')\n",
    "plt.ylabel('Actual')\n",
    "plt.title('Confusion Matrix for the Decision Tree Model')\n",
    "plt.show()\n",
    "\n",
    "# classification report for the optimized Decision Tree model\n",
    "print(classification_report(y_test, y_pred_tree_2))"
   ]
  },
  {
   "cell_type": "markdown",
   "metadata": {},
   "source": [
    "Let's use this table as a reference to interpret our confusion matrix.\n",
    "\n",
    "|     |  Predicted Class 0  |   Predicted Class 1  | \n",
    "| --------- |:---:|:---:|\n",
    "|True Class 0|**TN** | **FP** | \n",
    "|True Class 1|**FN** |**TP** | "
   ]
  },
  {
   "cell_type": "markdown",
   "metadata": {},
   "source": [
    "This time, we are seeing an overall improvement in our precision and recall scores. This means that our new feature has improved our model. But unfortunately, there is still an imbalance in our data, which means that our model is more likely to predict a positive review than a negative review. \n",
    "\n",
    "---"
   ]
  },
  {
   "cell_type": "markdown",
   "metadata": {},
   "source": [
    "## **Conclusion**\n",
    "\n",
    "In this project, we learned how to build a machine learning model that can predict the sentiment of a hotel review. This included creating a baseline model, optimizing our models, and creating a new feature. We also learned how to interpret the results of our models. This included looking at the confusion matrix, accuracy score, precision score, and recall score. In the end, we were able to build a model that can predict the sentiment of a hotel review with an accuracy score of 0.76. This means that our model is correctly classifying 76% of the reviews in our test set."
   ]
  }
 ],
 "metadata": {
  "kernelspec": {
   "display_name": "Python 3.10.5 64-bit",
   "language": "python",
   "name": "python3"
  },
  "language_info": {
   "codemirror_mode": {
    "name": "ipython",
    "version": 3
   },
   "file_extension": ".py",
   "mimetype": "text/x-python",
   "name": "python",
   "nbconvert_exporter": "python",
   "pygments_lexer": "ipython3",
   "version": "3.10.8"
  },
  "orig_nbformat": 4,
  "vscode": {
   "interpreter": {
    "hash": "369f2c481f4da34e4445cda3fffd2e751bd1c4d706f27375911949ba6bb62e1c"
   }
  }
 },
 "nbformat": 4,
 "nbformat_minor": 2
}
