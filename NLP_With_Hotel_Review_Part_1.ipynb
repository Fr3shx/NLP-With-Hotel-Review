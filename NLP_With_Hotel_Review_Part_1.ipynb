{
 "cells": [
  {
   "cell_type": "markdown",
   "metadata": {},
   "source": [
    "***\n",
    "\n",
    "<div style=\"position:relative; float:right\"><img style=\"height:65px\" src =\"https://drive.google.com/uc?export=view&id=1EnB0x-fdqMp6I5iMoEBBEuxB_s7AmE2k\" />\n",
    "</div>\n",
    "</div>"
   ]
  },
  {
   "cell_type": "markdown",
   "metadata": {},
   "source": [
    "***\n",
    "\n",
    "# **NLP With Hotel Review Part 1**\n",
    "\n",
    "By: Robby Khoutsaysana\n",
    "\n",
    "***"
   ]
  },
  {
   "cell_type": "markdown",
   "metadata": {},
   "source": [
    "In this project, we will begin with some Exploratory Data Analysis (EDA), and then move into data augmentation, modelling, and iteration over model improvements."
   ]
  },
  {
   "cell_type": "markdown",
   "metadata": {},
   "source": [
    "First let's look at the data set, which you can download from the [here](https://api.brainstation.io/content/link/1ZaOufpJjCLzUS8VaUnrgvjiupiwqWdC_)."
   ]
  },
  {
   "cell_type": "markdown",
   "metadata": {},
   "source": [
    "Let's begin by importing some of the necessary libraries we will be using in this project."
   ]
  },
  {
   "cell_type": "code",
   "execution_count": 3,
   "metadata": {},
   "outputs": [],
   "source": [
    "# importing libraries\n",
    "import numpy as np\n",
    "import pandas as pd\n",
    "import matplotlib.pyplot as plt\n",
    "import seaborn as sns\n",
    "sns.set() # setting seaborn default for plots"
   ]
  },
  {
   "cell_type": "markdown",
   "metadata": {},
   "source": [
    "Next, let's read in the data set and take a look at the first few rows."
   ]
  },
  {
   "cell_type": "code",
   "execution_count": 4,
   "metadata": {},
   "outputs": [
    {
     "data": {
      "text/html": [
       "<div>\n",
       "<style scoped>\n",
       "    .dataframe tbody tr th:only-of-type {\n",
       "        vertical-align: middle;\n",
       "    }\n",
       "\n",
       "    .dataframe tbody tr th {\n",
       "        vertical-align: top;\n",
       "    }\n",
       "\n",
       "    .dataframe thead th {\n",
       "        text-align: right;\n",
       "    }\n",
       "</style>\n",
       "<table border=\"1\" class=\"dataframe\">\n",
       "  <thead>\n",
       "    <tr style=\"text-align: right;\">\n",
       "      <th></th>\n",
       "      <th>Hotel_Address</th>\n",
       "      <th>Additional_Number_of_Scoring</th>\n",
       "      <th>Review_Date</th>\n",
       "      <th>Average_Score</th>\n",
       "      <th>Hotel_Name</th>\n",
       "      <th>Reviewer_Nationality</th>\n",
       "      <th>Negative_Review</th>\n",
       "      <th>Review_Total_Negative_Word_Counts</th>\n",
       "      <th>Total_Number_of_Reviews</th>\n",
       "      <th>Positive_Review</th>\n",
       "      <th>Review_Total_Positive_Word_Counts</th>\n",
       "      <th>Total_Number_of_Reviews_Reviewer_Has_Given</th>\n",
       "      <th>Reviewer_Score</th>\n",
       "      <th>Tags</th>\n",
       "      <th>days_since_review</th>\n",
       "      <th>lat</th>\n",
       "      <th>lng</th>\n",
       "    </tr>\n",
       "  </thead>\n",
       "  <tbody>\n",
       "    <tr>\n",
       "      <th>0</th>\n",
       "      <td>s Gravesandestraat 55 Oost 1092 AA Amsterdam ...</td>\n",
       "      <td>194</td>\n",
       "      <td>8/3/2017</td>\n",
       "      <td>7.7</td>\n",
       "      <td>Hotel Arena</td>\n",
       "      <td>Russia</td>\n",
       "      <td>I am so angry that i made this post available...</td>\n",
       "      <td>397</td>\n",
       "      <td>1403</td>\n",
       "      <td>Only the park outside of the hotel was beauti...</td>\n",
       "      <td>11</td>\n",
       "      <td>7</td>\n",
       "      <td>2.9</td>\n",
       "      <td>[' Leisure trip ', ' Couple ', ' Duplex Double...</td>\n",
       "      <td>0 days</td>\n",
       "      <td>52.360576</td>\n",
       "      <td>4.915968</td>\n",
       "    </tr>\n",
       "    <tr>\n",
       "      <th>1</th>\n",
       "      <td>s Gravesandestraat 55 Oost 1092 AA Amsterdam ...</td>\n",
       "      <td>194</td>\n",
       "      <td>8/3/2017</td>\n",
       "      <td>7.7</td>\n",
       "      <td>Hotel Arena</td>\n",
       "      <td>Ireland</td>\n",
       "      <td>No Negative</td>\n",
       "      <td>0</td>\n",
       "      <td>1403</td>\n",
       "      <td>No real complaints the hotel was great great ...</td>\n",
       "      <td>105</td>\n",
       "      <td>7</td>\n",
       "      <td>7.5</td>\n",
       "      <td>[' Leisure trip ', ' Couple ', ' Duplex Double...</td>\n",
       "      <td>0 days</td>\n",
       "      <td>52.360576</td>\n",
       "      <td>4.915968</td>\n",
       "    </tr>\n",
       "    <tr>\n",
       "      <th>2</th>\n",
       "      <td>s Gravesandestraat 55 Oost 1092 AA Amsterdam ...</td>\n",
       "      <td>194</td>\n",
       "      <td>7/31/2017</td>\n",
       "      <td>7.7</td>\n",
       "      <td>Hotel Arena</td>\n",
       "      <td>Australia</td>\n",
       "      <td>Rooms are nice but for elderly a bit difficul...</td>\n",
       "      <td>42</td>\n",
       "      <td>1403</td>\n",
       "      <td>Location was good and staff were ok It is cut...</td>\n",
       "      <td>21</td>\n",
       "      <td>9</td>\n",
       "      <td>7.1</td>\n",
       "      <td>[' Leisure trip ', ' Family with young childre...</td>\n",
       "      <td>3 days</td>\n",
       "      <td>52.360576</td>\n",
       "      <td>4.915968</td>\n",
       "    </tr>\n",
       "    <tr>\n",
       "      <th>3</th>\n",
       "      <td>s Gravesandestraat 55 Oost 1092 AA Amsterdam ...</td>\n",
       "      <td>194</td>\n",
       "      <td>7/31/2017</td>\n",
       "      <td>7.7</td>\n",
       "      <td>Hotel Arena</td>\n",
       "      <td>United Kingdom</td>\n",
       "      <td>My room was dirty and I was afraid to walk ba...</td>\n",
       "      <td>210</td>\n",
       "      <td>1403</td>\n",
       "      <td>Great location in nice surroundings the bar a...</td>\n",
       "      <td>26</td>\n",
       "      <td>1</td>\n",
       "      <td>3.8</td>\n",
       "      <td>[' Leisure trip ', ' Solo traveler ', ' Duplex...</td>\n",
       "      <td>3 days</td>\n",
       "      <td>52.360576</td>\n",
       "      <td>4.915968</td>\n",
       "    </tr>\n",
       "    <tr>\n",
       "      <th>4</th>\n",
       "      <td>s Gravesandestraat 55 Oost 1092 AA Amsterdam ...</td>\n",
       "      <td>194</td>\n",
       "      <td>7/24/2017</td>\n",
       "      <td>7.7</td>\n",
       "      <td>Hotel Arena</td>\n",
       "      <td>New Zealand</td>\n",
       "      <td>You When I booked with your company on line y...</td>\n",
       "      <td>140</td>\n",
       "      <td>1403</td>\n",
       "      <td>Amazing location and building Romantic setting</td>\n",
       "      <td>8</td>\n",
       "      <td>3</td>\n",
       "      <td>6.7</td>\n",
       "      <td>[' Leisure trip ', ' Couple ', ' Suite ', ' St...</td>\n",
       "      <td>10 days</td>\n",
       "      <td>52.360576</td>\n",
       "      <td>4.915968</td>\n",
       "    </tr>\n",
       "  </tbody>\n",
       "</table>\n",
       "</div>"
      ],
      "text/plain": [
       "                                       Hotel_Address  \\\n",
       "0   s Gravesandestraat 55 Oost 1092 AA Amsterdam ...   \n",
       "1   s Gravesandestraat 55 Oost 1092 AA Amsterdam ...   \n",
       "2   s Gravesandestraat 55 Oost 1092 AA Amsterdam ...   \n",
       "3   s Gravesandestraat 55 Oost 1092 AA Amsterdam ...   \n",
       "4   s Gravesandestraat 55 Oost 1092 AA Amsterdam ...   \n",
       "\n",
       "   Additional_Number_of_Scoring Review_Date  Average_Score   Hotel_Name  \\\n",
       "0                           194    8/3/2017            7.7  Hotel Arena   \n",
       "1                           194    8/3/2017            7.7  Hotel Arena   \n",
       "2                           194   7/31/2017            7.7  Hotel Arena   \n",
       "3                           194   7/31/2017            7.7  Hotel Arena   \n",
       "4                           194   7/24/2017            7.7  Hotel Arena   \n",
       "\n",
       "  Reviewer_Nationality                                    Negative_Review  \\\n",
       "0              Russia    I am so angry that i made this post available...   \n",
       "1             Ireland                                         No Negative   \n",
       "2           Australia    Rooms are nice but for elderly a bit difficul...   \n",
       "3      United Kingdom    My room was dirty and I was afraid to walk ba...   \n",
       "4         New Zealand    You When I booked with your company on line y...   \n",
       "\n",
       "   Review_Total_Negative_Word_Counts  Total_Number_of_Reviews  \\\n",
       "0                                397                     1403   \n",
       "1                                  0                     1403   \n",
       "2                                 42                     1403   \n",
       "3                                210                     1403   \n",
       "4                                140                     1403   \n",
       "\n",
       "                                     Positive_Review  \\\n",
       "0   Only the park outside of the hotel was beauti...   \n",
       "1   No real complaints the hotel was great great ...   \n",
       "2   Location was good and staff were ok It is cut...   \n",
       "3   Great location in nice surroundings the bar a...   \n",
       "4    Amazing location and building Romantic setting    \n",
       "\n",
       "   Review_Total_Positive_Word_Counts  \\\n",
       "0                                 11   \n",
       "1                                105   \n",
       "2                                 21   \n",
       "3                                 26   \n",
       "4                                  8   \n",
       "\n",
       "   Total_Number_of_Reviews_Reviewer_Has_Given  Reviewer_Score  \\\n",
       "0                                           7             2.9   \n",
       "1                                           7             7.5   \n",
       "2                                           9             7.1   \n",
       "3                                           1             3.8   \n",
       "4                                           3             6.7   \n",
       "\n",
       "                                                Tags days_since_review  \\\n",
       "0  [' Leisure trip ', ' Couple ', ' Duplex Double...            0 days   \n",
       "1  [' Leisure trip ', ' Couple ', ' Duplex Double...            0 days   \n",
       "2  [' Leisure trip ', ' Family with young childre...            3 days   \n",
       "3  [' Leisure trip ', ' Solo traveler ', ' Duplex...            3 days   \n",
       "4  [' Leisure trip ', ' Couple ', ' Suite ', ' St...           10 days   \n",
       "\n",
       "         lat       lng  \n",
       "0  52.360576  4.915968  \n",
       "1  52.360576  4.915968  \n",
       "2  52.360576  4.915968  \n",
       "3  52.360576  4.915968  \n",
       "4  52.360576  4.915968  "
      ]
     },
     "execution_count": 4,
     "metadata": {},
     "output_type": "execute_result"
    }
   ],
   "source": [
    "# importing dataset\n",
    "hotel_df = pd.read_csv('hotel_reviews.csv')\n",
    "\n",
    "# Using head() to print first 5 rows of the dataset\n",
    "hotel_df.head()"
   ]
  },
  {
   "cell_type": "markdown",
   "metadata": {},
   "source": [
    "Now lets use the `.info()` method to get a better understanding of the data types and the number of non-null values in each column."
   ]
  },
  {
   "cell_type": "code",
   "execution_count": 5,
   "metadata": {},
   "outputs": [
    {
     "name": "stdout",
     "output_type": "stream",
     "text": [
      "<class 'pandas.core.frame.DataFrame'>\n",
      "RangeIndex: 515738 entries, 0 to 515737\n",
      "Data columns (total 17 columns):\n",
      " #   Column                                      Non-Null Count   Dtype  \n",
      "---  ------                                      --------------   -----  \n",
      " 0   Hotel_Address                               515738 non-null  object \n",
      " 1   Additional_Number_of_Scoring                515738 non-null  int64  \n",
      " 2   Review_Date                                 515738 non-null  object \n",
      " 3   Average_Score                               515738 non-null  float64\n",
      " 4   Hotel_Name                                  515738 non-null  object \n",
      " 5   Reviewer_Nationality                        515738 non-null  object \n",
      " 6   Negative_Review                             515738 non-null  object \n",
      " 7   Review_Total_Negative_Word_Counts           515738 non-null  int64  \n",
      " 8   Total_Number_of_Reviews                     515738 non-null  int64  \n",
      " 9   Positive_Review                             515738 non-null  object \n",
      " 10  Review_Total_Positive_Word_Counts           515738 non-null  int64  \n",
      " 11  Total_Number_of_Reviews_Reviewer_Has_Given  515738 non-null  int64  \n",
      " 12  Reviewer_Score                              515738 non-null  float64\n",
      " 13  Tags                                        515738 non-null  object \n",
      " 14  days_since_review                           515738 non-null  object \n",
      " 15  lat                                         512470 non-null  float64\n",
      " 16  lng                                         512470 non-null  float64\n",
      "dtypes: float64(4), int64(5), object(8)\n",
      "memory usage: 66.9+ MB\n"
     ]
    }
   ],
   "source": [
    "# Using info() to print information about the dataset\n",
    "hotel_df.info()"
   ]
  },
  {
   "cell_type": "markdown",
   "metadata": {},
   "source": [
    "We can see that this data set has 515,737 rows and 17 columns. We can also see that there are some missing values in the lat and lng columns. We will deal with these missing values later. First, let's review the data types and descriptions of each column.\n",
    "\n",
    "Feature | Description\n",
    "---|---------\n",
    "`Hotel_Address` | Address of the hotel\n",
    "`Additional_Number_of_Scoring` | Additional number of scoring\n",
    "`Review_Date` | Date of the review\n",
    "`Average_Score` | Average score of the hotel\n",
    "`Hotel_Name` | Name of the hotel\n",
    "`Reviewer_Nationality` | Where the reviewer is from\n",
    "`Negative_Review` | The negative review comments\n",
    "`Review_Total_Negative_Word_Counts` | The word count of the negative review\n",
    "`Total_Number_of_Reviews` | Total number of reviews\n",
    "`Positive_Review` | The positive review comments\n",
    "`Review_Total_Positive_Word_Counts` | The word count of the positive review\n",
    "`Total_Number_of_Reviews_Reviewer_Has_Given` | Total number of reviews the reviewer has given\n",
    "`Tags` | Tags of the review\n",
    "`days_since_review` | Days since the review\n",
    "`lat` | Latitude of the hotel\n",
    "`lng` | Longitude of the hotel\n",
    "\n",
    "Target | Description\n",
    "---|---------\n",
    "`Reviewer_Score` | The score the reviewer gave"
   ]
  },
  {
   "cell_type": "markdown",
   "metadata": {},
   "source": [
    "Now that we have a better understanding of the data set, let's explore the missing values in the data set."
   ]
  },
  {
   "cell_type": "code",
   "execution_count": 6,
   "metadata": {},
   "outputs": [
    {
     "data": {
      "text/plain": [
       "Hotel_Address                                    0\n",
       "Additional_Number_of_Scoring                     0\n",
       "Review_Date                                      0\n",
       "Average_Score                                    0\n",
       "Hotel_Name                                       0\n",
       "Reviewer_Nationality                             0\n",
       "Negative_Review                                  0\n",
       "Review_Total_Negative_Word_Counts                0\n",
       "Total_Number_of_Reviews                          0\n",
       "Positive_Review                                  0\n",
       "Review_Total_Positive_Word_Counts                0\n",
       "Total_Number_of_Reviews_Reviewer_Has_Given       0\n",
       "Reviewer_Score                                   0\n",
       "Tags                                             0\n",
       "days_since_review                                0\n",
       "lat                                           3268\n",
       "lng                                           3268\n",
       "dtype: int64"
      ]
     },
     "execution_count": 6,
     "metadata": {},
     "output_type": "execute_result"
    }
   ],
   "source": [
    "# checking for missing values\n",
    "hotel_df.isnull().sum()"
   ]
  },
  {
   "cell_type": "markdown",
   "metadata": {},
   "source": [
    "As we can see, there are over 3000 missing values in the lat and lng columns. Let's take a look at the rows with missing values and see if we can find a pattern."
   ]
  },
  {
   "cell_type": "code",
   "execution_count": 7,
   "metadata": {},
   "outputs": [
    {
     "data": {
      "text/html": [
       "<div>\n",
       "<style scoped>\n",
       "    .dataframe tbody tr th:only-of-type {\n",
       "        vertical-align: middle;\n",
       "    }\n",
       "\n",
       "    .dataframe tbody tr th {\n",
       "        vertical-align: top;\n",
       "    }\n",
       "\n",
       "    .dataframe thead th {\n",
       "        text-align: right;\n",
       "    }\n",
       "</style>\n",
       "<table border=\"1\" class=\"dataframe\">\n",
       "  <thead>\n",
       "    <tr style=\"text-align: right;\">\n",
       "      <th></th>\n",
       "      <th>Hotel_Address</th>\n",
       "      <th>Additional_Number_of_Scoring</th>\n",
       "      <th>Review_Date</th>\n",
       "      <th>Average_Score</th>\n",
       "      <th>Hotel_Name</th>\n",
       "      <th>Reviewer_Nationality</th>\n",
       "      <th>Negative_Review</th>\n",
       "      <th>Review_Total_Negative_Word_Counts</th>\n",
       "      <th>Total_Number_of_Reviews</th>\n",
       "      <th>Positive_Review</th>\n",
       "      <th>Review_Total_Positive_Word_Counts</th>\n",
       "      <th>Total_Number_of_Reviews_Reviewer_Has_Given</th>\n",
       "      <th>Reviewer_Score</th>\n",
       "      <th>Tags</th>\n",
       "      <th>days_since_review</th>\n",
       "      <th>lat</th>\n",
       "      <th>lng</th>\n",
       "    </tr>\n",
       "  </thead>\n",
       "  <tbody>\n",
       "    <tr>\n",
       "      <th>99488</th>\n",
       "      <td>20 Rue De La Ga t 14th arr 75014 Paris France</td>\n",
       "      <td>22</td>\n",
       "      <td>8/3/2017</td>\n",
       "      <td>7.8</td>\n",
       "      <td>Mercure Paris Gare Montparnasse</td>\n",
       "      <td>Australia</td>\n",
       "      <td>No Negative</td>\n",
       "      <td>0</td>\n",
       "      <td>377</td>\n",
       "      <td>Upgraded rooms are excellent Good size for tr...</td>\n",
       "      <td>25</td>\n",
       "      <td>6</td>\n",
       "      <td>10.0</td>\n",
       "      <td>[' Leisure trip ', ' Couple ', ' Standard Room...</td>\n",
       "      <td>0 days</td>\n",
       "      <td>NaN</td>\n",
       "      <td>NaN</td>\n",
       "    </tr>\n",
       "    <tr>\n",
       "      <th>99489</th>\n",
       "      <td>20 Rue De La Ga t 14th arr 75014 Paris France</td>\n",
       "      <td>22</td>\n",
       "      <td>8/3/2017</td>\n",
       "      <td>7.8</td>\n",
       "      <td>Mercure Paris Gare Montparnasse</td>\n",
       "      <td>United Kingdom</td>\n",
       "      <td>Noise Not being told about this when we check...</td>\n",
       "      <td>12</td>\n",
       "      <td>377</td>\n",
       "      <td>The location was great However renovations we...</td>\n",
       "      <td>45</td>\n",
       "      <td>1</td>\n",
       "      <td>6.7</td>\n",
       "      <td>[' Leisure trip ', ' Couple ', ' Standard Room...</td>\n",
       "      <td>0 days</td>\n",
       "      <td>NaN</td>\n",
       "      <td>NaN</td>\n",
       "    </tr>\n",
       "    <tr>\n",
       "      <th>99490</th>\n",
       "      <td>20 Rue De La Ga t 14th arr 75014 Paris France</td>\n",
       "      <td>22</td>\n",
       "      <td>7/25/2017</td>\n",
       "      <td>7.8</td>\n",
       "      <td>Mercure Paris Gare Montparnasse</td>\n",
       "      <td>United States of America</td>\n",
       "      <td>Room was worn down One of the curtains did no...</td>\n",
       "      <td>43</td>\n",
       "      <td>377</td>\n",
       "      <td>Location was good</td>\n",
       "      <td>5</td>\n",
       "      <td>1</td>\n",
       "      <td>5.4</td>\n",
       "      <td>[' Leisure trip ', ' Solo traveler ', ' Standa...</td>\n",
       "      <td>9 days</td>\n",
       "      <td>NaN</td>\n",
       "      <td>NaN</td>\n",
       "    </tr>\n",
       "    <tr>\n",
       "      <th>99491</th>\n",
       "      <td>20 Rue De La Ga t 14th arr 75014 Paris France</td>\n",
       "      <td>22</td>\n",
       "      <td>6/22/2017</td>\n",
       "      <td>7.8</td>\n",
       "      <td>Mercure Paris Gare Montparnasse</td>\n",
       "      <td>Australia</td>\n",
       "      <td>Access to shower was by the tub which is very...</td>\n",
       "      <td>54</td>\n",
       "      <td>377</td>\n",
       "      <td>No Positive</td>\n",
       "      <td>0</td>\n",
       "      <td>13</td>\n",
       "      <td>8.3</td>\n",
       "      <td>[' Leisure trip ', ' Couple ', ' Standard Twin...</td>\n",
       "      <td>42 days</td>\n",
       "      <td>NaN</td>\n",
       "      <td>NaN</td>\n",
       "    </tr>\n",
       "    <tr>\n",
       "      <th>99492</th>\n",
       "      <td>20 Rue De La Ga t 14th arr 75014 Paris France</td>\n",
       "      <td>22</td>\n",
       "      <td>5/24/2017</td>\n",
       "      <td>7.8</td>\n",
       "      <td>Mercure Paris Gare Montparnasse</td>\n",
       "      <td>United States of America</td>\n",
       "      <td>The breakfast was way over priced and the sta...</td>\n",
       "      <td>83</td>\n",
       "      <td>377</td>\n",
       "      <td>The property was conveniently located near th...</td>\n",
       "      <td>11</td>\n",
       "      <td>2</td>\n",
       "      <td>5.8</td>\n",
       "      <td>[' Leisure trip ', ' Couple ', ' Standard Room...</td>\n",
       "      <td>71 days</td>\n",
       "      <td>NaN</td>\n",
       "      <td>NaN</td>\n",
       "    </tr>\n",
       "  </tbody>\n",
       "</table>\n",
       "</div>"
      ],
      "text/plain": [
       "                                       Hotel_Address  \\\n",
       "99488  20 Rue De La Ga t 14th arr 75014 Paris France   \n",
       "99489  20 Rue De La Ga t 14th arr 75014 Paris France   \n",
       "99490  20 Rue De La Ga t 14th arr 75014 Paris France   \n",
       "99491  20 Rue De La Ga t 14th arr 75014 Paris France   \n",
       "99492  20 Rue De La Ga t 14th arr 75014 Paris France   \n",
       "\n",
       "       Additional_Number_of_Scoring Review_Date  Average_Score  \\\n",
       "99488                            22    8/3/2017            7.8   \n",
       "99489                            22    8/3/2017            7.8   \n",
       "99490                            22   7/25/2017            7.8   \n",
       "99491                            22   6/22/2017            7.8   \n",
       "99492                            22   5/24/2017            7.8   \n",
       "\n",
       "                            Hotel_Name        Reviewer_Nationality  \\\n",
       "99488  Mercure Paris Gare Montparnasse                  Australia    \n",
       "99489  Mercure Paris Gare Montparnasse             United Kingdom    \n",
       "99490  Mercure Paris Gare Montparnasse   United States of America    \n",
       "99491  Mercure Paris Gare Montparnasse                  Australia    \n",
       "99492  Mercure Paris Gare Montparnasse   United States of America    \n",
       "\n",
       "                                         Negative_Review  \\\n",
       "99488                                        No Negative   \n",
       "99489   Noise Not being told about this when we check...   \n",
       "99490   Room was worn down One of the curtains did no...   \n",
       "99491   Access to shower was by the tub which is very...   \n",
       "99492   The breakfast was way over priced and the sta...   \n",
       "\n",
       "       Review_Total_Negative_Word_Counts  Total_Number_of_Reviews  \\\n",
       "99488                                  0                      377   \n",
       "99489                                 12                      377   \n",
       "99490                                 43                      377   \n",
       "99491                                 54                      377   \n",
       "99492                                 83                      377   \n",
       "\n",
       "                                         Positive_Review  \\\n",
       "99488   Upgraded rooms are excellent Good size for tr...   \n",
       "99489   The location was great However renovations we...   \n",
       "99490                                 Location was good    \n",
       "99491                                        No Positive   \n",
       "99492   The property was conveniently located near th...   \n",
       "\n",
       "       Review_Total_Positive_Word_Counts  \\\n",
       "99488                                 25   \n",
       "99489                                 45   \n",
       "99490                                  5   \n",
       "99491                                  0   \n",
       "99492                                 11   \n",
       "\n",
       "       Total_Number_of_Reviews_Reviewer_Has_Given  Reviewer_Score  \\\n",
       "99488                                           6            10.0   \n",
       "99489                                           1             6.7   \n",
       "99490                                           1             5.4   \n",
       "99491                                          13             8.3   \n",
       "99492                                           2             5.8   \n",
       "\n",
       "                                                    Tags days_since_review  \\\n",
       "99488  [' Leisure trip ', ' Couple ', ' Standard Room...            0 days   \n",
       "99489  [' Leisure trip ', ' Couple ', ' Standard Room...            0 days   \n",
       "99490  [' Leisure trip ', ' Solo traveler ', ' Standa...            9 days   \n",
       "99491  [' Leisure trip ', ' Couple ', ' Standard Twin...           42 days   \n",
       "99492  [' Leisure trip ', ' Couple ', ' Standard Room...           71 days   \n",
       "\n",
       "       lat  lng  \n",
       "99488  NaN  NaN  \n",
       "99489  NaN  NaN  \n",
       "99490  NaN  NaN  \n",
       "99491  NaN  NaN  \n",
       "99492  NaN  NaN  "
      ]
     },
     "execution_count": 7,
     "metadata": {},
     "output_type": "execute_result"
    }
   ],
   "source": [
    "# taking a look at the null values\n",
    "nulls = hotel_df[hotel_df.isnull().any(axis=1)]\n",
    "\n",
    "nulls.head()"
   ]
  },
  {
   "cell_type": "code",
   "execution_count": 8,
   "metadata": {},
   "outputs": [
    {
     "name": "stdout",
     "output_type": "stream",
     "text": [
      "There are 17 unique hotel addresses with missing values\n"
     ]
    }
   ],
   "source": [
    "# checking the count of unique values in the missing rows\n",
    "count_n = nulls['Hotel_Address'].nunique()\n",
    "\n",
    "print(f'There are {count_n} unique hotel addresses with missing values')"
   ]
  },
  {
   "cell_type": "markdown",
   "metadata": {},
   "source": [
    "So it looks like we can use the hotel addresses to find the latitude and longitude of the hotels. Unfortunately, this will be a manual process because the addresses seem to be spelt incorrectly. But luckily, there is only 17 hotels we need to find the lat and lng for. So, in this case we can google search the correct spelling, and then google the corresponding coordinates. After manually finding the latitude and longitude of the hotels, we can fill in the missing values. \n",
    "\n",
    "Once cleaned, we can save the data set as a csv file and then read it back in."
   ]
  },
  {
   "cell_type": "code",
   "execution_count": 9,
   "metadata": {},
   "outputs": [
    {
     "data": {
      "text/html": [
       "<div>\n",
       "<style scoped>\n",
       "    .dataframe tbody tr th:only-of-type {\n",
       "        vertical-align: middle;\n",
       "    }\n",
       "\n",
       "    .dataframe tbody tr th {\n",
       "        vertical-align: top;\n",
       "    }\n",
       "\n",
       "    .dataframe thead th {\n",
       "        text-align: right;\n",
       "    }\n",
       "</style>\n",
       "<table border=\"1\" class=\"dataframe\">\n",
       "  <thead>\n",
       "    <tr style=\"text-align: right;\">\n",
       "      <th></th>\n",
       "      <th>Hotel_Address</th>\n",
       "      <th>Additional_Number_of_Scoring</th>\n",
       "      <th>Review_Date</th>\n",
       "      <th>Average_Score</th>\n",
       "      <th>Hotel_Name</th>\n",
       "      <th>Reviewer_Nationality</th>\n",
       "      <th>Negative_Review</th>\n",
       "      <th>Review_Total_Negative_Word_Counts</th>\n",
       "      <th>Total_Number_of_Reviews</th>\n",
       "      <th>Positive_Review</th>\n",
       "      <th>Review_Total_Positive_Word_Counts</th>\n",
       "      <th>Total_Number_of_Reviews_Reviewer_Has_Given</th>\n",
       "      <th>Reviewer_Score</th>\n",
       "      <th>Tags</th>\n",
       "      <th>days_since_review</th>\n",
       "      <th>lat</th>\n",
       "      <th>lng</th>\n",
       "    </tr>\n",
       "  </thead>\n",
       "  <tbody>\n",
       "    <tr>\n",
       "      <th>0</th>\n",
       "      <td>s Gravesandestraat 55 Oost 1092 AA Amsterdam ...</td>\n",
       "      <td>194</td>\n",
       "      <td>8/3/2017</td>\n",
       "      <td>7.7</td>\n",
       "      <td>Hotel Arena</td>\n",
       "      <td>Russia</td>\n",
       "      <td>I am so angry that i made this post available...</td>\n",
       "      <td>397</td>\n",
       "      <td>1403</td>\n",
       "      <td>Only the park outside of the hotel was beauti...</td>\n",
       "      <td>11</td>\n",
       "      <td>7</td>\n",
       "      <td>2.9</td>\n",
       "      <td>[' Leisure trip ', ' Couple ', ' Duplex Double...</td>\n",
       "      <td>0 days</td>\n",
       "      <td>52.360576</td>\n",
       "      <td>4.915968</td>\n",
       "    </tr>\n",
       "    <tr>\n",
       "      <th>1</th>\n",
       "      <td>s Gravesandestraat 55 Oost 1092 AA Amsterdam ...</td>\n",
       "      <td>194</td>\n",
       "      <td>8/3/2017</td>\n",
       "      <td>7.7</td>\n",
       "      <td>Hotel Arena</td>\n",
       "      <td>Ireland</td>\n",
       "      <td>No Negative</td>\n",
       "      <td>0</td>\n",
       "      <td>1403</td>\n",
       "      <td>No real complaints the hotel was great great ...</td>\n",
       "      <td>105</td>\n",
       "      <td>7</td>\n",
       "      <td>7.5</td>\n",
       "      <td>[' Leisure trip ', ' Couple ', ' Duplex Double...</td>\n",
       "      <td>0 days</td>\n",
       "      <td>52.360576</td>\n",
       "      <td>4.915968</td>\n",
       "    </tr>\n",
       "    <tr>\n",
       "      <th>2</th>\n",
       "      <td>s Gravesandestraat 55 Oost 1092 AA Amsterdam ...</td>\n",
       "      <td>194</td>\n",
       "      <td>7/31/2017</td>\n",
       "      <td>7.7</td>\n",
       "      <td>Hotel Arena</td>\n",
       "      <td>Australia</td>\n",
       "      <td>Rooms are nice but for elderly a bit difficul...</td>\n",
       "      <td>42</td>\n",
       "      <td>1403</td>\n",
       "      <td>Location was good and staff were ok It is cut...</td>\n",
       "      <td>21</td>\n",
       "      <td>9</td>\n",
       "      <td>7.1</td>\n",
       "      <td>[' Leisure trip ', ' Family with young childre...</td>\n",
       "      <td>3 days</td>\n",
       "      <td>52.360576</td>\n",
       "      <td>4.915968</td>\n",
       "    </tr>\n",
       "  </tbody>\n",
       "</table>\n",
       "</div>"
      ],
      "text/plain": [
       "                                       Hotel_Address  \\\n",
       "0   s Gravesandestraat 55 Oost 1092 AA Amsterdam ...   \n",
       "1   s Gravesandestraat 55 Oost 1092 AA Amsterdam ...   \n",
       "2   s Gravesandestraat 55 Oost 1092 AA Amsterdam ...   \n",
       "\n",
       "   Additional_Number_of_Scoring Review_Date  Average_Score   Hotel_Name  \\\n",
       "0                           194    8/3/2017            7.7  Hotel Arena   \n",
       "1                           194    8/3/2017            7.7  Hotel Arena   \n",
       "2                           194   7/31/2017            7.7  Hotel Arena   \n",
       "\n",
       "  Reviewer_Nationality                                    Negative_Review  \\\n",
       "0              Russia    I am so angry that i made this post available...   \n",
       "1             Ireland                                         No Negative   \n",
       "2           Australia    Rooms are nice but for elderly a bit difficul...   \n",
       "\n",
       "   Review_Total_Negative_Word_Counts  Total_Number_of_Reviews  \\\n",
       "0                                397                     1403   \n",
       "1                                  0                     1403   \n",
       "2                                 42                     1403   \n",
       "\n",
       "                                     Positive_Review  \\\n",
       "0   Only the park outside of the hotel was beauti...   \n",
       "1   No real complaints the hotel was great great ...   \n",
       "2   Location was good and staff were ok It is cut...   \n",
       "\n",
       "   Review_Total_Positive_Word_Counts  \\\n",
       "0                                 11   \n",
       "1                                105   \n",
       "2                                 21   \n",
       "\n",
       "   Total_Number_of_Reviews_Reviewer_Has_Given  Reviewer_Score  \\\n",
       "0                                           7             2.9   \n",
       "1                                           7             7.5   \n",
       "2                                           9             7.1   \n",
       "\n",
       "                                                Tags days_since_review  \\\n",
       "0  [' Leisure trip ', ' Couple ', ' Duplex Double...            0 days   \n",
       "1  [' Leisure trip ', ' Couple ', ' Duplex Double...            0 days   \n",
       "2  [' Leisure trip ', ' Family with young childre...            3 days   \n",
       "\n",
       "         lat       lng  \n",
       "0  52.360576  4.915968  \n",
       "1  52.360576  4.915968  \n",
       "2  52.360576  4.915968  "
      ]
     },
     "execution_count": 9,
     "metadata": {},
     "output_type": "execute_result"
    }
   ],
   "source": [
    "# importing cleaned dataset\n",
    "hotel_df_cleaned = pd.read_csv('hotel_reviews_cleaned.csv', encoding='latin-1')\n",
    "\n",
    "hotel_df_cleaned.head(3)"
   ]
  },
  {
   "cell_type": "markdown",
   "metadata": {},
   "source": [
    "Let's check to see if there are any more missing values."
   ]
  },
  {
   "cell_type": "code",
   "execution_count": 10,
   "metadata": {},
   "outputs": [
    {
     "data": {
      "text/plain": [
       "Hotel_Address                                 0\n",
       "Additional_Number_of_Scoring                  0\n",
       "Review_Date                                   0\n",
       "Average_Score                                 0\n",
       "Hotel_Name                                    0\n",
       "Reviewer_Nationality                          0\n",
       "Negative_Review                               0\n",
       "Review_Total_Negative_Word_Counts             0\n",
       "Total_Number_of_Reviews                       0\n",
       "Positive_Review                               0\n",
       "Review_Total_Positive_Word_Counts             0\n",
       "Total_Number_of_Reviews_Reviewer_Has_Given    0\n",
       "Reviewer_Score                                0\n",
       "Tags                                          0\n",
       "days_since_review                             0\n",
       "lat                                           0\n",
       "lng                                           0\n",
       "dtype: int64"
      ]
     },
     "execution_count": 10,
     "metadata": {},
     "output_type": "execute_result"
    }
   ],
   "source": [
    "# checking for missing values\n",
    "hotel_df_cleaned.isnull().sum()"
   ]
  },
  {
   "cell_type": "markdown",
   "metadata": {},
   "source": [
    "Now that we have filled in the missing values, let's take a look for duplicates."
   ]
  },
  {
   "cell_type": "code",
   "execution_count": 11,
   "metadata": {},
   "outputs": [
    {
     "data": {
      "text/plain": [
       "526"
      ]
     },
     "execution_count": 11,
     "metadata": {},
     "output_type": "execute_result"
    }
   ],
   "source": [
    "# checking for duplicate rows\n",
    "hotel_df_cleaned.duplicated().sum()"
   ]
  },
  {
   "cell_type": "markdown",
   "metadata": {},
   "source": [
    "There is a few duplicates in the data set. Since there is no unique identifier, we can assume that that these duplicates might be different reviews for the same hotel. \n",
    "\n",
    "Let's take a closer look at the duplicates to confirm this."
   ]
  },
  {
   "cell_type": "code",
   "execution_count": 12,
   "metadata": {},
   "outputs": [
    {
     "name": "stderr",
     "output_type": "stream",
     "text": [
      "C:\\Users\\robby\\AppData\\Local\\Temp\\ipykernel_25400\\1067984965.py:2: UserWarning: Boolean Series key will be reindexed to match DataFrame index.\n",
      "  hotel_df_cleaned[hotel_df_cleaned.duplicated().sort_values(ascending=False)].head(6)\n"
     ]
    },
    {
     "data": {
      "text/html": [
       "<div>\n",
       "<style scoped>\n",
       "    .dataframe tbody tr th:only-of-type {\n",
       "        vertical-align: middle;\n",
       "    }\n",
       "\n",
       "    .dataframe tbody tr th {\n",
       "        vertical-align: top;\n",
       "    }\n",
       "\n",
       "    .dataframe thead th {\n",
       "        text-align: right;\n",
       "    }\n",
       "</style>\n",
       "<table border=\"1\" class=\"dataframe\">\n",
       "  <thead>\n",
       "    <tr style=\"text-align: right;\">\n",
       "      <th></th>\n",
       "      <th>Hotel_Address</th>\n",
       "      <th>Additional_Number_of_Scoring</th>\n",
       "      <th>Review_Date</th>\n",
       "      <th>Average_Score</th>\n",
       "      <th>Hotel_Name</th>\n",
       "      <th>Reviewer_Nationality</th>\n",
       "      <th>Negative_Review</th>\n",
       "      <th>Review_Total_Negative_Word_Counts</th>\n",
       "      <th>Total_Number_of_Reviews</th>\n",
       "      <th>Positive_Review</th>\n",
       "      <th>Review_Total_Positive_Word_Counts</th>\n",
       "      <th>Total_Number_of_Reviews_Reviewer_Has_Given</th>\n",
       "      <th>Reviewer_Score</th>\n",
       "      <th>Tags</th>\n",
       "      <th>days_since_review</th>\n",
       "      <th>lat</th>\n",
       "      <th>lng</th>\n",
       "    </tr>\n",
       "  </thead>\n",
       "  <tbody>\n",
       "    <tr>\n",
       "      <th>23704</th>\n",
       "      <td>100 110 Euston Road Camden London NW1 2AJ Unit...</td>\n",
       "      <td>728</td>\n",
       "      <td>2/25/2017</td>\n",
       "      <td>8.9</td>\n",
       "      <td>Pullman London St Pancras</td>\n",
       "      <td>China</td>\n",
       "      <td>none</td>\n",
       "      <td>2</td>\n",
       "      <td>3168</td>\n",
       "      <td>good location and super nice staff room is bi...</td>\n",
       "      <td>13</td>\n",
       "      <td>39</td>\n",
       "      <td>9.6</td>\n",
       "      <td>[' Business trip ', ' Solo traveler ', ' Class...</td>\n",
       "      <td>159 day</td>\n",
       "      <td>51.528677</td>\n",
       "      <td>-0.128349</td>\n",
       "    </tr>\n",
       "    <tr>\n",
       "      <th>61876</th>\n",
       "      <td>16 22 Great Russell Street Camden London WC1B ...</td>\n",
       "      <td>300</td>\n",
       "      <td>7/27/2017</td>\n",
       "      <td>9.0</td>\n",
       "      <td>The Bloomsbury Hotel</td>\n",
       "      <td>Israel</td>\n",
       "      <td>No Negative</td>\n",
       "      <td>0</td>\n",
       "      <td>1254</td>\n",
       "      <td>The attention received by Sebastian and his t...</td>\n",
       "      <td>12</td>\n",
       "      <td>4</td>\n",
       "      <td>9.6</td>\n",
       "      <td>[' Leisure trip ', ' Couple ', ' Superior Doub...</td>\n",
       "      <td>7 days</td>\n",
       "      <td>51.517167</td>\n",
       "      <td>-0.129053</td>\n",
       "    </tr>\n",
       "    <tr>\n",
       "      <th>68967</th>\n",
       "      <td>167 rue de Rome 17th arr 75017 Paris France</td>\n",
       "      <td>11</td>\n",
       "      <td>6/23/2017</td>\n",
       "      <td>6.8</td>\n",
       "      <td>Villa Eugenie</td>\n",
       "      <td>Netherlands</td>\n",
       "      <td>Location is very old not invested in past yea...</td>\n",
       "      <td>41</td>\n",
       "      <td>165</td>\n",
       "      <td>Location is central accessible by train parki...</td>\n",
       "      <td>12</td>\n",
       "      <td>24</td>\n",
       "      <td>4.6</td>\n",
       "      <td>[' Business trip ', ' Solo traveler ', ' Singl...</td>\n",
       "      <td>41 days</td>\n",
       "      <td>48.887128</td>\n",
       "      <td>2.314205</td>\n",
       "    </tr>\n",
       "    <tr>\n",
       "      <th>68968</th>\n",
       "      <td>167 rue de Rome 17th arr 75017 Paris France</td>\n",
       "      <td>11</td>\n",
       "      <td>4/27/2017</td>\n",
       "      <td>6.8</td>\n",
       "      <td>Villa Eugenie</td>\n",
       "      <td>United Kingdom</td>\n",
       "      <td>This hotel I don t think so is 4 star B B hav...</td>\n",
       "      <td>93</td>\n",
       "      <td>165</td>\n",
       "      <td>Nothing</td>\n",
       "      <td>2</td>\n",
       "      <td>10</td>\n",
       "      <td>2.5</td>\n",
       "      <td>[' Business trip ', ' Solo traveler ', ' Singl...</td>\n",
       "      <td>98 days</td>\n",
       "      <td>48.887128</td>\n",
       "      <td>2.314205</td>\n",
       "    </tr>\n",
       "    <tr>\n",
       "      <th>68969</th>\n",
       "      <td>167 rue de Rome 17th arr 75017 Paris France</td>\n",
       "      <td>11</td>\n",
       "      <td>3/4/2017</td>\n",
       "      <td>6.8</td>\n",
       "      <td>Villa Eugenie</td>\n",
       "      <td>South Africa</td>\n",
       "      <td>The staff were not helpful at all It took us ...</td>\n",
       "      <td>69</td>\n",
       "      <td>165</td>\n",
       "      <td>Near bus terminal</td>\n",
       "      <td>4</td>\n",
       "      <td>4</td>\n",
       "      <td>5.0</td>\n",
       "      <td>[' Leisure trip ', ' Couple ', ' Twin Room ', ...</td>\n",
       "      <td>152 day</td>\n",
       "      <td>48.887128</td>\n",
       "      <td>2.314205</td>\n",
       "    </tr>\n",
       "    <tr>\n",
       "      <th>68970</th>\n",
       "      <td>167 rue de Rome 17th arr 75017 Paris France</td>\n",
       "      <td>11</td>\n",
       "      <td>10/20/2016</td>\n",
       "      <td>6.8</td>\n",
       "      <td>Villa Eugenie</td>\n",
       "      <td>Lithuania</td>\n",
       "      <td>We booked hotel for 3 nights and there was no...</td>\n",
       "      <td>39</td>\n",
       "      <td>165</td>\n",
       "      <td>Good place</td>\n",
       "      <td>4</td>\n",
       "      <td>9</td>\n",
       "      <td>6.7</td>\n",
       "      <td>[' Business trip ', ' Group ', ' Superior Doub...</td>\n",
       "      <td>287 day</td>\n",
       "      <td>48.887128</td>\n",
       "      <td>2.314205</td>\n",
       "    </tr>\n",
       "  </tbody>\n",
       "</table>\n",
       "</div>"
      ],
      "text/plain": [
       "                                           Hotel_Address  \\\n",
       "23704  100 110 Euston Road Camden London NW1 2AJ Unit...   \n",
       "61876  16 22 Great Russell Street Camden London WC1B ...   \n",
       "68967        167 rue de Rome 17th arr 75017 Paris France   \n",
       "68968        167 rue de Rome 17th arr 75017 Paris France   \n",
       "68969        167 rue de Rome 17th arr 75017 Paris France   \n",
       "68970        167 rue de Rome 17th arr 75017 Paris France   \n",
       "\n",
       "       Additional_Number_of_Scoring Review_Date  Average_Score  \\\n",
       "23704                           728   2/25/2017            8.9   \n",
       "61876                           300   7/27/2017            9.0   \n",
       "68967                            11   6/23/2017            6.8   \n",
       "68968                            11   4/27/2017            6.8   \n",
       "68969                            11    3/4/2017            6.8   \n",
       "68970                            11  10/20/2016            6.8   \n",
       "\n",
       "                      Hotel_Name Reviewer_Nationality  \\\n",
       "23704  Pullman London St Pancras               China    \n",
       "61876       The Bloomsbury Hotel              Israel    \n",
       "68967              Villa Eugenie         Netherlands    \n",
       "68968              Villa Eugenie      United Kingdom    \n",
       "68969              Villa Eugenie        South Africa    \n",
       "68970              Villa Eugenie           Lithuania    \n",
       "\n",
       "                                         Negative_Review  \\\n",
       "23704                                               none   \n",
       "61876                                        No Negative   \n",
       "68967   Location is very old not invested in past yea...   \n",
       "68968   This hotel I don t think so is 4 star B B hav...   \n",
       "68969   The staff were not helpful at all It took us ...   \n",
       "68970   We booked hotel for 3 nights and there was no...   \n",
       "\n",
       "       Review_Total_Negative_Word_Counts  Total_Number_of_Reviews  \\\n",
       "23704                                  2                     3168   \n",
       "61876                                  0                     1254   \n",
       "68967                                 41                      165   \n",
       "68968                                 93                      165   \n",
       "68969                                 69                      165   \n",
       "68970                                 39                      165   \n",
       "\n",
       "                                         Positive_Review  \\\n",
       "23704   good location and super nice staff room is bi...   \n",
       "61876   The attention received by Sebastian and his t...   \n",
       "68967   Location is central accessible by train parki...   \n",
       "68968                                            Nothing   \n",
       "68969                                  Near bus terminal   \n",
       "68970                                        Good place    \n",
       "\n",
       "       Review_Total_Positive_Word_Counts  \\\n",
       "23704                                 13   \n",
       "61876                                 12   \n",
       "68967                                 12   \n",
       "68968                                  2   \n",
       "68969                                  4   \n",
       "68970                                  4   \n",
       "\n",
       "       Total_Number_of_Reviews_Reviewer_Has_Given  Reviewer_Score  \\\n",
       "23704                                          39             9.6   \n",
       "61876                                           4             9.6   \n",
       "68967                                          24             4.6   \n",
       "68968                                          10             2.5   \n",
       "68969                                           4             5.0   \n",
       "68970                                           9             6.7   \n",
       "\n",
       "                                                    Tags days_since_review  \\\n",
       "23704  [' Business trip ', ' Solo traveler ', ' Class...           159 day   \n",
       "61876  [' Leisure trip ', ' Couple ', ' Superior Doub...            7 days   \n",
       "68967  [' Business trip ', ' Solo traveler ', ' Singl...           41 days   \n",
       "68968  [' Business trip ', ' Solo traveler ', ' Singl...           98 days   \n",
       "68969  [' Leisure trip ', ' Couple ', ' Twin Room ', ...           152 day   \n",
       "68970  [' Business trip ', ' Group ', ' Superior Doub...           287 day   \n",
       "\n",
       "             lat       lng  \n",
       "23704  51.528677 -0.128349  \n",
       "61876  51.517167 -0.129053  \n",
       "68967  48.887128  2.314205  \n",
       "68968  48.887128  2.314205  \n",
       "68969  48.887128  2.314205  \n",
       "68970  48.887128  2.314205  "
      ]
     },
     "execution_count": 12,
     "metadata": {},
     "output_type": "execute_result"
    }
   ],
   "source": [
    "# looking into the duplicated rows\n",
    "hotel_df_cleaned[hotel_df_cleaned.duplicated().sort_values(ascending=False)].head(6)"
   ]
  },
  {
   "cell_type": "markdown",
   "metadata": {},
   "source": [
    "As expected, the duplicates have different reviews, but the same hotel address/hotel name. So we will keep the duplicates in the data set to ensure that we have a good representation of the reviews for each hotel."
   ]
  },
  {
   "cell_type": "markdown",
   "metadata": {},
   "source": [
    "Now that we have cleaned the data, we can begin with the EDA.\n",
    "\n",
    "***\n",
    "\n",
    "## **Exploratory Data Analysis**\n",
    "\n",
    "The target column of interest is `Reviewer_Score`.\n",
    "\n",
    "Let's being by taking a look at the shape of the data set."
   ]
  },
  {
   "cell_type": "code",
   "execution_count": 13,
   "metadata": {},
   "outputs": [
    {
     "name": "stdout",
     "output_type": "stream",
     "text": [
      "The shape of the dataset is 515738 rows and 17 columns.\n"
     ]
    }
   ],
   "source": [
    "# Finding the shape of the dataset\n",
    "shape = hotel_df_cleaned.shape\n",
    "\n",
    "print(f'The shape of the dataset is {shape[0]} rows and {shape[1]} columns.')"
   ]
  },
  {
   "cell_type": "markdown",
   "metadata": {},
   "source": [
    "Next, we will convert the Reviewer_Score column to an integer from 1 to 10. This will make it easier to visualize the distribution of the data."
   ]
  },
  {
   "cell_type": "code",
   "execution_count": 14,
   "metadata": {},
   "outputs": [
    {
     "data": {
      "text/plain": [
       "320566     7\n",
       "498426     7\n",
       "409967     7\n",
       "106513     7\n",
       "265365    10\n",
       "Name: Reviewer_Score, dtype: int32"
      ]
     },
     "execution_count": 14,
     "metadata": {},
     "output_type": "execute_result"
    }
   ],
   "source": [
    "# converting the Reviewer_Score column to an integer from 1 to 10\n",
    "hotel_df_cleaned['Reviewer_Score'] = hotel_df_cleaned['Reviewer_Score'].astype(int)\n",
    "\n",
    "# inspecting the results\n",
    "hotel_df_cleaned['Reviewer_Score'].sample(5)"
   ]
  },
  {
   "cell_type": "markdown",
   "metadata": {},
   "source": [
    "We can assume that the distribution of the reviews will be based on the satisfaction of the customer. So we can assume that the distribution will be skewed to the right or left, meaning that if the the customer is satisfied, the review score will be higher(left skewed). If the customer is not satisfied, the review score will be lower(right skewed)."
   ]
  },
  {
   "cell_type": "code",
   "execution_count": 15,
   "metadata": {},
   "outputs": [
    {
     "data": {
      "image/png": "[encoded data removed]",
      "text/plain": [
       "<Figure size 1000x600 with 1 Axes>"
      ]
     },
     "metadata": {},
     "output_type": "display_data"
    }
   ],
   "source": [
    "# plotting the distribution of the Reviewer_Score column\n",
    "\n",
    "plt.figure(figsize=(10, 6))\n",
    "plt.hist(hotel_df_cleaned['Reviewer_Score'], bins=9, color='blue', edgecolor='black')\n",
    "plt.title('Distribution of Reviewer Score', fontsize=16)\n",
    "plt.xlabel('Reviewer Score')\n",
    "plt.ylabel('Count')\n",
    "plt.show()"
   ]
  },
  {
   "cell_type": "markdown",
   "metadata": {},
   "source": [
    "As expected, the distribution is skewed to the left. This means that the majority of the reviews are positive."
   ]
  },
  {
   "cell_type": "markdown",
   "metadata": {},
   "source": [
    "The problem with this distribution is that the model will be biased towards predicting positive reviews. This is because the majority of the reviews are positive. So the model will be more likely to predict positive reviews. So we will need to balance the data set. We can do this by either undersampling the majority class or oversampling the minority class.\n",
    "\n",
    "***"
   ]
  },
  {
   "cell_type": "markdown",
   "metadata": {},
   "source": [
    "This dataset has a good mix of numeric and non-numeric columns. Let's see if we can convert the non-numeric columns to numeric columns.\n",
    "\n",
    "To find out which columns are numeric, we can use the `df.info()` method. This will give us the data type of each column. Let's create a function to find the numeric columns, and then use the function to also find the non-numeric columns."
   ]
  },
  {
   "cell_type": "code",
   "execution_count": 16,
   "metadata": {},
   "outputs": [
    {
     "name": "stdout",
     "output_type": "stream",
     "text": [
      "The numeric columns are: ['Additional_Number_of_Scoring', 'Average_Score', 'Review_Total_Negative_Word_Counts', 'Total_Number_of_Reviews', 'Review_Total_Positive_Word_Counts', 'Total_Number_of_Reviews_Reviewer_Has_Given', 'lat', 'lng']\n",
      "The non-numeric columns are: ['Hotel_Address', 'Review_Date', 'Hotel_Name', 'Reviewer_Nationality', 'Negative_Review', 'Positive_Review', 'Reviewer_Score', 'Tags', 'days_since_review']\n"
     ]
    }
   ],
   "source": [
    "# creating a function to find all the numeric columns, and also the non-numeric columns\n",
    "\n",
    "def find_numeric_and_non_numeric_columns(df):\n",
    "    numeric_columns = []\n",
    "    non_numeric_columns = []\n",
    "    for column in df.columns:\n",
    "        if df[column].dtype == 'int64' or df[column].dtype == 'float64':\n",
    "            numeric_columns.append(column)\n",
    "        else:\n",
    "            non_numeric_columns.append(column)\n",
    "\n",
    "    print(f'The numeric columns are: {numeric_columns}')\n",
    "    print(f'The non-numeric columns are: {non_numeric_columns}')\n",
    "\n",
    "find_numeric_and_non_numeric_columns(hotel_df_cleaned)"
   ]
  },
  {
   "cell_type": "markdown",
   "metadata": {},
   "source": [
    "Now that we have found the numeric and non-numeric columns, we can dig deeper into the non-numeric columns.\n",
    "\n",
    "Let's create a function to find the unique values in each non-numeric column. This will give us a better understanding of the data in each column and show us how we can convert the non-numeric columns to numeric."
   ]
  },
  {
   "cell_type": "code",
   "execution_count": 17,
   "metadata": {},
   "outputs": [
    {
     "name": "stdout",
     "output_type": "stream",
     "text": [
      "The unique values in the Hotel_Address column are: [' s Gravesandestraat 55 Oost 1092 AA Amsterdam Netherlands'\n",
      " '1 15 Templeton Place Earl s Court Kensington and Chelsea London SW5 9NB United Kingdom'\n",
      " '1 2 Serjeant s Inn Fleet Street City of London London EC4Y 1LL United Kingdom'\n",
      " ...\n",
      " 'Wilton Place Knightsbridge Westminster Borough London SW1X 7RL United Kingdom'\n",
      " 'Wrights Lane Kensington and Chelsea London W8 5SP United Kingdom'\n",
      " 'Wurzbachgasse 21 15 Rudolfsheim F nfhaus 1150 Vienna Austria']\n",
      "The unique values in the Review_Date column are: ['8/3/2017' '7/31/2017' '7/24/2017' '7/17/2017' '7/9/2017' '7/8/2017'\n",
      " '7/7/2017' '7/6/2017' '7/4/2017' '7/3/2017' '6/30/2017' '6/29/2017'\n",
      " '6/20/2017' '6/19/2017' '6/12/2017' '6/10/2017' '5/29/2017' '5/27/2017'\n",
      " '5/25/2017' '5/22/2017' '5/21/2017' '5/16/2017' '5/11/2017' '5/9/2017'\n",
      " '5/2/2017' '4/27/2017' '4/26/2017' '4/20/2017' '4/19/2017' '4/18/2017'\n",
      " '4/16/2017' '4/14/2017' '4/10/2017' '4/5/2017' '3/29/2017' '3/22/2017'\n",
      " '3/20/2017' '3/19/2017' '3/18/2017' '3/16/2017' '3/6/2017' '2/20/2017'\n",
      " '2/17/2017' '2/14/2017' '2/9/2017' '2/6/2017' '1/29/2017' '1/27/2017'\n",
      " '1/25/2017' '1/19/2017' '1/8/2017' '12/29/2016' '12/28/2016' '12/21/2016'\n",
      " '12/20/2016' '12/19/2016' '12/15/2016' '12/14/2016' '12/13/2016'\n",
      " '12/12/2016' '12/11/2016' '12/10/2016' '12/7/2016' '11/15/2016'\n",
      " '11/7/2016' '11/6/2016' '11/2/2016' '10/31/2016' '10/30/2016'\n",
      " '10/26/2016' '10/25/2016' '10/24/2016' '10/13/2016' '10/12/2016'\n",
      " '10/11/2016' '10/6/2016' '10/4/2016' '9/27/2016' '9/19/2016' '9/18/2016'\n",
      " '9/12/2016' '9/9/2016' '8/31/2016' '8/13/2016' '7/30/2016' '7/27/2016'\n",
      " '7/26/2016' '7/20/2016' '7/17/2016' '7/14/2016' '7/9/2016' '7/5/2016'\n",
      " '7/2/2016' '6/29/2016' '6/27/2016' '6/17/2016' '6/16/2016' '6/5/2016'\n",
      " '6/1/2016' '5/28/2016' '5/22/2016' '5/17/2016' '5/7/2016' '5/3/2016'\n",
      " '5/1/2016' '4/26/2016' '4/24/2016' '4/23/2016' '4/22/2016' '4/19/2016'\n",
      " '4/17/2016' '4/12/2016' '4/7/2016' '4/5/2016' '3/29/2016' '3/23/2016'\n",
      " '3/20/2016' '3/17/2016' '3/16/2016' '3/15/2016' '3/12/2016' '3/2/2016'\n",
      " '3/1/2016' '2/29/2016' '2/20/2016' '2/16/2016' '2/15/2016' '2/10/2016'\n",
      " '2/9/2016' '2/8/2016' '2/7/2016' '2/4/2016' '2/3/2016' '2/2/2016'\n",
      " '2/1/2016' '1/26/2016' '1/23/2016' '1/19/2016' '1/15/2016' '1/12/2016'\n",
      " '1/5/2016' '1/3/2016' '1/2/2016' '12/31/2015' '12/26/2015' '12/22/2015'\n",
      " '12/15/2015' '12/13/2015' '12/8/2015' '12/3/2015' '11/29/2015'\n",
      " '11/24/2015' '11/17/2015' '11/15/2015' '11/14/2015' '11/11/2015'\n",
      " '11/10/2015' '11/6/2015' '11/3/2015' '11/1/2015' '10/30/2015'\n",
      " '10/29/2015' '10/26/2015' '10/25/2015' '10/23/2015' '10/22/2015'\n",
      " '10/21/2015' '10/19/2015' '10/18/2015' '10/17/2015' '10/14/2015'\n",
      " '10/4/2015' '9/30/2015' '9/29/2015' '9/28/2015' '9/26/2015' '9/25/2015'\n",
      " '9/20/2015' '9/18/2015' '9/12/2015' '9/11/2015' '9/7/2015' '9/5/2015'\n",
      " '9/3/2015' '9/1/2015' '8/30/2015' '8/27/2015' '8/26/2015' '8/25/2015'\n",
      " '8/20/2015' '8/18/2015' '8/14/2015' '8/11/2015' '8/6/2015' '8/4/2015'\n",
      " '7/22/2017' '7/19/2017' '7/12/2017' '7/10/2017' '6/25/2017' '6/24/2017'\n",
      " '6/17/2017' '6/13/2017' '6/5/2017' '5/15/2017' '5/4/2017' '5/3/2017'\n",
      " '5/1/2017' '4/28/2017' '4/24/2017' '4/11/2017' '4/4/2017' '3/13/2017'\n",
      " '3/10/2017' '3/7/2017' '3/4/2017' '2/15/2017' '2/13/2017' '2/8/2017'\n",
      " '2/5/2017' '2/3/2017' '2/2/2017' '1/30/2017' '1/24/2017' '1/22/2017'\n",
      " '1/21/2017' '1/4/2017' '1/3/2017' '12/27/2016' '12/6/2016' '11/28/2016'\n",
      " '11/27/2016' '10/19/2016' '10/18/2016' '10/3/2016' '8/28/2016'\n",
      " '8/27/2016' '8/26/2016' '8/14/2016' '8/9/2016' '8/8/2016' '8/7/2016'\n",
      " '8/2/2016' '7/29/2016' '7/23/2016' '7/19/2016' '7/7/2016' '6/26/2016'\n",
      " '6/4/2016' '6/3/2016' '5/30/2016' '5/29/2016' '5/21/2016' '5/19/2016'\n",
      " '5/13/2016' '4/30/2016' '4/25/2016' '4/14/2016' '4/10/2016' '3/31/2016'\n",
      " '3/27/2016' '3/26/2016' '3/13/2016' '3/8/2016' '3/3/2016' '2/27/2016'\n",
      " '2/25/2016' '2/22/2016' '1/22/2016' '1/16/2016' '1/11/2016' '1/8/2016'\n",
      " '12/30/2015' '12/14/2015' '12/10/2015' '11/26/2015' '11/21/2015'\n",
      " '11/19/2015' '11/12/2015' '10/28/2015' '10/27/2015' '10/20/2015'\n",
      " '10/13/2015' '10/5/2015' '10/2/2015' '10/1/2015' '9/19/2015' '9/16/2015'\n",
      " '9/15/2015' '9/9/2015' '9/6/2015' '9/4/2015' '8/23/2015' '8/22/2015'\n",
      " '8/17/2015' '8/16/2015' '8/9/2015' '8/2/2017' '7/20/2017' '7/18/2017'\n",
      " '6/27/2017' '6/23/2017' '6/11/2017' '6/7/2017' '5/31/2017' '5/26/2017'\n",
      " '5/13/2017' '5/5/2017' '4/23/2017' '4/9/2017' '3/31/2017' '3/27/2017'\n",
      " '3/26/2017' '3/11/2017' '3/9/2017' '3/8/2017' '3/2/2017' '2/28/2017'\n",
      " '2/19/2017' '2/12/2017' '2/10/2017' '2/4/2017' '1/23/2017' '1/18/2017'\n",
      " '1/16/2017' '1/15/2017' '1/13/2017' '1/9/2017' '12/30/2016' '12/26/2016'\n",
      " '12/22/2016' '12/18/2016' '12/16/2016' '12/8/2016' '12/3/2016'\n",
      " '12/2/2016' '11/23/2016' '11/16/2016' '11/14/2016' '11/13/2016'\n",
      " '11/12/2016' '11/8/2016' '11/5/2016' '11/3/2016' '10/23/2016'\n",
      " '10/22/2016' '10/21/2016' '10/16/2016' '10/15/2016' '10/8/2016'\n",
      " '9/29/2016' '9/28/2016' '9/25/2016' '9/4/2016' '8/25/2016' '8/23/2016'\n",
      " '8/18/2016' '8/16/2016' '8/4/2016' '8/3/2016' '6/28/2016' '6/21/2016'\n",
      " '6/14/2016' '6/11/2016' '6/10/2016' '6/6/2016' '5/20/2016' '5/18/2016'\n",
      " '5/16/2016' '5/11/2016' '5/6/2016' '4/29/2016' '4/27/2016' '4/21/2016'\n",
      " '4/18/2016' '4/9/2016' '4/8/2016' '4/3/2016' '4/1/2016' '3/28/2016'\n",
      " '3/24/2016' '3/22/2016' '3/21/2016' '3/18/2016' '3/9/2016' '3/7/2016'\n",
      " '3/5/2016' '3/4/2016' '2/28/2016' '2/24/2016' '2/23/2016' '2/21/2016'\n",
      " '2/18/2016' '2/13/2016' '2/12/2016' '2/11/2016' '2/5/2016' '1/31/2016'\n",
      " '1/24/2016' '1/21/2016' '1/18/2016' '1/10/2016' '12/29/2015' '12/27/2015'\n",
      " '12/25/2015' '12/24/2015' '12/18/2015' '12/16/2015' '12/1/2015'\n",
      " '11/28/2015' '11/27/2015' '11/7/2015' '10/24/2015' '10/8/2015' '8/1/2017'\n",
      " '7/26/2017' '7/16/2017' '6/18/2017' '5/23/2017' '5/10/2017' '4/25/2017'\n",
      " '3/12/2017' '2/21/2017' '2/18/2017' '2/16/2017' '2/11/2017' '1/26/2017'\n",
      " '1/17/2017' '1/12/2017' '1/10/2017' '11/30/2016' '11/29/2016'\n",
      " '11/22/2016' '11/10/2016' '11/4/2016' '10/28/2016' '10/5/2016'\n",
      " '10/2/2016' '9/26/2016' '9/24/2016' '9/16/2016' '9/3/2016' '9/1/2016'\n",
      " '8/24/2016' '8/22/2016' '8/21/2016' '8/20/2016' '8/19/2016' '8/11/2016'\n",
      " '8/1/2016' '7/12/2016' '7/10/2016' '7/8/2016' '7/3/2016' '6/22/2016'\n",
      " '6/20/2016' '6/7/2016' '5/31/2016' '5/27/2016' '5/26/2016' '5/25/2016'\n",
      " '5/14/2016' '5/12/2016' '5/9/2016' '4/4/2016' '4/2/2016' '3/25/2016'\n",
      " '3/19/2016' '3/14/2016' '3/11/2016' '3/10/2016' '3/6/2016' '2/26/2016'\n",
      " '2/19/2016' '2/17/2016' '2/14/2016' '2/6/2016' '1/30/2016' '1/17/2016'\n",
      " '1/14/2016' '1/7/2016' '12/17/2015' '12/12/2015' '12/7/2015' '12/2/2015'\n",
      " '10/12/2015' '10/11/2015' '10/9/2015' '10/6/2015' '10/3/2015' '9/27/2015'\n",
      " '9/22/2015' '9/17/2015' '7/5/2017' '7/1/2017' '6/14/2017' '5/17/2017'\n",
      " '5/14/2017' '4/21/2017' '3/5/2017' '3/1/2017' '2/27/2017' '2/24/2017'\n",
      " '2/7/2017' '12/31/2016' '12/25/2016' '12/24/2016' '12/23/2016'\n",
      " '12/5/2016' '12/4/2016' '12/1/2016' '11/24/2016' '11/1/2016' '10/29/2016'\n",
      " '10/14/2016' '10/10/2016' '10/9/2016' '10/1/2016' '9/30/2016' '9/23/2016'\n",
      " '9/15/2016' '9/10/2016' '9/6/2016' '8/30/2016' '8/5/2016' '7/28/2016'\n",
      " '7/25/2016' '7/22/2016' '7/13/2016' '7/6/2016' '7/1/2016' '6/15/2016'\n",
      " '6/12/2016' '6/9/2016' '5/24/2016' '5/15/2016' '5/4/2016' '5/2/2016'\n",
      " '4/20/2016' '4/16/2016' '4/6/2016' '1/28/2016' '1/27/2016' '1/13/2016'\n",
      " '1/4/2016' '1/1/2016' '12/28/2015' '12/21/2015' '12/19/2015' '12/9/2015'\n",
      " '12/6/2015' '11/30/2015' '11/20/2015' '11/8/2015' '11/5/2015' '11/2/2015'\n",
      " '10/31/2015' '9/23/2015' '9/10/2015' '9/8/2015' '8/21/2015' '8/15/2015'\n",
      " '8/13/2015' '8/7/2015' '7/11/2017' '6/4/2017' '6/1/2017' '5/30/2017'\n",
      " '5/24/2017' '5/8/2017' '5/7/2017' '4/30/2017' '4/7/2017' '4/1/2017'\n",
      " '3/28/2017' '3/23/2017' '3/21/2017' '3/17/2017' '3/14/2017' '2/23/2017'\n",
      " '1/31/2017' '1/11/2017' '1/7/2017' '1/6/2017' '1/2/2017' '1/1/2017'\n",
      " '12/9/2016' '11/21/2016' '11/20/2016' '11/18/2016' '11/11/2016'\n",
      " '11/9/2016' '10/17/2016' '9/20/2016' '9/13/2016' '9/2/2016' '8/17/2016'\n",
      " '8/12/2016' '8/6/2016' '7/18/2016' '7/16/2016' '7/11/2016' '7/4/2016'\n",
      " '6/23/2016' '6/19/2016' '6/2/2016' '5/10/2016' '5/8/2016' '4/11/2016'\n",
      " '3/30/2016' '1/29/2016' '1/20/2016' '1/9/2016' '12/23/2015' '12/20/2015'\n",
      " '11/25/2015' '11/23/2015' '11/22/2015' '11/18/2015' '10/15/2015'\n",
      " '9/21/2015' '9/2/2015' '8/29/2015' '7/14/2017' '7/2/2017' '6/28/2017'\n",
      " '6/22/2017' '6/21/2017' '6/16/2017' '6/15/2017' '6/9/2017' '6/8/2017'\n",
      " '6/6/2017' '5/28/2017' '5/19/2017' '4/17/2017' '4/15/2017' '4/13/2017'\n",
      " '4/12/2017' '4/8/2017' '4/6/2017' '4/2/2017' '3/30/2017' '3/25/2017'\n",
      " '3/24/2017' '3/15/2017' '2/22/2017' '2/1/2017' '1/28/2017' '1/14/2017'\n",
      " '12/17/2016' '11/26/2016' '11/25/2016' '11/19/2016' '10/27/2016'\n",
      " '9/22/2016' '9/11/2016' '9/8/2016' '9/5/2016' '8/29/2016' '8/15/2016'\n",
      " '8/10/2016' '7/24/2016' '7/21/2016' '6/30/2016' '6/25/2016' '6/24/2016'\n",
      " '5/23/2016' '4/28/2016' '1/25/2016' '12/11/2015' '11/16/2015' '11/4/2015'\n",
      " '10/16/2015' '9/24/2015' '9/13/2015' '8/28/2015' '8/24/2015' '8/12/2015'\n",
      " '8/10/2015' '8/8/2015' '7/30/2017' '7/13/2017' '6/26/2017' '6/2/2017'\n",
      " '4/22/2017' '3/3/2017' '2/25/2017' '1/20/2017' '11/17/2016' '10/20/2016'\n",
      " '9/17/2016' '9/7/2016' '7/31/2016' '7/15/2016' '5/5/2016' '4/15/2016'\n",
      " '1/6/2016' '12/5/2015' '10/7/2015' '8/19/2015' '8/5/2015' '6/18/2016'\n",
      " '6/8/2016' '12/4/2015' '11/13/2015' '10/10/2015' '9/14/2015' '8/31/2015'\n",
      " '4/13/2016' '11/9/2015' '7/29/2017' '7/25/2017' '7/21/2017' '5/20/2017'\n",
      " '5/18/2017' '5/6/2017' '4/3/2017' '2/26/2017' '10/7/2016' '6/13/2016'\n",
      " '6/3/2017' '1/5/2017' '9/21/2016' '9/14/2016' '5/12/2017' '7/28/2017'\n",
      " '7/23/2017' '7/27/2017' '4/29/2017' '7/15/2017']\n",
      "The unique values in the Hotel_Name column are: ['Hotel Arena' 'K K Hotel George' 'Apex Temple Court Hotel' ...\n",
      " 'The Berkeley' 'Holiday Inn London Kensington' 'Atlantis Hotel Vienna']\n",
      "The unique values in the Reviewer_Nationality column are: [' Russia ' ' Ireland ' ' Australia ' ' United Kingdom ' ' New Zealand '\n",
      " ' Poland ' ' Belgium ' ' Norway ' ' France ' ' Italy ' ' Canada '\n",
      " ' Netherlands ' ' Germany ' ' United States of America ' ' Hungary '\n",
      " ' Israel ' ' Switzerland ' ' India ' ' United Arab Emirates '\n",
      " ' Malaysia ' ' Denmark ' ' South Africa ' ' Rwanda ' ' Finland '\n",
      " ' Portugal ' ' Luxembourg ' ' Spain ' ' Malta ' ' China ' ' Turkey '\n",
      " ' Ukraine ' ' Gibraltar ' ' Argentina ' ' Abkhazia Georgia '\n",
      " ' Isle of Man ' ' Sweden ' ' Croatia ' ' Saudi Arabia ' ' Lithuania '\n",
      " ' Slovenia ' ' Panama ' ' Austria ' ' Brazil ' ' Taiwan ' ' Iceland '\n",
      " ' Iran ' ' Liechtenstein ' ' Chile ' ' Hong Kong '\n",
      " ' United States Minor Outlying Islands ' ' Morocco ' ' Oman ' ' Lebanon '\n",
      " ' Qatar ' ' Nigeria ' ' Romania ' ' Czech Republic ' ' Greece '\n",
      " ' Thailand ' ' Singapore ' ' Guernsey ' ' Latvia ' ' Namibia ' ' Japan '\n",
      " ' Egypt ' ' Slovakia ' ' South Korea ' ' Kuwait ' ' Bahrain ' ' Jersey '\n",
      " ' Jordan ' ' Bulgaria ' ' Cyprus ' ' Albania ' ' Estonia ' ' Serbia '\n",
      " ' Belarus ' ' Puerto Rico ' ' Sudan ' ' Sri Lanka ' ' Indonesia '\n",
      " ' Honduras ' ' Philippines ' ' Montenegro ' ' Uruguay ' ' Brunei '\n",
      " ' Pakistan ' ' Kosovo ' ' Azerbaijan ' ' ' ' Botswana ' ' Tanzania '\n",
      " ' Bangladesh ' ' Trinidad and Tobago ' ' Palestinian Territory ' ' Peru '\n",
      " ' Mexico ' ' Kenya ' ' Zimbabwe ' ' Macedonia ' ' Georgia ' ' Bermuda '\n",
      " ' Costa Rica ' ' Bahamas ' ' Maldives ' ' Barbados ' ' Libya ' ' Fiji '\n",
      " ' Angola ' ' Kazakhstan ' ' Bosnia and Herzegovina ' ' Colombia '\n",
      " ' Armenia ' ' Vietnam ' ' Iraq ' ' Monaco ' ' Uganda ' ' Togo '\n",
      " ' Guatemala ' ' Ghana ' ' Macau ' ' Zambia ' ' Jamaica ' ' Mauritius '\n",
      " ' Venezuela ' ' Crimea ' ' St Maarten ' ' Algeria ' ' Equatorial Guinea '\n",
      " ' Nicaragua ' ' Comoros ' ' Cayman Islands ' ' Ethiopia '\n",
      " ' Dominican Republic ' ' Ecuador ' ' Uzbekistan '\n",
      " ' Turks Caicos Islands ' ' Nepal ' ' Mozambique ' ' Sierra Leone '\n",
      " ' Ivory Coast ' ' Cura ao ' ' Antigua Barbuda ' ' Burundi '\n",
      " ' East Timor ' ' Tunisia ' ' Andorra ' ' U S Virgin Islands '\n",
      " ' Antarctica ' ' Papua New Guinea ' ' Montserrat ' ' Malawi ' ' Yemen '\n",
      " ' Suriname ' ' Paraguay ' ' Aruba ' ' Mongolia ' ' Moldova '\n",
      " ' St Pierre and Miquelon ' ' Cambodia ' ' Seychelles ' ' Guyana '\n",
      " ' Senegal ' ' El Salvador ' ' Guam ' ' Myanmar ' ' Madagascar ' ' Benin '\n",
      " ' Saint Kitts and Nevis ' ' Martinique ' ' Vanuatu '\n",
      " ' British Virgin Islands ' ' Belize '\n",
      " ' Democratic Republic of the Congo ' ' Gabon ' ' New Caledonia '\n",
      " ' Bhutan ' ' Faroe Islands ' ' Kyrgyzstan ' ' Gambia ' ' Syria ' ' Laos '\n",
      " ' Mauritania ' ' Central Africa Republic ' ' Reunion ' ' Saint Martin '\n",
      " ' Cameroon ' ' Guadeloupe ' ' Liberia ' ' Haiti ' ' Mali '\n",
      " ' Saint Lucia ' ' French Guiana ' ' Swaziland '\n",
      " ' Falkland Islands Malvinas ' ' Tajikistan ' ' Afghanistan ' ' Bolivia '\n",
      " ' Dominica ' ' Niger ' ' Samoa ' ' Lesotho ' ' French Polynesia '\n",
      " ' Grenada ' ' Wallis and Futuna ' ' Svalbard Jan Mayen ' ' Djibouti '\n",
      " ' Saint Barts ' ' Kiribati ' ' Cook Islands ' ' Congo ' ' Somalia '\n",
      " ' Eritrea ' ' Saint Vincent Grenadines ' ' San Marino ' ' Turkmenistan '\n",
      " ' Vatican City ' ' South Sudan ' ' Anguilla ' ' Cocos K I '\n",
      " ' Bonaire St Eustatius and Saba ' ' Cape Verde '\n",
      " ' Northern Mariana Islands ' ' Tuvalu ' ' Guinea ' ' American Samoa '\n",
      " ' Palau ']\n",
      "The unique values in the Negative_Review column are: [' I am so angry that i made this post available via all possible sites i use when planing my trips so no one will make the mistake of booking this place I made my booking via booking com We stayed for 6 nights in this hotel from 11 to 17 July Upon arrival we were placed in a small room on the 2nd floor of the hotel It turned out that this was not the room we booked I had specially reserved the 2 level duplex room so that we would have a big windows and high ceilings The room itself was ok if you don t mind the broken window that can not be closed hello rain and a mini fridge that contained some sort of a bio weapon at least i guessed so by the smell of it I intimately asked to change the room and after explaining 2 times that i booked a duplex btw it costs the same as a simple double but got way more volume due to the high ceiling was offered a room but only the next day SO i had to check out the next day before 11 o clock in order to get the room i waned to Not the best way to begin your holiday So we had to wait till 13 00 in order to check in my new room what a wonderful waist of my time The room 023 i got was just as i wanted to peaceful internal garden view big window We were tired from waiting the room so we placed our belongings and rushed to the city In the evening it turned out that there was a constant noise in the room i guess it was made by vibrating vent tubes or something it was constant and annoying as hell AND it did not stop even at 2 am making it hard to fall asleep for me and my wife I have an audio recording that i can not attach here but if you want i can send it via e mail The next day the technician came but was not able to determine the cause of the disturbing sound so i was offered to change the room once again the hotel was fully booked and they had only 1 room left the one that was smaller but seems newer '\n",
      " 'No Negative'\n",
      " ' Rooms are nice but for elderly a bit difficult as most rooms are two story with narrow steps So ask for single level Inside the rooms are very very basic just tea coffee and boiler and no bar empty fridge '\n",
      " ... ' The hotel looks like 3 but surely not 4 '\n",
      " ' The ac was useless It was a hot week in vienna and it only gave more hot air'\n",
      " ' I was in 3rd floor It didn t work Free Wife ']\n",
      "The unique values in the Positive_Review column are: [' Only the park outside of the hotel was beautiful '\n",
      " ' No real complaints the hotel was great great location surroundings rooms amenities and service Two recommendations however firstly the staff upon check in are very confusing regarding deposit payments and the staff offer you upon checkout to refund your original payment and you can make a new one Bit confusing Secondly the on site restaurant is a bit lacking very well thought out and excellent quality food for anyone of a vegetarian or vegan background but even a wrap or toasted sandwich option would be great Aside from those minor minor things fantastic spot and will be back when i return to Amsterdam '\n",
      " ' Location was good and staff were ok It is cute hotel the breakfast range is nice Will go back '\n",
      " ... ' Breakfast was ok and we got earlier check in '\n",
      " ' The rooms are enormous and really comfortable I believe that a family of 5 members could be more than comfy in these spaces '\n",
      " ' staff was very kind ']\n",
      "The unique values in the Tags column are: [\"[' Leisure trip ', ' Couple ', ' Duplex Double Room ', ' Stayed 6 nights ']\"\n",
      " \"[' Leisure trip ', ' Couple ', ' Duplex Double Room ', ' Stayed 4 nights ']\"\n",
      " \"[' Leisure trip ', ' Family with young children ', ' Duplex Double Room ', ' Stayed 3 nights ', ' Submitted from a mobile device ']\"\n",
      " ...\n",
      " \"[' Leisure trip ', ' Solo traveler ', ' Superior Double Room with Garden View ', ' Stayed 1 night ', ' Submitted from a mobile device ']\"\n",
      " \"[' Business trip ', ' Solo traveler ', ' Superior Double Room with Garden View ', ' Stayed 2 nights ']\"\n",
      " \"[' Leisure trip ', ' Family with young children ', ' Standard Double or Twin Room ', ' Stayed 10 nights ']\"]\n",
      "The unique values in the days_since_review column are: ['0 days' '3 days' '10 days' '17 days' '25 days' '26 days' '27 days'\n",
      " '28 days' '30 days' '31 days' '34 days' '35 days' '44 days' '45 days'\n",
      " '52 days' '54 days' '66 days' '68 days' '70 days' '73 days' '74 days'\n",
      " '79 days' '84 days' '86 days' '93 days' '98 days' '99 days' '105 day'\n",
      " '106 day' '107 day' '109 day' '111 day' '115 day' '120 day' '127 day'\n",
      " '134 day' '136 day' '137 day' '138 day' '140 day' '150 day' '164 day'\n",
      " '167 day' '170 day' '175 day' '178 day' '186 day' '188 day' '190 day'\n",
      " '196 day' '207 day' '217 day' '218 day' '225 day' '226 day' '227 day'\n",
      " '231 day' '232 day' '233 day' '234 day' '235 day' '236 day' '239 day'\n",
      " '261 day' '269 day' '270 day' '274 day' '276 day' '277 day' '281 day'\n",
      " '282 day' '283 day' '294 day' '295 day' '296 day' '301 day' '303 day'\n",
      " '310 day' '318 day' '319 day' '325 day' '328 day' '337 day' '355 day'\n",
      " '369 day' '372 day' '373 day' '379 day' '382 day' '385 day' '390 day'\n",
      " '394 day' '397 day' '400 day' '402 day' '412 day' '413 day' '424 day'\n",
      " '428 day' '432 day' '438 day' '443 day' '453 day' '457 day' '459 day'\n",
      " '464 day' '466 day' '467 day' '468 day' '471 day' '473 day' '478 day'\n",
      " '483 day' '485 day' '492 day' '498 day' '501 day' '504 day' '505 day'\n",
      " '506 day' '509 day' '519 day' '520 day' '521 day' '530 day' '534 day'\n",
      " '535 day' '540 day' '541 day' '542 day' '543 day' '546 day' '547 day'\n",
      " '548 day' '549 day' '555 day' '558 day' '562 day' '566 day' '569 day'\n",
      " '576 day' '578 day' '579 day' '581 day' '586 day' '590 day' '597 day'\n",
      " '599 day' '604 day' '609 day' '613 day' '618 day' '625 day' '627 day'\n",
      " '628 day' '631 day' '632 day' '636 day' '639 day' '641 day' '643 day'\n",
      " '644 day' '647 day' '648 day' '650 day' '651 day' '652 day' '654 day'\n",
      " '655 day' '656 day' '659 day' '669 day' '673 day' '674 day' '675 day'\n",
      " '677 day' '678 day' '683 day' '685 day' '691 day' '692 day' '696 day'\n",
      " '698 day' '700 day' '702 day' '704 day' '707 day' '708 day' '709 day'\n",
      " '714 day' '716 day' '720 day' '723 day' '728 day' '730 day' '12 days'\n",
      " '15 days' '22 days' '24 days' '39 days' '40 days' '47 days' '51 days'\n",
      " '59 days' '80 days' '91 days' '92 days' '94 days' '97 days' '101 day'\n",
      " '114 day' '121 day' '143 day' '146 day' '149 day' '152 day' '169 day'\n",
      " '171 day' '176 day' '179 day' '181 day' '182 day' '185 day' '191 day'\n",
      " '193 day' '194 day' '211 day' '212 day' '219 day' '240 day' '248 day'\n",
      " '249 day' '288 day' '289 day' '304 day' '340 day' '341 day' '342 day'\n",
      " '354 day' '359 day' '360 day' '361 day' '366 day' '370 day' '376 day'\n",
      " '380 day' '392 day' '403 day' '425 day' '426 day' '430 day' '431 day'\n",
      " '439 day' '441 day' '447 day' '460 day' '465 day' '476 day' '480 day'\n",
      " '490 day' '494 day' '495 day' '508 day' '513 day' '518 day' '523 day'\n",
      " '525 day' '528 day' '559 day' '565 day' '570 day' '573 day' '582 day'\n",
      " '598 day' '602 day' '616 day' '621 day' '623 day' '630 day' '645 day'\n",
      " '646 day' '653 day' '660 day' '668 day' '671 day' '672 day' '684 day'\n",
      " '687 day' '688 day' '694 day' '697 day' '699 day' '711 day' '712 day'\n",
      " '717 day' '718 day' '725 day' '1 days' '14 days' '16 days' '37 days'\n",
      " '41 days' '53 days' '57 days' '64 days' '69 days' '82 days' '90 days'\n",
      " '102 day' '116 day' '125 day' '129 day' '130 day' '145 day' '147 day'\n",
      " '148 day' '154 day' '156 day' '165 day' '172 day' '174 day' '180 day'\n",
      " '192 day' '197 day' '199 day' '200 day' '202 day' '206 day' '216 day'\n",
      " '220 day' '224 day' '228 day' '230 day' '238 day' '243 day' '244 day'\n",
      " '253 day' '260 day' '262 day' '263 day' '264 day' '268 day' '271 day'\n",
      " '273 day' '284 day' '285 day' '286 day' '291 day' '292 day' '299 day'\n",
      " '308 day' '309 day' '312 day' '333 day' '343 day' '345 day' '350 day'\n",
      " '352 day' '364 day' '365 day' '401 day' '408 day' '415 day' '418 day'\n",
      " '419 day' '423 day' '440 day' '442 day' '444 day' '449 day' '454 day'\n",
      " '461 day' '463 day' '469 day' '472 day' '481 day' '482 day' '487 day'\n",
      " '489 day' '493 day' '497 day' '499 day' '500 day' '503 day' '512 day'\n",
      " '514 day' '516 day' '517 day' '522 day' '526 day' '527 day' '529 day'\n",
      " '532 day' '537 day' '538 day' '539 day' '545 day' '550 day' '557 day'\n",
      " '560 day' '563 day' '571 day' '583 day' '585 day' '587 day' '588 day'\n",
      " '594 day' '596 day' '611 day' '614 day' '615 day' '635 day' '649 day'\n",
      " '665 day' '2 days' '8 days' '18 days' '46 days' '72 days' '85 days'\n",
      " '100 day' '144 day' '163 day' '166 day' '168 day' '173 day' '189 day'\n",
      " '198 day' '203 day' '205 day' '246 day' '247 day' '254 day' '266 day'\n",
      " '272 day' '279 day' '302 day' '305 day' '311 day' '313 day' '321 day'\n",
      " '334 day' '336 day' '344 day' '346 day' '347 day' '348 day' '349 day'\n",
      " '357 day' '367 day' '387 day' '389 day' '391 day' '396 day' '407 day'\n",
      " '409 day' '422 day' '429 day' '433 day' '434 day' '435 day' '446 day'\n",
      " '448 day' '451 day' '486 day' '488 day' '496 day' '502 day' '507 day'\n",
      " '510 day' '511 day' '515 day' '524 day' '531 day' '533 day' '536 day'\n",
      " '544 day' '551 day' '564 day' '567 day' '574 day' '595 day' '600 day'\n",
      " '605 day' '610 day' '661 day' '662 day' '664 day' '667 day' '670 day'\n",
      " '676 day' '681 day' '686 day' '29 days' '33 days' '50 days' '78 days'\n",
      " '81 days' '104 day' '151 day' '155 day' '157 day' '160 day' '177 day'\n",
      " '215 day' '221 day' '222 day' '223 day' '241 day' '242 day' '245 day'\n",
      " '252 day' '275 day' '278 day' '293 day' '297 day' '298 day' '306 day'\n",
      " '307 day' '314 day' '322 day' '327 day' '331 day' '338 day' '363 day'\n",
      " '371 day' '374 day' '377 day' '386 day' '393 day' '398 day' '414 day'\n",
      " '417 day' '420 day' '436 day' '445 day' '456 day' '458 day' '470 day'\n",
      " '474 day' '484 day' '553 day' '554 day' '568 day' '577 day' '580 day'\n",
      " '584 day' '591 day' '593 day' '603 day' '606 day' '612 day' '622 day'\n",
      " '634 day' '637 day' '640 day' '642 day' '680 day' '693 day' '695 day'\n",
      " '713 day' '719 day' '721 day' '727 day' '23 days' '60 days' '63 days'\n",
      " '65 days' '71 days' '87 days' '88 days' '95 days' '118 day' '124 day'\n",
      " '128 day' '133 day' '135 day' '139 day' '142 day' '161 day' '184 day'\n",
      " '204 day' '208 day' '209 day' '213 day' '214 day' '237 day' '255 day'\n",
      " '256 day' '258 day' '265 day' '267 day' '290 day' '317 day' '324 day'\n",
      " '335 day' '351 day' '356 day' '362 day' '381 day' '383 day' '388 day'\n",
      " '395 day' '406 day' '410 day' '427 day' '450 day' '452 day' '479 day'\n",
      " '491 day' '552 day' '561 day' '572 day' '589 day' '592 day' '617 day'\n",
      " '619 day' '620 day' '624 day' '658 day' '682 day' '701 day' '705 day'\n",
      " '20 days' '32 days' '36 days' '42 days' '43 days' '48 days' '49 days'\n",
      " '55 days' '56 days' '58 days' '67 days' '76 days' '108 day' '110 day'\n",
      " '112 day' '113 day' '117 day' '119 day' '123 day' '126 day' '131 day'\n",
      " '132 day' '141 day' '162 day' '183 day' '187 day' '201 day' '229 day'\n",
      " '250 day' '251 day' '257 day' '280 day' '315 day' '326 day' '329 day'\n",
      " '332 day' '339 day' '353 day' '358 day' '375 day' '378 day' '399 day'\n",
      " '404 day' '405 day' '437 day' '462 day' '556 day' '601 day' '626 day'\n",
      " '638 day' '657 day' '679 day' '690 day' '706 day' '710 day' '722 day'\n",
      " '724 day' '726 day' '4 days' '21 days' '38 days' '62 days' '103 day'\n",
      " '153 day' '159 day' '195 day' '259 day' '287 day' '320 day' '330 day'\n",
      " '368 day' '384 day' '455 day' '475 day' '575 day' '607 day' '666 day'\n",
      " '715 day' '729 day' '411 day' '421 day' '608 day' '629 day' '663 day'\n",
      " '689 day' '703 day' '477 day' '633 day' '5 days' '9 days' '13 days'\n",
      " '75 days' '77 days' '89 days' '122 day' '158 day' '300 day' '416 day'\n",
      " '61 days' '210 day' '316 day' '323 day' '83 days' '6 days' '11 days'\n",
      " '7 days' '96 days' '19 days']\n"
     ]
    }
   ],
   "source": [
    "# lets look at the non-numeric columns\n",
    "for column in hotel_df_cleaned.columns:\n",
    "    if hotel_df_cleaned[column].dtype == 'object':\n",
    "        print(f'The unique values in the {column} column are: {hotel_df_cleaned[column].unique()}')"
   ]
  },
  {
   "cell_type": "markdown",
   "metadata": {},
   "source": [
    "After taking a closer look at unique values, we can see that all of the non-numeric columns can be turned into numeric columns. This can be done by preforming some feature engineering, One-Hot Encoding or using the get_dummies method, converting date columns to numeric, and more. We will do this in the next section."
   ]
  },
  {
   "cell_type": "markdown",
   "metadata": {},
   "source": [
    "## **3. Data Wrangling**"
   ]
  },
  {
   "cell_type": "markdown",
   "metadata": {},
   "source": [
    "We will begin by Converting the `Reviewer_Score` column into a binary column in the following way. Reviews that are below 9 should be encoded as 0 ('not good') and reviews with  scores 9 and 10 as 1 ('good')."
   ]
  },
  {
   "cell_type": "code",
   "execution_count": 18,
   "metadata": {},
   "outputs": [
    {
     "data": {
      "text/plain": [
       "0    268701\n",
       "1    247037\n",
       "Name: Reviewer_Score, dtype: int64"
      ]
     },
     "execution_count": 18,
     "metadata": {},
     "output_type": "execute_result"
    }
   ],
   "source": [
    "# binning the Reviewer_Score column into 2 categories: 0 for bad reviews (0-8) and 1 for good reviews (9-10)\n",
    "hotel_df_cleaned['Reviewer_Score'] = hotel_df_cleaned['Reviewer_Score'].apply(lambda x: 0 if x <= 8 else 1)\n",
    "\n",
    "# checking the results\n",
    "hotel_df_cleaned['Reviewer_Score'].value_counts()"
   ]
  },
  {
   "cell_type": "markdown",
   "metadata": {},
   "source": [
    "Now that we have encoded the `Reviewer_Score` column, this should fix the problem with biasing the model towards predicting positive reviews."
   ]
  },
  {
   "cell_type": "markdown",
   "metadata": {},
   "source": [
    "Let's continue to convert the other non-numeric columns we've identified earlier into numeric columns, except for the Positive_Review and Negative_Review."
   ]
  },
  {
   "cell_type": "markdown",
   "metadata": {},
   "source": [
    "## **Hotel_Address**\n",
    "\n",
    "Let's begin with the `Hotel_Address` column. "
   ]
  },
  {
   "cell_type": "code",
   "execution_count": 19,
   "metadata": {},
   "outputs": [
    {
     "name": "stdout",
     "output_type": "stream",
     "text": [
      "163 Marsh Wall Docklands Tower Hamlets London E14 9SJ United Kingdom              4789\n",
      "372 Strand Westminster Borough London WC2R 0JJ United Kingdom                     4256\n",
      "Westminster Bridge Road Lambeth London SE1 7UT United Kingdom                     4169\n",
      "Scarsdale Place Kensington Kensington and Chelsea London W8 5SY United Kingdom    3578\n",
      "7 Pepys Street City of London London EC3N 4AF United Kingdom                      3212\n",
      "                                                                                  ... \n",
      "21 rue Lavoisier 8th arr 75008 Paris France                                         12\n",
      "2 4 Boundary Street Hackney London E2 7DD United Kingdom                            12\n",
      "Via M Buonarroti 13 Fiera Milano City 20149 Milan Italy                             10\n",
      "13 Rue Fran ois Ory 92120 Paris France                                              10\n",
      "Johann Staud Stra e 32 16 Ottakring 1160 Vienna Austria                              8\n",
      "Name: Hotel_Address, Length: 1493, dtype: int64\n",
      "There are 1493 unique values in the Hotel_Address column.\n"
     ]
    }
   ],
   "source": [
    "# using the .value_counts() method to find the unique values in the Hotel_Address column\n",
    "v_counts = hotel_df_cleaned['Hotel_Address'].value_counts()\n",
    "\n",
    "# using the nunique() method to find the number of unique values in the Hotel_Address column\n",
    "n_uniq = hotel_df_cleaned['Hotel_Address'].nunique()\n",
    "\n",
    "print(v_counts)\n",
    "print(f'There are {n_uniq} unique values in the Hotel_Address column.')"
   ]
  },
  {
   "cell_type": "markdown",
   "metadata": {},
   "source": [
    "With this many unique values, it will be difficult to turn this column into numeric values. Another problem is that the `Hotel_Address` column is not ordinal. So we can't just assign a number to each unique value. So instead, we can reduce the number of unique values by grouping the hotels by city and country."
   ]
  },
  {
   "cell_type": "code",
   "execution_count": 20,
   "metadata": {},
   "outputs": [
    {
     "data": {
      "text/plain": [
       "[United, Kingdom]           262301\n",
       "[Barcelona, Spain]           59942\n",
       "[Paris, France]              59546\n",
       "[Amsterdam, Netherlands]     57214\n",
       "[Milan, Italy]               37207\n",
       "[Vienna, Austria]            36260\n",
       "[Wien,, Austria]              2679\n",
       "[Paris,, France]               382\n",
       "[Barcelona,, Spain]            207\n",
       "Name: Hotel_City_Country, dtype: int64"
      ]
     },
     "execution_count": 20,
     "metadata": {},
     "output_type": "execute_result"
    }
   ],
   "source": [
    "# extracting the city and country from the Hotel_Address column\n",
    "hotel_df_cleaned['Hotel_City_Country'] = hotel_df_cleaned['Hotel_Address'].str.split(' ').str[-2:]\n",
    "\n",
    "# checking the results\n",
    "hotel_df_cleaned['Hotel_City_Country'].value_counts()"
   ]
  },
  {
   "cell_type": "markdown",
   "metadata": {},
   "source": [
    "This looks much better. But we will still need to clean up the data a bit more. We can see that there are some extra spaces and special characters. Let's clean this up."
   ]
  },
  {
   "cell_type": "code",
   "execution_count": 21,
   "metadata": {},
   "outputs": [
    {
     "name": "stderr",
     "output_type": "stream",
     "text": [
      "C:\\Users\\robby\\AppData\\Local\\Temp\\ipykernel_25400\\929830924.py:2: FutureWarning: The default value of regex will change from True to False in a future version. In addition, single character regular expressions will *not* be treated as literal strings when regex=True.\n",
      "  hotel_df_cleaned['Hotel_City_Country'] = hotel_df_cleaned['Hotel_City_Country'].str.join(' ').str.replace('[', '').str.replace(']', '')\n"
     ]
    },
    {
     "data": {
      "text/plain": [
       "United Kingdom           262301\n",
       "Barcelona Spain           59942\n",
       "Paris France              59546\n",
       "Amsterdam Netherlands     57214\n",
       "Milan Italy               37207\n",
       "Vienna Austria            36260\n",
       "Wien, Austria              2679\n",
       "Paris, France               382\n",
       "Barcelona, Spain            207\n",
       "Name: Hotel_City_Country, dtype: int64"
      ]
     },
     "execution_count": 21,
     "metadata": {},
     "output_type": "execute_result"
    }
   ],
   "source": [
    "# removing the square brackets from the Hotel_City_Country column\n",
    "hotel_df_cleaned['Hotel_City_Country'] = hotel_df_cleaned['Hotel_City_Country'].str.join(' ').str.replace('[', '').str.replace(']', '')\n",
    "\n",
    "# checking the results\n",
    "hotel_df_cleaned['Hotel_City_Country'].value_counts()"
   ]
  },
  {
   "cell_type": "markdown",
   "metadata": {},
   "source": [
    "It looks like there are still some duplicates that need to be cleaned up."
   ]
  },
  {
   "cell_type": "code",
   "execution_count": 22,
   "metadata": {},
   "outputs": [
    {
     "data": {
      "text/plain": [
       "London United Kingdom    262301\n",
       "Barcelona Spain           60149\n",
       "Paris France              59928\n",
       "Amsterdam Netherlands     57214\n",
       "Vienna Austria            38939\n",
       "Milan Italy               37207\n",
       "Name: Hotel_City_Country, dtype: int64"
      ]
     },
     "execution_count": 22,
     "metadata": {},
     "output_type": "execute_result"
    }
   ],
   "source": [
    "# replacing the duplicates with the correct values\n",
    "hotel_df_cleaned['Hotel_City_Country'] = hotel_df_cleaned['Hotel_City_Country'].str.replace('Wien,', 'Vienna').str.replace('Paris,', 'Paris').str.replace('Barcelona,', 'Barcelona').str.replace('United Kingdom', 'London United Kingdom')\n",
    "\n",
    "# checking the results\n",
    "hotel_df_cleaned['Hotel_City_Country'].value_counts()"
   ]
  },
  {
   "cell_type": "markdown",
   "metadata": {},
   "source": [
    "Now we can drop the `Hotel_Address` column as we have created a new column called `Hotel_City_Country`."
   ]
  },
  {
   "cell_type": "code",
   "execution_count": 23,
   "metadata": {},
   "outputs": [
    {
     "data": {
      "text/plain": [
       "Index(['Additional_Number_of_Scoring', 'Review_Date', 'Average_Score',\n",
       "       'Hotel_Name', 'Reviewer_Nationality', 'Negative_Review',\n",
       "       'Review_Total_Negative_Word_Counts', 'Total_Number_of_Reviews',\n",
       "       'Positive_Review', 'Review_Total_Positive_Word_Counts',\n",
       "       'Total_Number_of_Reviews_Reviewer_Has_Given', 'Reviewer_Score', 'Tags',\n",
       "       'days_since_review', 'lat', 'lng', 'Hotel_City_Country'],\n",
       "      dtype='object')"
      ]
     },
     "execution_count": 23,
     "metadata": {},
     "output_type": "execute_result"
    }
   ],
   "source": [
    "# dropping the Hotel_Address column\n",
    "hotel_df_cleaned.drop('Hotel_Address', axis=1, inplace=True)\n",
    "\n",
    "# checking the results\n",
    "hotel_df_cleaned.columns"
   ]
  },
  {
   "cell_type": "markdown",
   "metadata": {},
   "source": [
    "Lets take a quick look at the distribution of the `Hotel_City_Country` column and see what we can learn from it."
   ]
  },
  {
   "cell_type": "code",
   "execution_count": 24,
   "metadata": {},
   "outputs": [
    {
     "data": {
      "image/png": "[encoded data removed]",
      "text/plain": [
       "<Figure size 1000x600 with 1 Axes>"
      ]
     },
     "metadata": {},
     "output_type": "display_data"
    }
   ],
   "source": [
    "# plotting the distribution of the Hotel_City_Country column\n",
    "plt.figure(figsize=(10, 6))\n",
    "sns.countplot(y=hotel_df_cleaned['Hotel_City_Country'], order=hotel_df_cleaned['Hotel_City_Country'].value_counts().index)\n",
    "plt.title('Distribution of Hotel City and Country', fontsize=16)\n",
    "plt.xlabel('Count')\n",
    "plt.ylabel('Hotel City and Country')\n",
    "plt.show()"
   ]
  },
  {
   "cell_type": "markdown",
   "metadata": {},
   "source": [
    "It looks like the majority of the hotels are located in London, followed by Barcelona, Paris, and then Amsterdam."
   ]
  },
  {
   "cell_type": "markdown",
   "metadata": {},
   "source": [
    "Now that we have reduced the number of unique values, we can turn the `Hotel_City_Country` column into a binary column. We can do this by using the get_dummies method."
   ]
  },
  {
   "cell_type": "code",
   "execution_count": 25,
   "metadata": {},
   "outputs": [
    {
     "name": "stdout",
     "output_type": "stream",
     "text": [
      "Index(['Additional_Number_of_Scoring', 'Review_Date', 'Average_Score',\n",
      "       'Hotel_Name', 'Reviewer_Nationality', 'Negative_Review',\n",
      "       'Review_Total_Negative_Word_Counts', 'Total_Number_of_Reviews',\n",
      "       'Positive_Review', 'Review_Total_Positive_Word_Counts',\n",
      "       'Total_Number_of_Reviews_Reviewer_Has_Given', 'Reviewer_Score', 'Tags',\n",
      "       'days_since_review', 'lat', 'lng', 'Hotel_City_Country_Barcelona Spain',\n",
      "       'Hotel_City_Country_London United Kingdom',\n",
      "       'Hotel_City_Country_Milan Italy', 'Hotel_City_Country_Paris France',\n",
      "       'Hotel_City_Country_Vienna Austria'],\n",
      "      dtype='object')\n"
     ]
    },
    {
     "data": {
      "text/html": [
       "<div>\n",
       "<style scoped>\n",
       "    .dataframe tbody tr th:only-of-type {\n",
       "        vertical-align: middle;\n",
       "    }\n",
       "\n",
       "    .dataframe tbody tr th {\n",
       "        vertical-align: top;\n",
       "    }\n",
       "\n",
       "    .dataframe thead th {\n",
       "        text-align: right;\n",
       "    }\n",
       "</style>\n",
       "<table border=\"1\" class=\"dataframe\">\n",
       "  <thead>\n",
       "    <tr style=\"text-align: right;\">\n",
       "      <th></th>\n",
       "      <th>Additional_Number_of_Scoring</th>\n",
       "      <th>Review_Date</th>\n",
       "      <th>Average_Score</th>\n",
       "      <th>Hotel_Name</th>\n",
       "      <th>Reviewer_Nationality</th>\n",
       "      <th>Negative_Review</th>\n",
       "      <th>Review_Total_Negative_Word_Counts</th>\n",
       "      <th>Total_Number_of_Reviews</th>\n",
       "      <th>Positive_Review</th>\n",
       "      <th>Review_Total_Positive_Word_Counts</th>\n",
       "      <th>...</th>\n",
       "      <th>Reviewer_Score</th>\n",
       "      <th>Tags</th>\n",
       "      <th>days_since_review</th>\n",
       "      <th>lat</th>\n",
       "      <th>lng</th>\n",
       "      <th>Hotel_City_Country_Barcelona Spain</th>\n",
       "      <th>Hotel_City_Country_London United Kingdom</th>\n",
       "      <th>Hotel_City_Country_Milan Italy</th>\n",
       "      <th>Hotel_City_Country_Paris France</th>\n",
       "      <th>Hotel_City_Country_Vienna Austria</th>\n",
       "    </tr>\n",
       "  </thead>\n",
       "  <tbody>\n",
       "    <tr>\n",
       "      <th>336494</th>\n",
       "      <td>65</td>\n",
       "      <td>8/18/2015</td>\n",
       "      <td>8.1</td>\n",
       "      <td>Pertschy Palais Hotel</td>\n",
       "      <td>United States of America</td>\n",
       "      <td>shuttle didnot come on time so we t got local...</td>\n",
       "      <td>54</td>\n",
       "      <td>1225</td>\n",
       "      <td>located in historic part of vienna very nice ...</td>\n",
       "      <td>10</td>\n",
       "      <td>...</td>\n",
       "      <td>0</td>\n",
       "      <td>[' Leisure trip ', ' Group ', ' Family Room ',...</td>\n",
       "      <td>716 day</td>\n",
       "      <td>48.208226</td>\n",
       "      <td>16.368412</td>\n",
       "      <td>0</td>\n",
       "      <td>0</td>\n",
       "      <td>0</td>\n",
       "      <td>0</td>\n",
       "      <td>1</td>\n",
       "    </tr>\n",
       "    <tr>\n",
       "      <th>375207</th>\n",
       "      <td>495</td>\n",
       "      <td>12/1/2016</td>\n",
       "      <td>8.5</td>\n",
       "      <td>The Mandeville Hotel</td>\n",
       "      <td>Switzerland</td>\n",
       "      <td>Three things are extremely annoying and the r...</td>\n",
       "      <td>160</td>\n",
       "      <td>2300</td>\n",
       "      <td>Mr Rafael at the front desk is always equally...</td>\n",
       "      <td>27</td>\n",
       "      <td>...</td>\n",
       "      <td>0</td>\n",
       "      <td>[' Business trip ', ' Solo traveler ', ' Delux...</td>\n",
       "      <td>245 day</td>\n",
       "      <td>51.516517</td>\n",
       "      <td>-0.150974</td>\n",
       "      <td>0</td>\n",
       "      <td>1</td>\n",
       "      <td>0</td>\n",
       "      <td>0</td>\n",
       "      <td>0</td>\n",
       "    </tr>\n",
       "    <tr>\n",
       "      <th>392624</th>\n",
       "      <td>201</td>\n",
       "      <td>5/8/2017</td>\n",
       "      <td>7.7</td>\n",
       "      <td>Exe Vienna</td>\n",
       "      <td>Ukraine</td>\n",
       "      <td>No Negative</td>\n",
       "      <td>0</td>\n",
       "      <td>2667</td>\n",
       "      <td>Great hotel which made our trip to Vienna eve...</td>\n",
       "      <td>54</td>\n",
       "      <td>...</td>\n",
       "      <td>1</td>\n",
       "      <td>[' Leisure trip ', ' Couple ', ' Double Room '...</td>\n",
       "      <td>87 days</td>\n",
       "      <td>48.214941</td>\n",
       "      <td>16.336529</td>\n",
       "      <td>0</td>\n",
       "      <td>0</td>\n",
       "      <td>0</td>\n",
       "      <td>0</td>\n",
       "      <td>1</td>\n",
       "    </tr>\n",
       "  </tbody>\n",
       "</table>\n",
       "<p>3 rows × 21 columns</p>\n",
       "</div>"
      ],
      "text/plain": [
       "        Additional_Number_of_Scoring Review_Date  Average_Score  \\\n",
       "336494                            65   8/18/2015            8.1   \n",
       "375207                           495   12/1/2016            8.5   \n",
       "392624                           201    5/8/2017            7.7   \n",
       "\n",
       "                   Hotel_Name        Reviewer_Nationality  \\\n",
       "336494  Pertschy Palais Hotel   United States of America    \n",
       "375207   The Mandeville Hotel                Switzerland    \n",
       "392624             Exe Vienna                    Ukraine    \n",
       "\n",
       "                                          Negative_Review  \\\n",
       "336494   shuttle didnot come on time so we t got local...   \n",
       "375207   Three things are extremely annoying and the r...   \n",
       "392624                                        No Negative   \n",
       "\n",
       "        Review_Total_Negative_Word_Counts  Total_Number_of_Reviews  \\\n",
       "336494                                 54                     1225   \n",
       "375207                                160                     2300   \n",
       "392624                                  0                     2667   \n",
       "\n",
       "                                          Positive_Review  \\\n",
       "336494   located in historic part of vienna very nice ...   \n",
       "375207   Mr Rafael at the front desk is always equally...   \n",
       "392624   Great hotel which made our trip to Vienna eve...   \n",
       "\n",
       "        Review_Total_Positive_Word_Counts  ...  Reviewer_Score  \\\n",
       "336494                                 10  ...               0   \n",
       "375207                                 27  ...               0   \n",
       "392624                                 54  ...               1   \n",
       "\n",
       "                                                     Tags days_since_review  \\\n",
       "336494  [' Leisure trip ', ' Group ', ' Family Room ',...           716 day   \n",
       "375207  [' Business trip ', ' Solo traveler ', ' Delux...           245 day   \n",
       "392624  [' Leisure trip ', ' Couple ', ' Double Room '...           87 days   \n",
       "\n",
       "              lat        lng  Hotel_City_Country_Barcelona Spain  \\\n",
       "336494  48.208226  16.368412                                   0   \n",
       "375207  51.516517  -0.150974                                   0   \n",
       "392624  48.214941  16.336529                                   0   \n",
       "\n",
       "        Hotel_City_Country_London United Kingdom  \\\n",
       "336494                                         0   \n",
       "375207                                         1   \n",
       "392624                                         0   \n",
       "\n",
       "        Hotel_City_Country_Milan Italy  Hotel_City_Country_Paris France  \\\n",
       "336494                               0                                0   \n",
       "375207                               0                                0   \n",
       "392624                               0                                0   \n",
       "\n",
       "        Hotel_City_Country_Vienna Austria  \n",
       "336494                                  1  \n",
       "375207                                  0  \n",
       "392624                                  1  \n",
       "\n",
       "[3 rows x 21 columns]"
      ]
     },
     "execution_count": 25,
     "metadata": {},
     "output_type": "execute_result"
    }
   ],
   "source": [
    "# using get_dummies to convert the Hotel_City_Country column to dummy variables\n",
    "hotel_df = pd.get_dummies(hotel_df_cleaned, columns=['Hotel_City_Country'], drop_first=True)\n",
    "\n",
    "# checking the results\n",
    "print(hotel_df.columns)\n",
    "\n",
    "# inspecting the first 3 rows of the dataset\n",
    "hotel_df.sample(3)"
   ]
  },
  {
   "cell_type": "markdown",
   "metadata": {},
   "source": [
    "We have successfully turned the `Hotel_City_Country` column into numeric values. Let's take a look at the `Review_Date` column.\n",
    "\n",
    "## **Review_Date**\n",
    "\n",
    "Lets begin by inspecting the `Review_Date` column."
   ]
  },
  {
   "cell_type": "code",
   "execution_count": 26,
   "metadata": {},
   "outputs": [
    {
     "name": "stdout",
     "output_type": "stream",
     "text": [
      "8/2/2017      2585\n",
      "9/15/2016     2308\n",
      "4/5/2017      2284\n",
      "8/30/2016     1963\n",
      "2/16/2016     1940\n",
      "              ... \n",
      "9/10/2016      199\n",
      "11/27/2015     194\n",
      "4/3/2017       192\n",
      "4/1/2017       173\n",
      "4/2/2017       143\n",
      "Name: Review_Date, Length: 731, dtype: int64\n",
      "There are 731 unique values in the Review_Date column.\n"
     ]
    }
   ],
   "source": [
    "# using the .value_counts() method to find the unique values in the Review_Date column\n",
    "v_counts = hotel_df['Review_Date'].value_counts()\n",
    "\n",
    "# using the nunique() method to find the number of unique values in the Review_Date column\n",
    "n_uniq = hotel_df['Review_Date'].nunique()\n",
    "\n",
    "print(v_counts)\n",
    "print(f'There are {n_uniq} unique values in the Review_Date column.')"
   ]
  },
  {
   "cell_type": "markdown",
   "metadata": {},
   "source": [
    "As we can see, the `Review_Date` contains the date of the reviews. We can convert this to a datetime object. This will allow us to extract the year, month, and day from the `Review_Date` column."
   ]
  },
  {
   "cell_type": "code",
   "execution_count": 27,
   "metadata": {},
   "outputs": [
    {
     "name": "stdout",
     "output_type": "stream",
     "text": [
      "<class 'pandas.core.series.Series'>\n",
      "RangeIndex: 515738 entries, 0 to 515737\n",
      "Series name: Review_Date\n",
      "Non-Null Count   Dtype         \n",
      "--------------   -----         \n",
      "515738 non-null  datetime64[ns]\n",
      "dtypes: datetime64[ns](1)\n",
      "memory usage: 3.9 MB\n"
     ]
    }
   ],
   "source": [
    "# converting the Review_Date column to datetime\n",
    "hotel_df['Review_Date'] = pd.to_datetime(hotel_df['Review_Date'])\n",
    "\n",
    "# checking the results\n",
    "hotel_df['Review_Date'].info()"
   ]
  },
  {
   "cell_type": "markdown",
   "metadata": {},
   "source": [
    "Now that we have converted the `Review_Date` column to a datetime object, we can extract the year, month, and day from the `Review_Date` column for granularity."
   ]
  },
  {
   "cell_type": "code",
   "execution_count": 28,
   "metadata": {},
   "outputs": [
    {
     "data": {
      "text/html": [
       "<div>\n",
       "<style scoped>\n",
       "    .dataframe tbody tr th:only-of-type {\n",
       "        vertical-align: middle;\n",
       "    }\n",
       "\n",
       "    .dataframe tbody tr th {\n",
       "        vertical-align: top;\n",
       "    }\n",
       "\n",
       "    .dataframe thead th {\n",
       "        text-align: right;\n",
       "    }\n",
       "</style>\n",
       "<table border=\"1\" class=\"dataframe\">\n",
       "  <thead>\n",
       "    <tr style=\"text-align: right;\">\n",
       "      <th></th>\n",
       "      <th>Additional_Number_of_Scoring</th>\n",
       "      <th>Review_Date</th>\n",
       "      <th>Average_Score</th>\n",
       "      <th>Hotel_Name</th>\n",
       "      <th>Reviewer_Nationality</th>\n",
       "      <th>Negative_Review</th>\n",
       "      <th>Review_Total_Negative_Word_Counts</th>\n",
       "      <th>Total_Number_of_Reviews</th>\n",
       "      <th>Positive_Review</th>\n",
       "      <th>Review_Total_Positive_Word_Counts</th>\n",
       "      <th>...</th>\n",
       "      <th>lat</th>\n",
       "      <th>lng</th>\n",
       "      <th>Hotel_City_Country_Barcelona Spain</th>\n",
       "      <th>Hotel_City_Country_London United Kingdom</th>\n",
       "      <th>Hotel_City_Country_Milan Italy</th>\n",
       "      <th>Hotel_City_Country_Paris France</th>\n",
       "      <th>Hotel_City_Country_Vienna Austria</th>\n",
       "      <th>Review_Year</th>\n",
       "      <th>Review_Month</th>\n",
       "      <th>Review_Day</th>\n",
       "    </tr>\n",
       "  </thead>\n",
       "  <tbody>\n",
       "    <tr>\n",
       "      <th>154753</th>\n",
       "      <td>147</td>\n",
       "      <td>2016-01-14</td>\n",
       "      <td>9.1</td>\n",
       "      <td>Hotel Indigo London Kensington</td>\n",
       "      <td>Finland</td>\n",
       "      <td>No Negative</td>\n",
       "      <td>0</td>\n",
       "      <td>975</td>\n",
       "      <td>Well connected to Heathrow airport and to cit...</td>\n",
       "      <td>15</td>\n",
       "      <td>...</td>\n",
       "      <td>51.492029</td>\n",
       "      <td>-0.191780</td>\n",
       "      <td>0</td>\n",
       "      <td>1</td>\n",
       "      <td>0</td>\n",
       "      <td>0</td>\n",
       "      <td>0</td>\n",
       "      <td>2016</td>\n",
       "      <td>1</td>\n",
       "      <td>14</td>\n",
       "    </tr>\n",
       "    <tr>\n",
       "      <th>461589</th>\n",
       "      <td>297</td>\n",
       "      <td>2017-03-13</td>\n",
       "      <td>8.3</td>\n",
       "      <td>Park Hotel</td>\n",
       "      <td>Ireland</td>\n",
       "      <td>Although close to the museums it did take 10 ...</td>\n",
       "      <td>365</td>\n",
       "      <td>2027</td>\n",
       "      <td>Location Good It was close to the museums Tra...</td>\n",
       "      <td>51</td>\n",
       "      <td>...</td>\n",
       "      <td>52.361381</td>\n",
       "      <td>4.883259</td>\n",
       "      <td>0</td>\n",
       "      <td>0</td>\n",
       "      <td>0</td>\n",
       "      <td>0</td>\n",
       "      <td>0</td>\n",
       "      <td>2017</td>\n",
       "      <td>3</td>\n",
       "      <td>13</td>\n",
       "    </tr>\n",
       "    <tr>\n",
       "      <th>68701</th>\n",
       "      <td>2682</td>\n",
       "      <td>2015-08-09</td>\n",
       "      <td>7.1</td>\n",
       "      <td>Britannia International Hotel Canary Wharf</td>\n",
       "      <td>United Kingdom</td>\n",
       "      <td>at first I was hot but later the room got a s...</td>\n",
       "      <td>15</td>\n",
       "      <td>9086</td>\n",
       "      <td>The staff were amazing the room was very neat</td>\n",
       "      <td>11</td>\n",
       "      <td>...</td>\n",
       "      <td>51.501910</td>\n",
       "      <td>-0.023221</td>\n",
       "      <td>0</td>\n",
       "      <td>1</td>\n",
       "      <td>0</td>\n",
       "      <td>0</td>\n",
       "      <td>0</td>\n",
       "      <td>2015</td>\n",
       "      <td>8</td>\n",
       "      <td>9</td>\n",
       "    </tr>\n",
       "  </tbody>\n",
       "</table>\n",
       "<p>3 rows × 24 columns</p>\n",
       "</div>"
      ],
      "text/plain": [
       "        Additional_Number_of_Scoring Review_Date  Average_Score  \\\n",
       "154753                           147  2016-01-14            9.1   \n",
       "461589                           297  2017-03-13            8.3   \n",
       "68701                           2682  2015-08-09            7.1   \n",
       "\n",
       "                                        Hotel_Name Reviewer_Nationality  \\\n",
       "154753              Hotel Indigo London Kensington             Finland    \n",
       "461589                                  Park Hotel             Ireland    \n",
       "68701   Britannia International Hotel Canary Wharf      United Kingdom    \n",
       "\n",
       "                                          Negative_Review  \\\n",
       "154753                                        No Negative   \n",
       "461589   Although close to the museums it did take 10 ...   \n",
       "68701    at first I was hot but later the room got a s...   \n",
       "\n",
       "        Review_Total_Negative_Word_Counts  Total_Number_of_Reviews  \\\n",
       "154753                                  0                      975   \n",
       "461589                                365                     2027   \n",
       "68701                                  15                     9086   \n",
       "\n",
       "                                          Positive_Review  \\\n",
       "154753   Well connected to Heathrow airport and to cit...   \n",
       "461589   Location Good It was close to the museums Tra...   \n",
       "68701      The staff were amazing the room was very neat    \n",
       "\n",
       "        Review_Total_Positive_Word_Counts  ...        lat       lng  \\\n",
       "154753                                 15  ...  51.492029 -0.191780   \n",
       "461589                                 51  ...  52.361381  4.883259   \n",
       "68701                                  11  ...  51.501910 -0.023221   \n",
       "\n",
       "       Hotel_City_Country_Barcelona Spain  \\\n",
       "154753                                  0   \n",
       "461589                                  0   \n",
       "68701                                   0   \n",
       "\n",
       "       Hotel_City_Country_London United Kingdom  \\\n",
       "154753                                        1   \n",
       "461589                                        0   \n",
       "68701                                         1   \n",
       "\n",
       "        Hotel_City_Country_Milan Italy  Hotel_City_Country_Paris France  \\\n",
       "154753                               0                                0   \n",
       "461589                               0                                0   \n",
       "68701                                0                                0   \n",
       "\n",
       "        Hotel_City_Country_Vienna Austria  Review_Year  Review_Month  \\\n",
       "154753                                  0         2016             1   \n",
       "461589                                  0         2017             3   \n",
       "68701                                   0         2015             8   \n",
       "\n",
       "        Review_Day  \n",
       "154753          14  \n",
       "461589          13  \n",
       "68701            9  \n",
       "\n",
       "[3 rows x 24 columns]"
      ]
     },
     "execution_count": 28,
     "metadata": {},
     "output_type": "execute_result"
    }
   ],
   "source": [
    "# extracting the year from the Review_Date column\n",
    "hotel_df['Review_Year'] = hotel_df['Review_Date'].dt.year\n",
    "\n",
    "# extracting the month from the Review_Date column\n",
    "hotel_df['Review_Month'] = hotel_df['Review_Date'].dt.month\n",
    "\n",
    "# extracting the day from the Review_Date column\n",
    "hotel_df['Review_Day'] = hotel_df['Review_Date'].dt.day\n",
    "\n",
    "# checking the results\n",
    "hotel_df.sample(3)"
   ]
  },
  {
   "cell_type": "markdown",
   "metadata": {},
   "source": [
    "We can now drop the `Review_Date` column as we have extracted the year, month, and day from the `Review_Date` column."
   ]
  },
  {
   "cell_type": "code",
   "execution_count": 29,
   "metadata": {},
   "outputs": [
    {
     "data": {
      "text/plain": [
       "Index(['Additional_Number_of_Scoring', 'Average_Score', 'Hotel_Name',\n",
       "       'Reviewer_Nationality', 'Negative_Review',\n",
       "       'Review_Total_Negative_Word_Counts', 'Total_Number_of_Reviews',\n",
       "       'Positive_Review', 'Review_Total_Positive_Word_Counts',\n",
       "       'Total_Number_of_Reviews_Reviewer_Has_Given', 'Reviewer_Score', 'Tags',\n",
       "       'days_since_review', 'lat', 'lng', 'Hotel_City_Country_Barcelona Spain',\n",
       "       'Hotel_City_Country_London United Kingdom',\n",
       "       'Hotel_City_Country_Milan Italy', 'Hotel_City_Country_Paris France',\n",
       "       'Hotel_City_Country_Vienna Austria', 'Review_Year', 'Review_Month',\n",
       "       'Review_Day'],\n",
       "      dtype='object')"
      ]
     },
     "execution_count": 29,
     "metadata": {},
     "output_type": "execute_result"
    }
   ],
   "source": [
    "# dropping the Review_Date column\n",
    "hotel_df.drop('Review_Date', axis=1, inplace=True)\n",
    "\n",
    "# checking the results  \n",
    "hotel_df.columns"
   ]
  },
  {
   "cell_type": "markdown",
   "metadata": {},
   "source": [
    "Great! We have successfully converted the `Review_Date` column into numeric values. Let's take a look at the `Hotel_Name` column.\n",
    "\n",
    "## **Hotel_Name**\n",
    "\n",
    "Lets begin by inspecting the `Hotel_Name` column."
   ]
  },
  {
   "cell_type": "code",
   "execution_count": 30,
   "metadata": {},
   "outputs": [
    {
     "name": "stdout",
     "output_type": "stream",
     "text": [
      "Britannia International Hotel Canary Wharf           4789\n",
      "Strand Palace Hotel                                  4256\n",
      "Park Plaza Westminster Bridge London                 4169\n",
      "Copthorne Tara Hotel London Kensington               3578\n",
      "DoubleTree by Hilton Hotel London Tower of London    3212\n",
      "                                                     ... \n",
      "Ibis Styles Milano Palmanova                           12\n",
      "Hotel Eitlj rg                                         12\n",
      "Hotel Wagner                                           10\n",
      "Mercure Paris Porte d Orleans                          10\n",
      "Hotel Gallitzinberg                                     8\n",
      "Name: Hotel_Name, Length: 1492, dtype: int64\n",
      "There are 1492 unique values in the Hotel_Name column.\n"
     ]
    }
   ],
   "source": [
    "# using the .value_counts() method to find the unique values in the Hotel_Name column\n",
    "v_counts = hotel_df['Hotel_Name'].value_counts()\n",
    "\n",
    "# using the nunique() method to find the number of unique values in the Hotel_Name column\n",
    "n_uniq = hotel_df['Hotel_Name'].nunique()\n",
    "\n",
    "print(v_counts)\n",
    "print(f'There are {n_uniq} unique values in the Hotel_Name column.')"
   ]
  },
  {
   "cell_type": "markdown",
   "metadata": {},
   "source": [
    "As we can see, the `Hotel_Name` column contains too many unique values. So we will need to reduce the number of unique values. We can do this by creating a new column called `Hotel_Popularity` that will contain the category of the hotel popularity based on the number of reviews.\n",
    "\n",
    "First, lets get the proportion of reviews for each hotel."
   ]
  },
  {
   "cell_type": "code",
   "execution_count": 31,
   "metadata": {},
   "outputs": [
    {
     "name": "stdout",
     "output_type": "stream",
     "text": [
      "Britannia International Hotel Canary Wharf           0.928572\n",
      "Strand Palace Hotel                                  0.825225\n",
      "Park Plaza Westminster Bridge London                 0.808356\n",
      "Copthorne Tara Hotel London Kensington               0.693763\n",
      "DoubleTree by Hilton Hotel London Tower of London    0.622797\n",
      "                                                       ...   \n",
      "Ibis Styles Milano Palmanova                         0.002327\n",
      "Hotel Eitlj rg                                       0.002327\n",
      "Hotel Wagner                                         0.001939\n",
      "Mercure Paris Porte d Orleans                        0.001939\n",
      "Hotel Gallitzinberg                                  0.001551\n",
      "Name: Hotel_Name, Length: 1492, dtype: float64\n"
     ]
    }
   ],
   "source": [
    "# finding the percentage of the column\n",
    "percentage = v_counts/hotel_df.shape[0]*100\n",
    "\n",
    "print(percentage)"
   ]
  },
  {
   "cell_type": "markdown",
   "metadata": {},
   "source": [
    "Let's take a look at the distribution of the `Hotel_Name` column to see how we can split the hotels into categories."
   ]
  },
  {
   "cell_type": "code",
   "execution_count": 32,
   "metadata": {},
   "outputs": [
    {
     "data": {
      "image/png": "[encoded data removed]",
      "text/plain": [
       "<Figure size 1000x600 with 1 Axes>"
      ]
     },
     "metadata": {},
     "output_type": "display_data"
    }
   ],
   "source": [
    "# plotting the distribution of the Hotel_Name column\n",
    "plt.figure(figsize=(10, 6))\n",
    "percentage.plot(kind='bar')\n",
    "plt.title('Distribution of Hotel Name', fontsize=16)\n",
    "plt.xlabel('Hotel Name')\n",
    "plt.ylabel('Count')\n",
    "plt.show()"
   ]
  },
  {
   "cell_type": "markdown",
   "metadata": {},
   "source": [
    "Now that we have an idea of how to split the hotels into groups, we can create a function that will return the category of the hotel popularity based on the proportion of reviews."
   ]
  },
  {
   "cell_type": "code",
   "execution_count": 33,
   "metadata": {},
   "outputs": [
    {
     "data": {
      "text/plain": [
       "Medium Popularity    246010\n",
       "Low Popularity       216740\n",
       "High Popularity       52988\n",
       "Name: Hotel_Name, dtype: int64"
      ]
     },
     "execution_count": 33,
     "metadata": {},
     "output_type": "execute_result"
    }
   ],
   "source": [
    "# grouping the hotels by the number of reviews\n",
    "low = hotel_df['Hotel_Name'].map(percentage) < 0.1\n",
    "medium = hotel_df['Hotel_Name'].map(percentage).between(0.1, 0.38)\n",
    "high = hotel_df['Hotel_Name'].map(percentage) > 0.38\n",
    "\n",
    "# using the mask() method to replace the low frequency categories with 'Low Popularity'\n",
    "hotel_df['Hotel_Name'] = hotel_df['Hotel_Name'].mask(low, 'Low Popularity')\n",
    "\n",
    "# using the mask() method to replace the medium frequency categories with 'Medium Popularity'\n",
    "hotel_df['Hotel_Name'] = hotel_df['Hotel_Name'].mask(medium, 'Medium Popularity')\n",
    "\n",
    "# using the mask() method to replace the high frequency categories with 'High Popularity'\n",
    "hotel_df['Hotel_Name'] = hotel_df['Hotel_Name'].mask(high, 'High Popularity')\n",
    "\n",
    "# checking the results\n",
    "hotel_df['Hotel_Name'].value_counts()\n"
   ]
  },
  {
   "cell_type": "markdown",
   "metadata": {},
   "source": [
    "Now that we have categorized the hotels, we rename the `Hotel_Name` column to `Hotel_Popularity`, and then convert the `Hotel_Popularity` column into numeric values using the get_dummies method."
   ]
  },
  {
   "cell_type": "code",
   "execution_count": 34,
   "metadata": {},
   "outputs": [
    {
     "data": {
      "text/plain": [
       "Index(['Additional_Number_of_Scoring', 'Average_Score', 'Reviewer_Nationality',\n",
       "       'Negative_Review', 'Review_Total_Negative_Word_Counts',\n",
       "       'Total_Number_of_Reviews', 'Positive_Review',\n",
       "       'Review_Total_Positive_Word_Counts',\n",
       "       'Total_Number_of_Reviews_Reviewer_Has_Given', 'Reviewer_Score', 'Tags',\n",
       "       'days_since_review', 'lat', 'lng', 'Hotel_City_Country_Barcelona Spain',\n",
       "       'Hotel_City_Country_London United Kingdom',\n",
       "       'Hotel_City_Country_Milan Italy', 'Hotel_City_Country_Paris France',\n",
       "       'Hotel_City_Country_Vienna Austria', 'Review_Year', 'Review_Month',\n",
       "       'Review_Day', 'Hotel_Popularity_Low Popularity',\n",
       "       'Hotel_Popularity_Medium Popularity'],\n",
       "      dtype='object')"
      ]
     },
     "execution_count": 34,
     "metadata": {},
     "output_type": "execute_result"
    }
   ],
   "source": [
    "# renaming the Hotel_Name column\n",
    "hotel_df.rename(columns={'Hotel_Name': 'Hotel_Popularity'}, inplace=True)\n",
    "\n",
    "# Using the get_dummies() method to convert the Hotel_Popularity column to dummy variables\n",
    "hotel_df2 = pd.get_dummies(hotel_df, columns=['Hotel_Popularity'], drop_first=True)\n",
    "\n",
    "# checking the results\n",
    "hotel_df2.columns"
   ]
  },
  {
   "cell_type": "markdown",
   "metadata": {},
   "source": [
    "Great! We have successfully converted the `Hotel_Name` column into a new column called `Hotel_Popularity` and then converted the `Hotel_Popularity` column into numeric values."
   ]
  },
  {
   "cell_type": "markdown",
   "metadata": {},
   "source": [
    "## **Reviewer_Nationality**\n",
    "\n",
    "Let's begin by inspecting the column."
   ]
  },
  {
   "cell_type": "code",
   "execution_count": 35,
   "metadata": {},
   "outputs": [
    {
     "name": "stdout",
     "output_type": "stream",
     "text": [
      " United Kingdom               245246\n",
      " United States of America      35437\n",
      " Australia                     21686\n",
      " Ireland                       14827\n",
      " United Arab Emirates          10235\n",
      "                               ...  \n",
      " Cape Verde                        1\n",
      " Northern Mariana Islands          1\n",
      " Tuvalu                            1\n",
      " Guinea                            1\n",
      " Palau                             1\n",
      "Name: Reviewer_Nationality, Length: 227, dtype: int64\n",
      "There are 227 unique values in the Reviewer_Nationality column.\n"
     ]
    }
   ],
   "source": [
    "# using the .value_counts() method to find the unique values in the Reviewer_Nationality column\n",
    "v_counts = hotel_df2['Reviewer_Nationality'].value_counts()\n",
    "\n",
    "# using the nunique() method to find the number of unique values in the Reviewer_Nationality column\n",
    "n_uniq = hotel_df2['Reviewer_Nationality'].nunique()\n",
    "\n",
    "print(v_counts)\n",
    "print(f'There are {n_uniq} unique values in the Reviewer_Nationality column.')"
   ]
  },
  {
   "cell_type": "markdown",
   "metadata": {},
   "source": [
    "This is a large amount of unique values. Lets take a look at the proportions to get a better understanding."
   ]
  },
  {
   "cell_type": "code",
   "execution_count": 36,
   "metadata": {},
   "outputs": [
    {
     "name": "stdout",
     "output_type": "stream",
     "text": [
      " United Kingdom               47.552439\n",
      " United States of America      6.871124\n",
      " Australia                     4.204848\n",
      " Ireland                       2.874909\n",
      " United Arab Emirates          1.984535\n",
      " Saudi Arabia                  1.735571\n",
      " Netherlands                   1.700864\n",
      " Switzerland                   1.682637\n",
      " Germany                       1.539735\n",
      " Canada                        1.530622\n",
      " France                        1.414672\n",
      " Israel                        1.281659\n",
      " Italy                         1.185486\n",
      " Belgium                       1.169392\n",
      " Turkey                        1.055575\n",
      " Kuwait                        0.953973\n",
      " Spain                         0.918490\n",
      " Romania                       0.882619\n",
      " Russia                        0.756198\n",
      " South Africa                  0.740880\n",
      "Name: Reviewer_Nationality, dtype: float64\n"
     ]
    }
   ],
   "source": [
    "# inspecting the proportions of the column.\n",
    "percent = hotel_df2['Reviewer_Nationality'].value_counts()/hotel_df2['Reviewer_Nationality'].shape*100\n",
    "\n",
    "print(percent.head(20))"
   ]
  },
  {
   "cell_type": "markdown",
   "metadata": {},
   "source": [
    "From these results, we can see that approximately 47% of the reviewers are from the United Kingdom. So in order to reduce the number of unique values, we can group the reviewers nationality proportion, under 1%, into a category called `Other`."
   ]
  },
  {
   "cell_type": "code",
   "execution_count": 37,
   "metadata": {},
   "outputs": [
    {
     "data": {
      "text/plain": [
       " United Kingdom               245246\n",
       "Other Nationalities           114576\n",
       " United States of America      35437\n",
       " Australia                     21686\n",
       " Ireland                       14827\n",
       " United Arab Emirates          10235\n",
       " Saudi Arabia                   8951\n",
       " Netherlands                    8772\n",
       " Switzerland                    8678\n",
       " Germany                        7941\n",
       " Canada                         7894\n",
       " France                         7296\n",
       " Israel                         6610\n",
       " Italy                          6114\n",
       " Belgium                        6031\n",
       " Turkey                         5444\n",
       "Name: Reviewer_Nationality, dtype: int64"
      ]
     },
     "execution_count": 37,
     "metadata": {},
     "output_type": "execute_result"
    }
   ],
   "source": [
    "# grouping the Reviewer Nationality thats under 1% to Other.\n",
    "other_n = hotel_df2['Reviewer_Nationality'].map(percent) < 1\n",
    "\n",
    "# converting to a new category called Other.\n",
    "hotel_df2['Reviewer_Nationality'] =  hotel_df2['Reviewer_Nationality'].mask(other_n, 'Other Nationalities')\n",
    "\n",
    "# inspecting result\n",
    "hotel_df2['Reviewer_Nationality'].value_counts()"
   ]
  },
  {
   "cell_type": "markdown",
   "metadata": {},
   "source": [
    "We have now reduced the amount of unique values. Let's take a look at the distribution of the `Reviewer_Nationality` column."
   ]
  },
  {
   "cell_type": "code",
   "execution_count": 38,
   "metadata": {},
   "outputs": [
    {
     "data": {
      "image/png": "[encoded data removed]",
      "text/plain": [
       "<Figure size 1000x600 with 1 Axes>"
      ]
     },
     "metadata": {},
     "output_type": "display_data"
    }
   ],
   "source": [
    "# plotting the distribution of the Reviewer_Nationality column\n",
    "plt.figure(figsize=(10, 6))\n",
    "sns.countplot(y=hotel_df['Reviewer_Nationality'], order=hotel_df2['Reviewer_Nationality'].value_counts().index)\n",
    "plt.title('Distribution of Reviewer_Nationality', fontsize=16)\n",
    "plt.xlabel('Count')\n",
    "plt.ylabel('Reviewer_Nationality')\n",
    "plt.show()"
   ]
  },
  {
   "cell_type": "markdown",
   "metadata": {},
   "source": [
    "We can now see that the other nationalities represents a larger portion when combined. We can now use the get_dummies to convert this to a numeric column."
   ]
  },
  {
   "cell_type": "code",
   "execution_count": 39,
   "metadata": {},
   "outputs": [
    {
     "data": {
      "text/plain": [
       "Index(['Additional_Number_of_Scoring', 'Average_Score', 'Negative_Review',\n",
       "       'Review_Total_Negative_Word_Counts', 'Total_Number_of_Reviews',\n",
       "       'Positive_Review', 'Review_Total_Positive_Word_Counts',\n",
       "       'Total_Number_of_Reviews_Reviewer_Has_Given', 'Reviewer_Score', 'Tags',\n",
       "       'days_since_review', 'lat', 'lng', 'Hotel_City_Country_Barcelona Spain',\n",
       "       'Hotel_City_Country_London United Kingdom',\n",
       "       'Hotel_City_Country_Milan Italy', 'Hotel_City_Country_Paris France',\n",
       "       'Hotel_City_Country_Vienna Austria', 'Review_Year', 'Review_Month',\n",
       "       'Review_Day', 'Hotel_Popularity_Low Popularity',\n",
       "       'Hotel_Popularity_Medium Popularity', 'Reviewer_Nationality_ Belgium ',\n",
       "       'Reviewer_Nationality_ Canada ', 'Reviewer_Nationality_ France ',\n",
       "       'Reviewer_Nationality_ Germany ', 'Reviewer_Nationality_ Ireland ',\n",
       "       'Reviewer_Nationality_ Israel ', 'Reviewer_Nationality_ Italy ',\n",
       "       'Reviewer_Nationality_ Netherlands ',\n",
       "       'Reviewer_Nationality_ Saudi Arabia ',\n",
       "       'Reviewer_Nationality_ Switzerland ', 'Reviewer_Nationality_ Turkey ',\n",
       "       'Reviewer_Nationality_ United Arab Emirates ',\n",
       "       'Reviewer_Nationality_ United Kingdom ',\n",
       "       'Reviewer_Nationality_ United States of America ',\n",
       "       'Reviewer_Nationality_Other Nationalities'],\n",
       "      dtype='object')"
      ]
     },
     "execution_count": 39,
     "metadata": {},
     "output_type": "execute_result"
    }
   ],
   "source": [
    "# using get_dummies to convert the Reviewer_Nationality column to dummy variables\n",
    "hotel_df3 = pd.get_dummies(hotel_df2, columns=['Reviewer_Nationality'], drop_first=True)\n",
    "\n",
    "# checking the results\n",
    "hotel_df3.columns"
   ]
  },
  {
   "cell_type": "markdown",
   "metadata": {},
   "source": [
    "Great! We have successfully converted the `Reviewer_Nationality` column into numeric values."
   ]
  },
  {
   "cell_type": "markdown",
   "metadata": {},
   "source": [
    "## **Tags**\n",
    "\n",
    "Let's begin by inspecting the column."
   ]
  },
  {
   "cell_type": "code",
   "execution_count": 40,
   "metadata": {},
   "outputs": [
    {
     "name": "stdout",
     "output_type": "stream",
     "text": [
      "[' Leisure trip ', ' Couple ', ' Double Room ', ' Stayed 1 night ', ' Submitted from a mobile device ']                                  5101\n",
      "[' Leisure trip ', ' Couple ', ' Standard Double Room ', ' Stayed 1 night ', ' Submitted from a mobile device ']                         4931\n",
      "[' Leisure trip ', ' Couple ', ' Superior Double Room ', ' Stayed 1 night ', ' Submitted from a mobile device ']                         4366\n",
      "[' Leisure trip ', ' Couple ', ' Deluxe Double Room ', ' Stayed 1 night ', ' Submitted from a mobile device ']                           3991\n",
      "[' Leisure trip ', ' Couple ', ' Double Room ', ' Stayed 2 nights ', ' Submitted from a mobile device ']                                 3291\n",
      "                                                                                                                                         ... \n",
      "[' Leisure trip ', ' Family with older children ', ' Suite Family Room ', ' Stayed 5 nights ', ' Submitted from a mobile device ']          1\n",
      "[' Business trip ', ' Travelers with friends ', ' Superior Room ', ' Stayed 1 night ', ' Submitted from a mobile device ']                  1\n",
      "[' Business trip ', ' Solo traveler ', ' Superior Double Room with Terrace ', ' Stayed 1 night ', ' Submitted from a mobile device ']       1\n",
      "[' Leisure trip ', ' Family with young children ', ' Suite Family Room ', ' Stayed 1 night ', ' Submitted from a mobile device ']           1\n",
      "[' Leisure trip ', ' Family with young children ', ' Standard Double or Twin Room ', ' Stayed 10 nights ']                                  1\n",
      "Name: Tags, Length: 55242, dtype: int64\n",
      "There are 55242 unique values in the Tags column.\n"
     ]
    }
   ],
   "source": [
    "# using the .value_counts() method to find the unique values in the Tags column\n",
    "v_counts = hotel_df3['Tags'].value_counts()\n",
    "\n",
    "# using the nunique() method to find the number of unique values in the Tags column\n",
    "n_uniq = hotel_df3['Tags'].nunique()\n",
    "\n",
    "print(v_counts)\n",
    "print(f'There are {n_uniq} unique values in the Tags column.')"
   ]
  },
  {
   "cell_type": "markdown",
   "metadata": {},
   "source": [
    "We can see that the number of tags is inconsistent throughout. To tackle this, we will create a new column that will contain the number of tags for each review. This will allow us to convert the `Tags` column into numeric values."
   ]
  },
  {
   "cell_type": "code",
   "execution_count": 41,
   "metadata": {},
   "outputs": [
    {
     "data": {
      "text/plain": [
       "5    297823\n",
       "4    211564\n",
       "3      5505\n",
       "6       755\n",
       "2        85\n",
       "1         6\n",
       "Name: Tags_Count, dtype: int64"
      ]
     },
     "execution_count": 41,
     "metadata": {},
     "output_type": "execute_result"
    }
   ],
   "source": [
    "# counting the number of tags in each row\n",
    "hotel_df3['Tags_Count'] = hotel_df3['Tags'].str.count(',') + 1\n",
    "\n",
    "# checking the results\n",
    "hotel_df3['Tags_Count'].value_counts()"
   ]
  },
  {
   "cell_type": "markdown",
   "metadata": {},
   "source": [
    "Now lets drop the `Tags` column as we have created a new column called `Number_of_Tags`.\n",
    "The `Tags` column itself could be used for feature engineering, but we will make the aurgument that the number of tags is more important than the tags themselves. The reason for this is that the tags are not ordinal, and there are too many unique values to convert to numeric values. Also, the tags look like they are similar to the `Positive_Review` and `Negative_Review` columns. So we will drop the `Tags` column."
   ]
  },
  {
   "cell_type": "code",
   "execution_count": 42,
   "metadata": {},
   "outputs": [
    {
     "data": {
      "text/plain": [
       "Index(['Additional_Number_of_Scoring', 'Average_Score', 'Negative_Review',\n",
       "       'Review_Total_Negative_Word_Counts', 'Total_Number_of_Reviews',\n",
       "       'Positive_Review', 'Review_Total_Positive_Word_Counts',\n",
       "       'Total_Number_of_Reviews_Reviewer_Has_Given', 'Reviewer_Score',\n",
       "       'days_since_review', 'lat', 'lng', 'Hotel_City_Country_Barcelona Spain',\n",
       "       'Hotel_City_Country_London United Kingdom',\n",
       "       'Hotel_City_Country_Milan Italy', 'Hotel_City_Country_Paris France',\n",
       "       'Hotel_City_Country_Vienna Austria', 'Review_Year', 'Review_Month',\n",
       "       'Review_Day', 'Hotel_Popularity_Low Popularity',\n",
       "       'Hotel_Popularity_Medium Popularity', 'Reviewer_Nationality_ Belgium ',\n",
       "       'Reviewer_Nationality_ Canada ', 'Reviewer_Nationality_ France ',\n",
       "       'Reviewer_Nationality_ Germany ', 'Reviewer_Nationality_ Ireland ',\n",
       "       'Reviewer_Nationality_ Israel ', 'Reviewer_Nationality_ Italy ',\n",
       "       'Reviewer_Nationality_ Netherlands ',\n",
       "       'Reviewer_Nationality_ Saudi Arabia ',\n",
       "       'Reviewer_Nationality_ Switzerland ', 'Reviewer_Nationality_ Turkey ',\n",
       "       'Reviewer_Nationality_ United Arab Emirates ',\n",
       "       'Reviewer_Nationality_ United Kingdom ',\n",
       "       'Reviewer_Nationality_ United States of America ',\n",
       "       'Reviewer_Nationality_Other Nationalities', 'Tags_Count'],\n",
       "      dtype='object')"
      ]
     },
     "execution_count": 42,
     "metadata": {},
     "output_type": "execute_result"
    }
   ],
   "source": [
    "# dropping the Tags column\n",
    "hotel_df3.drop('Tags', axis=1, inplace=True)\n",
    "\n",
    "# checking the results\n",
    "hotel_df3.columns"
   ]
  },
  {
   "cell_type": "markdown",
   "metadata": {},
   "source": [
    "Great! We have successfully converted the `Tags` column into a new column called `Number_of_Tags`, and then dropped the `Tags` column."
   ]
  },
  {
   "cell_type": "markdown",
   "metadata": {},
   "source": [
    "## **Days_Since_Review**\n",
    "\n",
    "Let's begin by inspecting the column."
   ]
  },
  {
   "cell_type": "code",
   "execution_count": 43,
   "metadata": {},
   "outputs": [
    {
     "name": "stdout",
     "output_type": "stream",
     "text": [
      "1 days     2585\n",
      "322 day    2308\n",
      "120 day    2284\n",
      "338 day    1963\n",
      "534 day    1940\n",
      "           ... \n",
      "327 day     199\n",
      "615 day     194\n",
      "122 day     192\n",
      "124 day     173\n",
      "123 day     143\n",
      "Name: days_since_review, Length: 731, dtype: int64\n",
      "There are 731 unique values in the days_since_review column.\n"
     ]
    }
   ],
   "source": [
    "# using the .value_counts() method to find the unique values in the days_since_review column\n",
    "v_counts = hotel_df3['days_since_review'].value_counts()\n",
    "\n",
    "# using the nunique() method to find the number of unique values in the days_since_review column\n",
    "n_uniq = hotel_df3['days_since_review'].nunique()\n",
    "\n",
    "print(v_counts)\n",
    "print(f'There are {n_uniq} unique values in the days_since_review column.')"
   ]
  },
  {
   "cell_type": "markdown",
   "metadata": {},
   "source": [
    "It looks like the `Days_Since_Review` column contains the number of days since the review was posted. We can convert this to a numeric column by removing the `days` text. This will allow us to convert the column to a numeric column."
   ]
  },
  {
   "cell_type": "code",
   "execution_count": 44,
   "metadata": {},
   "outputs": [
    {
     "data": {
      "text/plain": [
       "1          2585\n",
       "322 day    2308\n",
       "120 day    2284\n",
       "338 day    1963\n",
       "534 day    1940\n",
       "           ... \n",
       "327 day     199\n",
       "615 day     194\n",
       "122 day     192\n",
       "124 day     173\n",
       "123 day     143\n",
       "Name: days_since_review, Length: 731, dtype: int64"
      ]
     },
     "execution_count": 44,
     "metadata": {},
     "output_type": "execute_result"
    }
   ],
   "source": [
    "# removing the days text from the days_since_review column\n",
    "hotel_df3['days_since_review'] = hotel_df3['days_since_review'].str.replace('days', '')\n",
    "\n",
    "# checking the results\n",
    "hotel_df3['days_since_review'].value_counts()"
   ]
  },
  {
   "cell_type": "markdown",
   "metadata": {},
   "source": [
    "It looks like theres more text in the `Days_Since_Review` column. Let's remove them too."
   ]
  },
  {
   "cell_type": "code",
   "execution_count": 45,
   "metadata": {},
   "outputs": [
    {
     "data": {
      "text/plain": [
       "1       2585\n",
       "322     2308\n",
       "120     2284\n",
       "338     1963\n",
       "534     1940\n",
       "        ... \n",
       "327      199\n",
       "615      194\n",
       "122      192\n",
       "124      173\n",
       "123      143\n",
       "Name: days_since_review, Length: 731, dtype: int64"
      ]
     },
     "execution_count": 45,
     "metadata": {},
     "output_type": "execute_result"
    }
   ],
   "source": [
    "# removing the day text from the days_since_review column\n",
    "hotel_df3['days_since_review'] = hotel_df3['days_since_review'].str.replace('day', '')\n",
    "\n",
    "# checking the results\n",
    "hotel_df3['days_since_review'].value_counts()"
   ]
  },
  {
   "cell_type": "markdown",
   "metadata": {},
   "source": [
    "This looks much better. We can now convert the `Days_Since_Review` column to a numeric column.  "
   ]
  },
  {
   "cell_type": "code",
   "execution_count": 46,
   "metadata": {},
   "outputs": [
    {
     "data": {
      "text/plain": [
       "dtype('int64')"
      ]
     },
     "execution_count": 46,
     "metadata": {},
     "output_type": "execute_result"
    }
   ],
   "source": [
    "# converting the days_since_review column to numeric\n",
    "hotel_df3['days_since_review'] = pd.to_numeric(hotel_df3['days_since_review'])\n",
    "\n",
    "# checking the results\n",
    "hotel_df3['days_since_review'].dtype"
   ]
  },
  {
   "cell_type": "markdown",
   "metadata": {},
   "source": [
    "Fantastic! We have successfully converted the `Days_Since_Review` column into numeric values."
   ]
  },
  {
   "cell_type": "markdown",
   "metadata": {},
   "source": [
    "#### **Splitting the data into train and test sets.**\n",
    "\n",
    "We can now split the data into train and test sets. We will use 80% of the data for training and 20% for testing. We will also set the random state to 42 to ensure reproducibility. We will also set the stratify parameter to the `Reviewer_Score` column to ensure that the train and test sets have the same proportion of positive and negative reviews."
   ]
  },
  {
   "cell_type": "code",
   "execution_count": 47,
   "metadata": {},
   "outputs": [
    {
     "name": "stdout",
     "output_type": "stream",
     "text": [
      "The shape of the X_train set is (412590, 37)\n",
      "The shape of the X_test set is (103148, 37)\n",
      "The shape of the y_train set is (412590,)\n",
      "The shape of the y_test set is (103148,)\n"
     ]
    }
   ],
   "source": [
    "# importing the libraries for the model\n",
    "from sklearn.model_selection import train_test_split\n",
    "\n",
    "# splitting the data into train and test sets\n",
    "X = hotel_df3.drop('Reviewer_Score', axis=1)\n",
    "y = hotel_df3['Reviewer_Score']\n",
    "\n",
    "X_train, X_test, y_train, y_test = train_test_split(X, y, test_size=0.2, random_state=42, stratify=y)\n",
    "\n",
    "# checking the shape of the train and test sets\n",
    "print(f'The shape of the X_train set is {X_train.shape}')\n",
    "print(f'The shape of the X_test set is {X_test.shape}')\n",
    "print(f'The shape of the y_train set is {y_train.shape}')\n",
    "print(f'The shape of the y_test set is {y_test.shape}')"
   ]
  },
  {
   "cell_type": "markdown",
   "metadata": {},
   "source": [
    "Now that we have split the data into train and test sets, we can use a count vectorizer to combine the `Positive_Review` and `Negative_Review` columns with the numeric data. We will vectorize each column separately, ending up with two sparse matrixes, and then combine the three matrixes (numeric data, positive matrix, negative matrix). We will have to adjust the `min_df` parameter to ensure that the vectorizer does not ignore words that are too rare."
   ]
  },
  {
   "cell_type": "code",
   "execution_count": 48,
   "metadata": {},
   "outputs": [],
   "source": [
    "# using a count vectorizer to combine the Positive_Review and Negative_Review columns\n",
    "from sklearn.feature_extraction.text import CountVectorizer\n",
    "\n",
    "# instantiating the CountVectorizer\n",
    "cv = CountVectorizer(min_df=0.045, ngram_range=(1, 2), stop_words='english') # adjust the min_df and max_df parameters to get the best results\n",
    "\n",
    "# fitting the CountVectorizer to the Positive_Review column\n",
    "cv.fit(X_train['Positive_Review'])\n",
    "\n",
    "# transforming the Positive_Review column\n",
    "X_train_pos = cv.transform(X_train['Positive_Review'])\n",
    "\n",
    "# transforming the Positive_Review column\n",
    "X_test_pos = cv.transform(X_test['Positive_Review'])\n",
    "\n",
    "# fitting the CountVectorizer to the Negative_Review column\n",
    "cv.fit(X_train['Negative_Review'])\n",
    "\n",
    "# transforming the Negative_Review column\n",
    "X_train_neg = cv.transform(X_train['Negative_Review'])\n",
    "\n",
    "# transforming the Negative_Review column\n",
    "X_test_neg = cv.transform(X_test['Negative_Review'])\n"
   ]
  },
  {
   "cell_type": "markdown",
   "metadata": {},
   "source": [
    "Lets take a look at the feature names and see if we need to adjust the `min_df` parameter. What we are looking for is words that are too rare to be useful, and words that are too common to be useful."
   ]
  },
  {
   "cell_type": "code",
   "execution_count": 49,
   "metadata": {},
   "outputs": [
    {
     "data": {
      "text/plain": [
       "array(['bathroom', 'bed', 'bit', 'breakfast', 'hotel', 'negative', 'room',\n",
       "       'rooms', 'small', 'staff'], dtype=object)"
      ]
     },
     "execution_count": 49,
     "metadata": {},
     "output_type": "execute_result"
    }
   ],
   "source": [
    "# checking the feature names\n",
    "cv.get_feature_names_out()"
   ]
  },
  {
   "cell_type": "markdown",
   "metadata": {},
   "source": [
    " We can see that there are some words that are too rare, and some words that are too common. We will adjust the `min_df` parameter to 0.01 to ensure that the vectorizer does not ignore words that are too rare. We will also adjust the `max_df` parameter to 0.90 to ensure that the vectorizer does not ignore words that are too common. We will also set the `ngram_range` parameter to (1,2) to ensure that the vectorizer includes both unigrams and bigrams. We will also set the stop_words parameter to english to ensure that the vectorizer ignores common english words."
   ]
  },
  {
   "cell_type": "code",
   "execution_count": 50,
   "metadata": {},
   "outputs": [],
   "source": [
    "# instantiating the CountVectorizer\n",
    "cv = CountVectorizer(min_df=0.01, max_df=0.9, ngram_range=(1, 2), stop_words='english') # adjust the min_df and max_df parameters to get the best results\n",
    "\n",
    "# fitting the CountVectorizer to the Positive_Review column\n",
    "cv.fit(X_train['Positive_Review'])\n",
    "\n",
    "# transforming the Positive_Review column\n",
    "X_train_pos = cv.transform(X_train['Positive_Review'])\n",
    "\n",
    "# transforming the Positive_Review column\n",
    "X_test_pos = cv.transform(X_test['Positive_Review'])\n",
    "\n",
    "# fitting the CountVectorizer to the Negative_Review column\n",
    "cv.fit(X_train['Negative_Review'])\n",
    "\n",
    "# transforming the Negative_Review column\n",
    "X_train_neg = cv.transform(X_train['Negative_Review'])\n",
    "\n",
    "# transforming the Negative_Review column\n",
    "X_test_neg = cv.transform(X_test['Negative_Review'])"
   ]
  },
  {
   "cell_type": "code",
   "execution_count": 51,
   "metadata": {},
   "outputs": [
    {
     "data": {
      "text/plain": [
       "array(['air', 'air conditioning', 'area', 'arrived', 'asked', 'available',\n",
       "       'bad', 'bar', 'bath', 'bathroom', 'bed', 'beds', 'better', 'bit',\n",
       "       'booked', 'booking', 'breakfast', 'check', 'city', 'clean',\n",
       "       'coffee', 'cold', 'comfortable', 'conditioning', 'couldn', 'day',\n",
       "       'days', 'desk', 'did', 'didn', 'dirty', 'don', 'door', 'double',\n",
       "       'early', 'expensive', 'extra', 'facilities', 'far', 'floor',\n",
       "       'food', 'free', 'given', 'good', 'got', 'great', 'guests', 'hard',\n",
       "       'having', 'high', 'hot', 'hotel', 'hotels', 'just', 'left', 'lift',\n",
       "       'like', 'little', 'location', 'london', 'long', 'lot', 'make',\n",
       "       'money', 'morning', 'need', 'needs', 'negative', 'nice', 'night',\n",
       "       'noise', 'noisy', 'old', 'open', 'outside', 'paid', 'parking',\n",
       "       'pay', 'people', 'place', 'pool', 'poor', 'price', 'problem',\n",
       "       'quite', 'really', 'reception', 'restaurant', 'room',\n",
       "       'room service', 'room small', 'rooms', 'said', 'service', 'shower',\n",
       "       'size', 'sleep', 'slow', 'small', 'small room', 'space', 'staff',\n",
       "       'star', 'stay', 'stayed', 'street', 'tea', 'thing', 'think',\n",
       "       'time', 'times', 'tiny', 'toilet', 'told', 'took', 'tv',\n",
       "       'uncomfortable', 'use', 'view', 'walk', 'wasn', 'water', 'way',\n",
       "       'wifi', 'window', 'windows', 'work', 'working'], dtype=object)"
      ]
     },
     "execution_count": 51,
     "metadata": {},
     "output_type": "execute_result"
    }
   ],
   "source": [
    "# checking the feature names\n",
    "cv.get_feature_names_out()"
   ]
  },
  {
   "cell_type": "markdown",
   "metadata": {},
   "source": [
    "This looks better. Now that we have vectorized the `Positive_Review` and `Negative_Review` columns, we can combine the three matrixes (numeric data, positive matrix, negative matrix) into one matrix. We can do this by using the hstack method."
   ]
  },
  {
   "cell_type": "code",
   "execution_count": 52,
   "metadata": {},
   "outputs": [
    {
     "name": "stdout",
     "output_type": "stream",
     "text": [
      "The shape of the X_train set is (412590, 319)\n",
      "The shape of the X_test set is (103148, 319)\n",
      "The shape of the y_train set is (412590,)\n",
      "The shape of the y_test set is (103148,)\n"
     ]
    }
   ],
   "source": [
    "# combining the numerical data with the sparse matrix\n",
    "from scipy.sparse import hstack\n",
    "\n",
    "# combining the sparse matrix with the numerical data\n",
    "X_train = hstack([X_train_pos, X_train_neg, X_train.drop(['Positive_Review', 'Negative_Review'], axis=1)])\n",
    "\n",
    "# combining the sparse matrix with the numerical data\n",
    "X_test = hstack([X_test_pos, X_test_neg, X_test.drop(['Positive_Review', 'Negative_Review'], axis=1)])\n",
    "\n",
    "# checking the shape of the train and test sets\n",
    "print(f'The shape of the X_train set is {X_train.shape}')\n",
    "print(f'The shape of the X_test set is {X_test.shape}')\n",
    "print(f'The shape of the y_train set is {y_train.shape}')\n",
    "print(f'The shape of the y_test set is {y_test.shape}')"
   ]
  },
  {
   "cell_type": "markdown",
   "metadata": {},
   "source": [
    "Great! We have successfully combined the three matrixes (numeric data, positive matrix, negative matrix) into one matrix."
   ]
  },
  {
   "cell_type": "markdown",
   "metadata": {},
   "source": [
    "Before we move on, lets save the vectorized data as a pickle file. This will allow us to use the vectorized data in the next notebook."
   ]
  },
  {
   "cell_type": "code",
   "execution_count": 53,
   "metadata": {},
   "outputs": [],
   "source": [
    "# saving the train and test sets\n",
    "import pickle\n",
    "\n",
    "pickle.dump(X_train, open('X_train.pkl', 'wb'))\n",
    "pickle.dump(X_test, open('X_test.pkl', 'wb'))\n",
    "pickle.dump(y_train, open('y_train.pkl', 'wb'))\n",
    "pickle.dump(y_test, open('y_test.pkl', 'wb'))\n",
    " \n",
    "\n",
    "# checking if the files were saved\n",
    "# loading the train and test sets\n",
    "X_train = pickle.load(open('X_train.pkl', 'rb'))\n",
    "X_test = pickle.load(open('X_test.pkl', 'rb'))\n",
    "y_train = pickle.load(open('y_train.pkl', 'rb'))\n",
    "y_test = pickle.load(open('y_test.pkl', 'rb'))"
   ]
  },
  {
   "cell_type": "code",
   "execution_count": 54,
   "metadata": {},
   "outputs": [
    {
     "name": "stdout",
     "output_type": "stream",
     "text": [
      "(412590, 319)\n",
      "(103148, 319)\n",
      "(412590,)\n",
      "(103148,)\n"
     ]
    }
   ],
   "source": [
    "print(X_train.shape)\n",
    "print(X_test.shape)\n",
    "print(y_train.shape)\n",
    "print(y_test.shape)"
   ]
  },
  {
   "cell_type": "markdown",
   "metadata": {},
   "source": [
    "***\n",
    "\n",
    "## **Conclusion**\n",
    "\n",
    "In this project, we have successfully cleaned and prepared the data for modeling. We have also used a count vectorizer to combine the `Positive_Review` and `Negative_Review` columns with the numeric data. This will allow us to use the text data in our model in the next project."
   ]
  }
 ],
 "metadata": {
  "kernelspec": {
   "display_name": "Python 3.10.5 64-bit",
   "language": "python",
   "name": "python3"
  },
  "language_info": {
   "codemirror_mode": {
    "name": "ipython",
    "version": 3
   },
   "file_extension": ".py",
   "mimetype": "text/x-python",
   "name": "python",
   "nbconvert_exporter": "python",
   "pygments_lexer": "ipython3",
   "version": "3.10.8"
  },
  "orig_nbformat": 4,
  "vscode": {
   "interpreter": {
    "hash": "369f2c481f4da34e4445cda3fffd2e751bd1c4d706f27375911949ba6bb62e1c"
   }
  }
 },
 "nbformat": 4,
 "nbformat_minor": 2
}
